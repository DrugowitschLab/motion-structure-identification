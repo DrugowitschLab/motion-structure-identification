{
 "cells": [
  {
   "cell_type": "code",
   "execution_count": 1,
   "metadata": {
    "collapsed": true,
    "pycharm": {
     "is_executing": false,
     "name": "#%%\n"
    }
   },
   "outputs": [],
   "source": [
    "from analysis.data_analysis import test_speed, config_display\n",
    "from stimuli.motion_structure import MotionStructure\n",
    "config_display()"
   ]
  },
  {
   "cell_type": "code",
   "execution_count": 2,
   "outputs": [
    {
     "data": {
      "text/plain": "                v_dot0              v_dot1              v_dot2               v_glo               v_clu              v_ind0              v_ind1              v_ind2          \n                  mean       std      mean       std      mean       std      mean       std      mean       std      mean       std      mean       std      mean       std\nground_truth                                                                                                                                                                \nCLU           1.518127  1.172035  1.493825  1.182697  1.772260  1.344377  0.625287  0.497681  0.651729  0.514581  0.758560  0.606057  0.780839  0.541855  0.767411  0.582132\nGLO           1.609011  1.077790  1.535546  1.072570  1.640501  1.079604  0.679703  0.459774  0.694566  0.491371  0.583996  0.423981  0.732083  0.534880  0.616034  0.478264\nIND           1.461377  1.191663  1.636570  1.199800  1.737221  1.207936  0.597025  0.452031  0.787497  0.551923  0.632795  0.516005  0.708656  0.519529  0.752239  0.523052\nSDH           1.573006  1.148037  1.528899  1.129005  1.554942  1.200670  0.629971  0.513084  0.686327  0.500261  0.692744  0.525456  0.622575  0.463961  0.708959  0.517059",
      "text/html": "<div>\n<style scoped>\n    .dataframe tbody tr th:only-of-type {\n        vertical-align: middle;\n    }\n\n    .dataframe tbody tr th {\n        vertical-align: top;\n    }\n\n    .dataframe thead tr th {\n        text-align: left;\n    }\n\n    .dataframe thead tr:last-of-type th {\n        text-align: right;\n    }\n</style>\n<table border=\"1\" class=\"dataframe\">\n  <thead>\n    <tr>\n      <th></th>\n      <th colspan=\"2\" halign=\"left\">v_dot0</th>\n      <th colspan=\"2\" halign=\"left\">v_dot1</th>\n      <th colspan=\"2\" halign=\"left\">v_dot2</th>\n      <th colspan=\"2\" halign=\"left\">v_glo</th>\n      <th colspan=\"2\" halign=\"left\">v_clu</th>\n      <th colspan=\"2\" halign=\"left\">v_ind0</th>\n      <th colspan=\"2\" halign=\"left\">v_ind1</th>\n      <th colspan=\"2\" halign=\"left\">v_ind2</th>\n    </tr>\n    <tr>\n      <th></th>\n      <th>mean</th>\n      <th>std</th>\n      <th>mean</th>\n      <th>std</th>\n      <th>mean</th>\n      <th>std</th>\n      <th>mean</th>\n      <th>std</th>\n      <th>mean</th>\n      <th>std</th>\n      <th>mean</th>\n      <th>std</th>\n      <th>mean</th>\n      <th>std</th>\n      <th>mean</th>\n      <th>std</th>\n    </tr>\n    <tr>\n      <th>ground_truth</th>\n      <th></th>\n      <th></th>\n      <th></th>\n      <th></th>\n      <th></th>\n      <th></th>\n      <th></th>\n      <th></th>\n      <th></th>\n      <th></th>\n      <th></th>\n      <th></th>\n      <th></th>\n      <th></th>\n      <th></th>\n      <th></th>\n    </tr>\n  </thead>\n  <tbody>\n    <tr>\n      <th>CLU</th>\n      <td>1.518127</td>\n      <td>1.172035</td>\n      <td>1.493825</td>\n      <td>1.182697</td>\n      <td>1.772260</td>\n      <td>1.344377</td>\n      <td>0.625287</td>\n      <td>0.497681</td>\n      <td>0.651729</td>\n      <td>0.514581</td>\n      <td>0.758560</td>\n      <td>0.606057</td>\n      <td>0.780839</td>\n      <td>0.541855</td>\n      <td>0.767411</td>\n      <td>0.582132</td>\n    </tr>\n    <tr>\n      <th>GLO</th>\n      <td>1.609011</td>\n      <td>1.077790</td>\n      <td>1.535546</td>\n      <td>1.072570</td>\n      <td>1.640501</td>\n      <td>1.079604</td>\n      <td>0.679703</td>\n      <td>0.459774</td>\n      <td>0.694566</td>\n      <td>0.491371</td>\n      <td>0.583996</td>\n      <td>0.423981</td>\n      <td>0.732083</td>\n      <td>0.534880</td>\n      <td>0.616034</td>\n      <td>0.478264</td>\n    </tr>\n    <tr>\n      <th>IND</th>\n      <td>1.461377</td>\n      <td>1.191663</td>\n      <td>1.636570</td>\n      <td>1.199800</td>\n      <td>1.737221</td>\n      <td>1.207936</td>\n      <td>0.597025</td>\n      <td>0.452031</td>\n      <td>0.787497</td>\n      <td>0.551923</td>\n      <td>0.632795</td>\n      <td>0.516005</td>\n      <td>0.708656</td>\n      <td>0.519529</td>\n      <td>0.752239</td>\n      <td>0.523052</td>\n    </tr>\n    <tr>\n      <th>SDH</th>\n      <td>1.573006</td>\n      <td>1.148037</td>\n      <td>1.528899</td>\n      <td>1.129005</td>\n      <td>1.554942</td>\n      <td>1.200670</td>\n      <td>0.629971</td>\n      <td>0.513084</td>\n      <td>0.686327</td>\n      <td>0.500261</td>\n      <td>0.692744</td>\n      <td>0.525456</td>\n      <td>0.622575</td>\n      <td>0.463961</td>\n      <td>0.708959</td>\n      <td>0.517059</td>\n    </tr>\n  </tbody>\n</table>\n</div>"
     },
     "metadata": {},
     "output_type": "execute_result",
     "execution_count": 2
    }
   ],
   "source": [
    "test_speed('../data/pilot_sichao.dat', structures={\n",
    "    'IND': MotionStructure(0, 2),\n",
    "    'GLO': MotionStructure(1, 1 / 4),\n",
    "    'CLU': MotionStructure(0, 1 / 4),\n",
    "    'SDH': MotionStructure(2 / 3, 1 / 4)\n",
    "})"
   ],
   "metadata": {
    "collapsed": false,
    "pycharm": {
     "name": "#%%\n",
     "is_executing": false
    }
   }
  },
  {
   "cell_type": "code",
   "execution_count": null,
   "outputs": [],
   "source": [],
   "metadata": {
    "collapsed": false,
    "pycharm": {
     "name": "#%%\n"
    }
   }
  }
 ],
 "metadata": {
  "language_info": {
   "codemirror_mode": {
    "name": "ipython",
    "version": 2
   },
   "file_extension": ".py",
   "mimetype": "text/x-python",
   "name": "python",
   "nbconvert_exporter": "python",
   "pygments_lexer": "ipython2",
   "version": "2.7.6"
  },
  "kernelspec": {
   "name": "pycharm-de948503",
   "language": "python",
   "display_name": "PyCharm (Readings)"
  },
  "pycharm": {
   "stem_cell": {
    "cell_type": "raw",
    "source": [],
    "metadata": {
     "collapsed": false
    }
   }
  }
 },
 "nbformat": 4,
 "nbformat_minor": 0
}
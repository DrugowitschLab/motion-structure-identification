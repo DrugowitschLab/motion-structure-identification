{
 "cells": [
  {
   "cell_type": "code",
   "execution_count": 1,
   "outputs": [
    {
     "name": "stdout",
     "output_type": "stream",
     "text": [
      "1\n",
      "2\n",
      "3\n",
      "4\n",
      "5\n",
      "6\n",
      "7\n",
      "8\n",
      "9\n",
      "10\n",
      "11\n",
      "12\n",
      "[-140.07478130121942, -182.74164899310506, -159.37350756628325, -207.95776441422927, -170.7555834385773, -188.98442210610466, -127.90321455890141, -213.66927625426968, -160.6499215151079, -208.08358600112, -158.77523213201368, -182.50529880054324]\n",
      "[-171.7527448476336, -200.85679120720593, -194.2143185449103, -216.63373307298482, -211.56662296499763, -215.0313740045158, -164.91636047718322, -223.97147813901364, -207.31196636032837, -225.16108246048904, -175.96544911470752, -200.62244219747146]\n"
     ]
    }
   ],
   "source": [
    "import multiprocessing as mp\n",
    "import numpy as np\n",
    "from analysis.data_exp1 import DataExp1\n",
    "from analysis import models\n",
    "\n",
    "def run(seed: int) -> float:\n",
    "    np.random.seed(seed)\n",
    "    df = data.cross_validate(models.ChoiceModel4Param, shuffle=True)\n",
    "    df['choice'] = data.df['choice']\n",
    "    return np.log(df.apply(lambda row: row[row['choice']], axis=1)).sum()\n",
    "\n",
    "original, shuffled = [], []\n",
    "\n",
    "for pid in DataExp1.pids:\n",
    "    print(pid)\n",
    "    data = DataExp1(pid)\n",
    "    df = data.cross_validate(models.ChoiceModel4Param)\n",
    "    df['choice'] = data.df['choice']\n",
    "    original.append(np.log(df.apply(lambda row: row[row['choice']], axis=1)).sum())\n",
    "    with mp.Pool(processes=10) as pool:\n",
    "        res = np.array(pool.map(run, range(100)))\n",
    "    shuffled.append(res.mean())\n",
    "\n",
    "print(original)\n",
    "print(shuffled)\n",
    "\n",
    "import pickle\n",
    "with open('../data/shuffled.dat', 'wb+') as f:\n",
    "    pickle.dump(original, f)\n",
    "    pickle.dump(shuffled, f)\n"
   ],
   "metadata": {
    "collapsed": false,
    "pycharm": {
     "name": "#%%\n"
    }
   }
  }
 ],
 "metadata": {
  "kernelspec": {
   "display_name": "Python 3",
   "language": "python",
   "name": "python3"
  },
  "language_info": {
   "codemirror_mode": {
    "name": "ipython",
    "version": 2
   },
   "file_extension": ".py",
   "mimetype": "text/x-python",
   "name": "python",
   "nbconvert_exporter": "python",
   "pygments_lexer": "ipython2",
   "version": "2.7.6"
  }
 },
 "nbformat": 4,
 "nbformat_minor": 0
}
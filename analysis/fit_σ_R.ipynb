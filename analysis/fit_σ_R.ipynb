{
 "cells": [
  {
   "cell_type": "code",
   "execution_count": 1,
   "metadata": {
    "collapsed": true,
    "pycharm": {
     "is_executing": false
    }
   },
   "outputs": [
    {
     "name": "stdout",
     "text": [
      "(200, 203, 8)\n"
     ],
     "output_type": "stream"
    }
   ],
   "source": [
    "from utils.data import load_data\n",
    "import numpy as np\n",
    "import pandas as pd\n",
    "s = ['IND', 'GLO', 'CLU_012', 'CLU_120', 'CLU_201', 'SDH_012', 'SDH_120', 'SDH_201']\n",
    "df_pilot = pd.read_csv(f'../data/pilot_0.csv')[['ground_truth', 'Johannes_choice', 'Sichao_choice']]\n",
    "data = load_data('../data/sichao/pilot_sichao.dat')\n",
    "φ, t = [], []\n",
    "for trial in data:\n",
    "    φ.append(trial['phi'])\n",
    "    t.append(trial['t'])\n",
    "φ, t = np.array(φ), np.array(t)\n",
    "rng = np.random.RandomState()\n",
    "dx = rng.normal(size=φ.shape)\n",
    "print(dx.shape)"
   ]
  },
  {
   "cell_type": "code",
   "execution_count": 11,
   "outputs": [],
   "source": [
    "from analysis.kalman_filter import apply_filters_on_trial\n",
    "from analysis.model import fit\n",
    "import pickle\n",
    "\n",
    "def loss_fun(σ_R):\n",
    "    x = φ + σ_R[0] * dx\n",
    "    vals = []\n",
    "    for i in range(x.shape[0]):\n",
    "        vals.append(np.array(apply_filters_on_trial(x[i], t[i], σ_R)).sum(axis=1))\n",
    "    df = pd.DataFrame(vals, columns=s)\n",
    "    df['target'] = df_pilot[target]\n",
    "    res = fit(df, 'target', np.array([0.1, 0., 0., 0.]), disp=False)\n",
    "    pickle.dump(res, f)\n",
    "    print(σ_R[0], res)\n",
    "    return res.fun"
   ],
   "metadata": {
    "collapsed": false,
    "pycharm": {
     "name": "#%%\n",
     "is_executing": false
    }
   }
  },
  {
   "cell_type": "code",
   "execution_count": 12,
   "outputs": [
    {
     "name": "stdout",
     "text": [
      "0.01      fun: 157.9429669030112\n     jac: array([-4.42390442e-02,  1.90734863e-06,  3.81469727e-06,  5.72204590e-06])\n message: 'Optimization terminated successfully.'\n    nfev: 241\n     nit: 39\n    njev: 39\n  status: 0\n success: True\n       x: array([1.18150069e-02, 3.38549465e+02, 1.69047053e+02, 1.14056044e+02])\n",
      "0.01      fun: 157.9429669030112\n     jac: array([-4.42390442e-02,  1.90734863e-06,  3.81469727e-06,  5.72204590e-06])\n message: 'Optimization terminated successfully.'\n    nfev: 241\n     nit: 39\n    njev: 39\n  status: 0\n success: True\n       x: array([1.18150069e-02, 3.38549465e+02, 1.69047053e+02, 1.14056044e+02])\n",
      "0.01000001      fun: 157.94296375057723\n     jac: array([-2.13432312e-02,  1.90734863e-06, -3.81469727e-06,  7.62939453e-06])\n message: 'Optimization terminated successfully.'\n    nfev: 241\n     nit: 39\n    njev: 39\n  status: 0\n success: True\n       x: array([1.18150548e-02, 3.38543010e+02, 1.69041185e+02, 1.14050988e+02])\n",
      "0.010000022202730163      fun: 157.94295990235508\n     jac: array([-2.36320496e-02, -3.81469727e-06, -3.81469727e-06, -3.81469727e-06])\n message: 'Optimization terminated successfully.'\n    nfev: 241\n     nit: 39\n    njev: 39\n  status: 0\n success: True\n       x: array([1.18150209e-02, 3.38544621e+02, 1.69042783e+02, 1.14051119e+02])\n",
      "0.010000022202730163      fun: 157.94295990235508\n     jac: array([-2.36320496e-02, -3.81469727e-06, -3.81469727e-06, -3.81469727e-06])\n message: 'Optimization terminated successfully.'\n    nfev: 241\n     nit: 39\n    njev: 39\n  status: 0\n success: True\n       x: array([1.18150209e-02, 3.38544621e+02, 1.69042783e+02, 1.14051119e+02])\n",
      "0.010000032202730163      fun: 157.94295677278689\n     jac: array([-4.70294952e-02,  0.00000000e+00, -1.90734863e-06,  0.00000000e+00])\n message: 'Optimization terminated successfully.'\n    nfev: 241\n     nit: 39\n    njev: 39\n  status: 0\n success: True\n       x: array([1.18150152e-02, 3.38551724e+02, 1.69048939e+02, 1.14057979e+02])\n",
      "0.010003061021784054      fun: 157.9420030093188\n     jac: array([-1.31141663e-01, -1.52587891e-05,  3.81469727e-06,  0.00000000e+00])\n message: 'Optimization terminated successfully.'\n    nfev: 229\n     nit: 37\n    njev: 37\n  status: 0\n success: True\n       x: array([1.18171833e-02, 3.38467050e+02, 1.69000744e+02, 1.14018556e+02])\n",
      "0.010003061021784054      fun: 157.9420030093188\n     jac: array([-1.31141663e-01, -1.52587891e-05,  3.81469727e-06,  0.00000000e+00])\n message: 'Optimization terminated successfully.'\n    nfev: 229\n     nit: 37\n    njev: 37\n  status: 0\n success: True\n       x: array([1.18171833e-02, 3.38467050e+02, 1.69000744e+02, 1.14018556e+02])\n",
      "0.010003071021784054      fun: 157.94199981538927\n     jac: array([-1.28448486e-01, -9.53674316e-06,  5.72204590e-06,  5.72204590e-06])\n message: 'Optimization terminated successfully.'\n    nfev: 229\n     nit: 37\n    njev: 37\n  status: 0\n success: True\n       x: array([1.18171897e-02, 3.38471278e+02, 1.69004049e+02, 1.14022289e+02])\n",
      "0.010018366130704115      fun: 157.9371898504462\n     jac: array([ 2.38954544e-01,  2.09808350e-05,  3.81469727e-06, -3.43322754e-05])\n message: 'Optimization terminated successfully.'\n    nfev: 241\n     nit: 39\n    njev: 39\n  status: 0\n success: True\n       x: array([1.18281847e-02, 3.38165521e+02, 1.68839615e+02, 1.13902737e+02])\n",
      "0.010018366130704115      fun: 157.9371898504462\n     jac: array([ 2.38954544e-01,  2.09808350e-05,  3.81469727e-06, -3.43322754e-05])\n message: 'Optimization terminated successfully.'\n    nfev: 241\n     nit: 39\n    njev: 39\n  status: 0\n success: True\n       x: array([1.18281847e-02, 3.38165521e+02, 1.68839615e+02, 1.13902737e+02])\n",
      "0.010018376130704115      fun: 157.93718679741897\n     jac: array([ 2.60566711e-01,  2.86102295e-05,  7.62939453e-06, -3.43322754e-05])\n message: 'Optimization terminated successfully.'\n    nfev: 241\n     nit: 39\n    njev: 39\n  status: 0\n success: True\n       x: array([1.18281491e-02, 3.38173714e+02, 1.68845502e+02, 1.13907778e+02])\n",
      "0.010400993853706408      fun: 157.82038419305292\n     jac: array([ 5.45253754e-02,  3.43322754e-05,  2.67028809e-05, -4.95910645e-05])\n message: 'Optimization terminated successfully.'\n    nfev: 248\n     nit: 40\n    njev: 40\n  status: 0\n success: True\n       x: array([1.21030184e-02, 3.30338077e+02, 1.64736021e+02, 1.11049758e+02])\n",
      "0.010400993853706408      fun: 157.82038419305292\n     jac: array([ 5.45253754e-02,  3.43322754e-05,  2.67028809e-05, -4.95910645e-05])\n message: 'Optimization terminated successfully.'\n    nfev: 248\n     nit: 40\n    njev: 40\n  status: 0\n success: True\n       x: array([1.21030184e-02, 3.30338077e+02, 1.64736021e+02, 1.11049758e+02])\n",
      "0.010401003853706408      fun: 157.8203812274086\n     jac: array([-1.85007095e-01,  3.05175781e-05,  2.67028809e-05, -4.19616699e-05])\n message: 'Optimization terminated successfully.'\n    nfev: 248\n     nit: 40\n    njev: 40\n  status: 0\n success: True\n       x: array([1.21030592e-02, 3.30336977e+02, 1.64736234e+02, 1.11050272e+02])\n",
      "0.0582294592289922      fun: 156.44861431919037\n     jac: array([-1.96876526e-02, -3.81469727e-06, -3.81469727e-06,  1.14440918e-05])\n message: 'Optimization terminated successfully.'\n    nfev: 178\n     nit: 28\n    njev: 28\n  status: 0\n success: True\n       x: array([3.31296515e-02, 1.15151835e+02, 5.34981609e+01, 3.38363984e+01])\n",
      "0.0582294592289922      fun: 156.44861431919037\n     jac: array([-1.96876526e-02, -3.81469727e-06, -3.81469727e-06,  1.14440918e-05])\n message: 'Optimization terminated successfully.'\n    nfev: 178\n     nit: 28\n    njev: 28\n  status: 0\n success: True\n       x: array([3.31296515e-02, 1.15151835e+02, 5.34981609e+01, 3.38363984e+01])\n",
      "0.0582294692289922      fun: 156.44861449321215\n     jac: array([-2.56347656e-02, -9.53674316e-06, -5.72204590e-06,  1.71661377e-05])\n message: 'Optimization terminated successfully.'\n    nfev: 178\n     nit: 28\n    njev: 28\n  status: 0\n success: True\n       x: array([3.31296505e-02, 1.15151702e+02, 5.34981580e+01, 3.38365021e+01])\n",
      "0.05822945917478578      fun: 156.4486143215108\n     jac: array([-2.53715515e-02, -9.53674316e-06, -9.53674316e-06,  1.52587891e-05])\n message: 'Optimization terminated successfully.'\n    nfev: 178\n     nit: 28\n    njev: 28\n  status: 0\n success: True\n       x: array([3.31296911e-02, 1.15150995e+02, 5.34975851e+01, 3.38359710e+01])\n",
      "0.05822945917478578      fun: 156.4486143215108\n     jac: array([-2.53715515e-02, -9.53674316e-06, -9.53674316e-06,  1.52587891e-05])\n message: 'Optimization terminated successfully.'\n    nfev: 178\n     nit: 28\n    njev: 28\n  status: 0\n success: True\n       x: array([3.31296911e-02, 1.15150995e+02, 5.34975851e+01, 3.38359710e+01])\n",
      "0.05822946917478578      fun: 156.44861450299084\n     jac: array([-3.58867645e-02, -1.14440918e-05, -3.81469727e-06,  3.05175781e-05])\n message: 'Optimization terminated successfully.'\n    nfev: 178\n     nit: 28\n    njev: 28\n  status: 0\n success: True\n       x: array([3.31296429e-02, 1.15152164e+02, 5.34988147e+01, 3.38373733e+01])\n",
      "0.05570636050706629      fun: 156.40585485043877\n     jac: array([ 1.64125443e-01,  6.29425049e-05,  5.72204590e-05, -4.57763672e-05])\n message: 'Optimization terminated successfully.'\n    nfev: 191\n     nit: 30\n    njev: 30\n  status: 0\n success: True\n       x: array([3.22795639e-02, 1.18349777e+02, 5.51150314e+01, 3.49288468e+01])\n",
      "0.05570636050706629      fun: 156.40585485043877\n     jac: array([ 1.64125443e-01,  6.29425049e-05,  5.72204590e-05, -4.57763672e-05])\n message: 'Optimization terminated successfully.'\n    nfev: 191\n     nit: 30\n    njev: 30\n  status: 0\n success: True\n       x: array([3.22795639e-02, 1.18349777e+02, 5.51150314e+01, 3.49288468e+01])\n",
      "0.05570637050706629      fun: 156.4058550224713\n     jac: array([ 1.61409378e-01,  6.29425049e-05,  5.53131104e-05, -4.00543213e-05])\n message: 'Optimization terminated successfully.'\n    nfev: 191\n     nit: 30\n    njev: 30\n  status: 0\n success: True\n       x: array([3.22795678e-02, 1.18349921e+02, 5.51151264e+01, 3.49291085e+01])\n",
      "0.0430908668974368      fun: 156.1959036530539\n     jac: array([-1.82796478e-01, -7.05718994e-05,  4.57763672e-05,  7.24792480e-05])\n message: 'Optimization terminated successfully.'\n    nfev: 149\n     nit: 23\n    njev: 23\n  status: 0\n success: True\n       x: array([2.78352492e-02, 1.38378408e+02, 6.52896048e+01, 4.18635251e+01])\n",
      "0.0430908668974368      fun: 156.1959036530539\n     jac: array([-1.82796478e-01, -7.05718994e-05,  4.57763672e-05,  7.24792480e-05])\n message: 'Optimization terminated successfully.'\n    nfev: 149\n     nit: 23\n    njev: 23\n  status: 0\n success: True\n       x: array([2.78352492e-02, 1.38378408e+02, 6.52896048e+01, 4.18635251e+01])\n",
      "0.0430908768974368      fun: 156.19590339540161\n     jac: array([-2.25955963e-01, -6.48498535e-05,  3.81469727e-05,  8.96453857e-05])\n message: 'Optimization terminated successfully.'\n    nfev: 150\n     nit: 23\n    njev: 23\n  status: 0\n success: True\n       x: array([2.78355126e-02, 1.38375189e+02, 6.52824337e+01, 4.18546393e+01])\n",
      "0.049398613702251515      fun: 156.30134295175472\n     jac: array([-4.41398621e-02, -5.72204590e-06,  4.38690186e-05,  1.71661377e-05])\n message: 'Optimization terminated successfully.'\n    nfev: 190\n     nit: 30\n    njev: 30\n  status: 0\n success: True\n       x: array([3.00978525e-02, 1.27383892e+02, 5.96888863e+01, 3.80300012e+01])\n",
      "0.049398613702251515      fun: 156.30134295175472\n     jac: array([-4.41398621e-02, -5.72204590e-06,  4.38690186e-05,  1.71661377e-05])\n message: 'Optimization terminated successfully.'\n    nfev: 190\n     nit: 30\n    njev: 30\n  status: 0\n success: True\n       x: array([3.00978525e-02, 1.27383892e+02, 5.96888863e+01, 3.80300012e+01])\n",
      "0.049398623702251516      fun: 156.3013431302869\n     jac: array([-4.18586731e-02, -3.81469727e-06,  4.57763672e-05,  1.52587891e-05])\n message: 'Optimization terminated successfully.'\n    nfev: 190\n     nit: 30\n    njev: 30\n  status: 0\n success: True\n       x: array([3.00978578e-02, 1.27384188e+02, 5.96891086e+01, 3.80302226e+01])\n",
      "0.046244740299844156      fun: 156.24882058785545\n     jac: array([-2.32582092e-02, -1.52587891e-05,  1.90734863e-06,  2.67028809e-05])\n message: 'Optimization terminated successfully.'\n    nfev: 184\n     nit: 29\n    njev: 29\n  status: 0\n success: True\n       x: array([2.89783281e-02, 1.32588341e+02, 6.23320110e+01, 3.98326564e+01])\n",
      "0.046244740299844156      fun: 156.24882058785545\n     jac: array([-2.32582092e-02, -1.52587891e-05,  1.90734863e-06,  2.67028809e-05])\n message: 'Optimization terminated successfully.'\n    nfev: 184\n     nit: 29\n    njev: 29\n  status: 0\n success: True\n       x: array([2.89783281e-02, 1.32588341e+02, 6.23320110e+01, 3.98326564e+01])\n",
      "0.04624475029984416      fun: 156.24882076035658\n     jac: array([-2.44197845e-02, -1.90734863e-05,  0.00000000e+00,  2.67028809e-05])\n message: 'Optimization terminated successfully.'\n    nfev: 184\n     nit: 29\n    njev: 29\n  status: 0\n success: True\n       x: array([2.89783436e-02, 1.32588540e+02, 6.23322880e+01, 3.98329912e+01])\n",
      "0.044667803598640476      fun: 156.2223702358209\n     jac: array([ 8.67271423e-03,  1.14440918e-05,  4.57763672e-05, -6.48498535e-05])\n message: 'Optimization terminated successfully.'\n    nfev: 166\n     nit: 26\n    njev: 26\n  status: 0\n success: True\n       x: array([2.84093311e-02, 1.35404637e+02, 6.37661962e+01, 4.08105820e+01])\n",
      "0.044667803598640476      fun: 156.2223702358209\n     jac: array([ 8.67271423e-03,  1.14440918e-05,  4.57763672e-05, -6.48498535e-05])\n message: 'Optimization terminated successfully.'\n    nfev: 166\n     nit: 26\n    njev: 26\n  status: 0\n success: True\n       x: array([2.84093311e-02, 1.35404637e+02, 6.37661962e+01, 4.08105820e+01])\n",
      "0.04466781359864048      fun: 156.22237039732101\n     jac: array([ 9.76753235e-03,  1.14440918e-05,  4.95910645e-05, -5.91278076e-05])\n message: 'Optimization terminated successfully.'\n    nfev: 166\n     nit: 26\n    njev: 26\n  status: 0\n success: True\n       x: array([2.84093802e-02, 1.35404869e+02, 6.37666052e+01, 4.08110777e+01])\n",
      "0.04387933524803861      fun: 156.2091289429324\n     jac: array([-1.31168365e-02,  0.00000000e+00,  0.00000000e+00, -3.81469727e-06])\n message: 'Optimization terminated successfully.'\n    nfev: 172\n     nit: 27\n    njev: 27\n  status: 0\n success: True\n       x: array([2.81233747e-02, 1.36868615e+02, 6.45127089e+01, 4.13256352e+01])\n",
      "0.04387933524803861      fun: 156.2091289429324\n     jac: array([-1.31168365e-02,  0.00000000e+00,  0.00000000e+00, -3.81469727e-06])\n message: 'Optimization terminated successfully.'\n    nfev: 172\n     nit: 27\n    njev: 27\n  status: 0\n success: True\n       x: array([2.81233747e-02, 1.36868615e+02, 6.45127089e+01, 4.13256352e+01])\n",
      "0.04387934524803861      fun: 156.20912911572896\n     jac: array([-1.46980286e-02,  3.81469727e-06,  3.81469727e-06,  0.00000000e+00])\n message: 'Optimization terminated successfully.'\n    nfev: 172\n     nit: 27\n    njev: 27\n  status: 0\n success: True\n       x: array([2.81233312e-02, 1.36870234e+02, 6.45140115e+01, 4.13270096e+01])\n",
      "0.04348510107273773      fun: 156.2025125952162\n     jac: array([ 2.00462341e-02, -5.72204590e-06,  1.52587891e-05, -1.52587891e-05])\n message: 'Optimization terminated successfully.'\n    nfev: 172\n     nit: 27\n    njev: 27\n  status: 0\n success: True\n       x: array([2.79799222e-02, 1.37614974e+02, 6.48942185e+01, 4.15871404e+01])\n",
      "0.04348510107273773      fun: 156.2025125952162\n     jac: array([ 2.00462341e-02, -5.72204590e-06,  1.52587891e-05, -1.52587891e-05])\n message: 'Optimization terminated successfully.'\n    nfev: 172\n     nit: 27\n    njev: 27\n  status: 0\n success: True\n       x: array([2.79799222e-02, 1.37614974e+02, 6.48942185e+01, 4.15871404e+01])\n",
      "0.04348511107273773      fun: 156.20251276167582\n     jac: array([ 1.91669464e-02, -9.53674316e-06,  1.33514404e-05, -1.14440918e-05])\n message: 'Optimization terminated successfully.'\n    nfev: 172\n     nit: 27\n    njev: 27\n  status: 0\n success: True\n       x: array([2.79799443e-02, 1.37614831e+02, 6.48940507e+01, 4.15871582e+01])\n",
      "0.043287983985087264      fun: 156.199206957603\n     jac: array([ 8.88824463e-03,  5.14984131e-05, -1.52587891e-05, -3.05175781e-05])\n message: 'Optimization terminated successfully.'\n    nfev: 166\n     nit: 26\n    njev: 26\n  status: 0\n success: True\n       x: array([2.79068619e-02, 1.38000603e+02, 6.50889221e+01, 4.17209219e+01])\n",
      "0.043287983985087264      fun: 156.199206957603\n     jac: array([ 8.88824463e-03,  5.14984131e-05, -1.52587891e-05, -3.05175781e-05])\n message: 'Optimization terminated successfully.'\n    nfev: 166\n     nit: 26\n    njev: 26\n  status: 0\n success: True\n       x: array([2.79068619e-02, 1.38000603e+02, 6.50889221e+01, 4.17209219e+01])\n",
      "0.043287993985087266      fun: 156.19920711748279\n     jac: array([ 1.13487244e-02,  5.34057617e-05, -2.09808350e-05, -3.05175781e-05])\n message: 'Optimization terminated successfully.'\n    nfev: 166\n     nit: 26\n    njev: 26\n  status: 0\n success: True\n       x: array([2.79068955e-02, 1.37999458e+02, 6.50878269e+01, 4.17198833e+01])\n",
      "0.04318942544126203      fun: 156.1975547936736\n     jac: array([ 1.33085251e-01,  3.05175781e-05,  3.81469727e-06, -1.52587891e-05])\n message: 'Optimization terminated successfully.'\n    nfev: 155\n     nit: 24\n    njev: 24\n  status: 0\n success: True\n       x: array([2.78723539e-02, 1.38187682e+02, 6.51869769e+01, 4.17900245e+01])\n",
      "0.04318942544126203      fun: 156.1975547936736\n     jac: array([ 1.33085251e-01,  3.05175781e-05,  3.81469727e-06, -1.52587891e-05])\n message: 'Optimization terminated successfully.'\n    nfev: 155\n     nit: 24\n    njev: 24\n  status: 0\n success: True\n       x: array([2.78723539e-02, 1.38187682e+02, 6.51869769e+01, 4.17900245e+01])\n",
      "0.04318943544126203      fun: 156.1975549828142\n     jac: array([ 1.33758545e-01,  2.86102295e-05,  3.81469727e-06, -1.52587891e-05])\n message: 'Optimization terminated successfully.'\n    nfev: 155\n     nit: 24\n    njev: 24\n  status: 0\n success: True\n       x: array([2.78723636e-02, 1.38188710e+02, 6.51879941e+01, 4.17910763e+01])\n",
      "0.043140146169349414      fun: 156.1967289343757\n     jac: array([ 9.63726044e-02,  5.72204590e-06,  1.54495239e-04, -1.56402588e-04])\n message: 'Optimization terminated successfully.'\n    nfev: 161\n     nit: 25\n    njev: 25\n  status: 0\n success: True\n       x: array([2.78533663e-02, 1.38282839e+02, 6.52356949e+01, 4.18217650e+01])\n",
      "0.043140146169349414      fun: 156.1967289343757\n     jac: array([ 9.63726044e-02,  5.72204590e-06,  1.54495239e-04, -1.56402588e-04])\n message: 'Optimization terminated successfully.'\n    nfev: 161\n     nit: 25\n    njev: 25\n  status: 0\n success: True\n       x: array([2.78533663e-02, 1.38282839e+02, 6.52356949e+01, 4.18217650e+01])\n",
      "0.043140156169349415      fun: 156.19672910056426\n     jac: array([ 9.75475311e-02,  7.62939453e-06,  1.60217285e-04, -1.56402588e-04])\n message: 'Optimization terminated successfully.'\n    nfev: 161\n     nit: 25\n    njev: 25\n  status: 0\n success: True\n       x: array([2.78533536e-02, 1.38282154e+02, 6.52350938e+01, 4.18209597e+01])\n",
      "0.04311550653339308      fun: 156.19631608799392\n     jac: array([-5.44891357e-02,  5.72204590e-06, -5.72204590e-06,  2.67028809e-05])\n message: 'Optimization terminated successfully.'\n    nfev: 172\n     nit: 27\n    njev: 27\n  status: 0\n success: True\n       x: array([2.78442133e-02, 1.38331135e+02, 6.52604713e+01, 4.18412918e+01])\n",
      "0.04311550653339308      fun: 156.19631608799392\n     jac: array([-5.44891357e-02,  5.72204590e-06, -5.72204590e-06,  2.67028809e-05])\n message: 'Optimization terminated successfully.'\n    nfev: 172\n     nit: 27\n    njev: 27\n  status: 0\n success: True\n       x: array([2.78442133e-02, 1.38331135e+02, 6.52604713e+01, 4.18412918e+01])\n",
      "0.04311551653339308      fun: 156.19631626216378\n     jac: array([-5.60131073e-02,  1.90734863e-06, -5.72204590e-06,  2.67028809e-05])\n message: 'Optimization terminated successfully.'\n    nfev: 172\n     nit: 27\n    njev: 27\n  status: 0\n success: True\n       x: array([2.78441948e-02, 1.38331433e+02, 6.52606515e+01, 4.18415108e+01])\n",
      "0.043103186715414965      fun: 156.19610983544987\n     jac: array([-5.90744019e-02, -2.47955322e-05,  4.95910645e-05,  2.47955322e-05])\n message: 'Optimization terminated successfully.'\n    nfev: 160\n     nit: 25\n    njev: 25\n  status: 0\n success: True\n       x: array([2.78399714e-02, 1.38356507e+02, 6.52771655e+01, 4.18533590e+01])\n",
      "0.043103186715414965      fun: 156.19610983544987\n     jac: array([-5.90744019e-02, -2.47955322e-05,  4.95910645e-05,  2.47955322e-05])\n message: 'Optimization terminated successfully.'\n    nfev: 160\n     nit: 25\n    njev: 25\n  status: 0\n success: True\n       x: array([2.78399714e-02, 1.38356507e+02, 6.52771655e+01, 4.18533590e+01])\n",
      "0.04310319671541497      fun: 156.19611011123993\n     jac: array([-5.97610474e-02, -1.52587891e-05,  4.38690186e-05,  3.24249268e-05])\n message: 'Optimization terminated successfully.'\n    nfev: 160\n     nit: 25\n    njev: 25\n  status: 0\n success: True\n       x: array([2.78398724e-02, 1.38359561e+02, 6.52791019e+01, 4.18557016e+01])\n",
      "0.04309702680642585      fun: 156.1960066854051\n     jac: array([-3.42121124e-02, -6.10351562e-05,  1.06811523e-04, -2.67028809e-05])\n message: 'Optimization terminated successfully.'\n    nfev: 160\n     nit: 25\n    njev: 25\n  status: 0\n success: True\n       x: array([2.78380757e-02, 1.38360137e+02, 6.52793762e+01, 4.18509468e+01])\n",
      "0.04309702680642585      fun: 156.1960066854051\n     jac: array([-3.42121124e-02, -6.10351562e-05,  1.06811523e-04, -2.67028809e-05])\n message: 'Optimization terminated successfully.'\n    nfev: 160\n     nit: 25\n    njev: 25\n  status: 0\n success: True\n       x: array([2.78380757e-02, 1.38360137e+02, 6.52793762e+01, 4.18509468e+01])\n",
      "0.043097036806425855      fun: 156.19600685603967\n     jac: array([-2.80284882e-02, -6.29425049e-05,  1.06811523e-04, -2.28881836e-05])\n message: 'Optimization terminated successfully.'\n    nfev: 160\n     nit: 25\n    njev: 25\n  status: 0\n success: True\n       x: array([2.78381760e-02, 1.38359520e+02, 6.52790071e+01, 4.18507351e+01])\n",
      "0.04309394685193135      fun: 156.19595491792816\n     jac: array([ 2.13623047e-04, -4.00543213e-05,  5.14984131e-05, -1.90734863e-06])\n message: 'Optimization terminated successfully.'\n    nfev: 154\n     nit: 24\n    njev: 24\n  status: 0\n success: True\n       x: array([2.78371759e-02, 1.38366602e+02, 6.52807192e+01, 4.18534386e+01])\n",
      "0.04309394685193135      fun: 156.19595491792816\n     jac: array([ 2.13623047e-04, -4.00543213e-05,  5.14984131e-05, -1.90734863e-06])\n message: 'Optimization terminated successfully.'\n    nfev: 154\n     nit: 24\n    njev: 24\n  status: 0\n success: True\n       x: array([2.78371759e-02, 1.38366602e+02, 6.52807192e+01, 4.18534386e+01])\n",
      "0.043093956851931355      fun: 156.19595512349673\n     jac: array([-1.31320953e-02, -4.95910645e-05,  5.72204590e-05,  3.81469727e-06])\n message: 'Optimization terminated successfully.'\n    nfev: 154\n     nit: 24\n    njev: 24\n  status: 0\n success: True\n       x: array([2.78371672e-02, 1.38367577e+02, 6.52821416e+01, 4.18549160e+01])\n",
      "0.043092406874684075      fun: 156.19592904419923\n     jac: array([-2.76298523e-02,  5.72204590e-06, -2.47955322e-05,  1.71661377e-05])\n message: 'Optimization terminated successfully.'\n    nfev: 161\n     nit: 25\n    njev: 25\n  status: 0\n success: True\n       x: array([2.78359274e-02, 1.38373699e+02, 6.52808695e+01, 4.18548472e+01])\n",
      "0.043092406874684075      fun: 156.19592904419923\n     jac: array([-2.76298523e-02,  5.72204590e-06, -2.47955322e-05,  1.71661377e-05])\n message: 'Optimization terminated successfully.'\n    nfev: 161\n     nit: 25\n    njev: 25\n  status: 0\n success: True\n       x: array([2.78359274e-02, 1.38373699e+02, 6.52808695e+01, 4.18548472e+01])\n",
      "0.04309241687468408      fun: 156.19592921212688\n     jac: array([-2.75897980e-02,  3.81469727e-06, -2.28881836e-05,  2.28881836e-05])\n message: 'Optimization terminated successfully.'\n    nfev: 161\n     nit: 25\n    njev: 25\n  status: 0\n success: True\n       x: array([2.78359573e-02, 1.38373785e+02, 6.52811109e+01, 4.18551250e+01])\n",
      "0.043091636886060436      fun: 156.19591612871528\n     jac: array([-1.07612610e-02,  1.90734863e-06, -5.72204590e-06,  7.62939453e-06])\n message: 'Optimization terminated successfully.'\n    nfev: 161\n     nit: 25\n    njev: 25\n  status: 0\n success: True\n       x: array([2.78357741e-02, 1.38374403e+02, 6.52818184e+01, 4.18548237e+01])\n",
      "0.043091636886060436      fun: 156.19591612871528\n     jac: array([-1.07612610e-02,  1.90734863e-06, -5.72204590e-06,  7.62939453e-06])\n message: 'Optimization terminated successfully.'\n    nfev: 161\n     nit: 25\n    njev: 25\n  status: 0\n success: True\n       x: array([2.78357741e-02, 1.38374403e+02, 6.52818184e+01, 4.18548237e+01])\n",
      "0.04309164688606044      fun: 156.19591629980886\n     jac: array([-1.12419128e-02,  0.00000000e+00, -7.62939453e-06,  9.53674316e-06])\n message: 'Optimization terminated successfully.'\n    nfev: 161\n     nit: 25\n    njev: 25\n  status: 0\n success: True\n       x: array([2.78357852e-02, 1.38374892e+02, 6.52822503e+01, 4.18553867e+01])\n",
      "0.043091251891748616      fun: 156.1959098377335\n     jac: array([-6.28700256e-02, -5.34057617e-05,  1.33514404e-05,  5.34057617e-05])\n message: 'Optimization terminated successfully.'\n    nfev: 155\n     nit: 24\n    njev: 24\n  status: 0\n success: True\n       x: array([2.78362269e-02, 1.38371538e+02, 6.52832151e+01, 4.18577359e+01])\n",
      "0.043091251891748616      fun: 156.1959098377335\n     jac: array([-6.28700256e-02, -5.34057617e-05,  1.33514404e-05,  5.34057617e-05])\n message: 'Optimization terminated successfully.'\n    nfev: 155\n     nit: 24\n    njev: 24\n  status: 0\n success: True\n       x: array([2.78362269e-02, 1.38371538e+02, 6.52832151e+01, 4.18577359e+01])\n",
      "0.04309126189174862      fun: 156.1959100326249\n     jac: array([-6.34460449e-02, -5.34057617e-05,  1.71661377e-05,  6.10351562e-05])\n message: 'Optimization terminated successfully.'\n    nfev: 155\n     nit: 24\n    njev: 24\n  status: 0\n success: True\n       x: array([2.78362674e-02, 1.38372394e+02, 6.52841417e+01, 4.18588691e+01])\n",
      "0.04309105939459268      fun: 156.19590646463715\n     jac: array([-3.66327286e-01, -1.20162964e-04,  1.27792358e-04,  5.53131104e-05])\n message: 'Optimization terminated successfully.'\n    nfev: 150\n     nit: 23\n    njev: 23\n  status: 0\n success: True\n       x: array([2.78355108e-02, 1.38376013e+02, 6.52835363e+01, 4.18562114e+01])\n",
      "0.04309105939459268      fun: 156.19590646463715\n     jac: array([-3.66327286e-01, -1.20162964e-04,  1.27792358e-04,  5.53131104e-05])\n message: 'Optimization terminated successfully.'\n    nfev: 150\n     nit: 23\n    njev: 23\n  status: 0\n success: True\n       x: array([2.78355108e-02, 1.38376013e+02, 6.52835363e+01, 4.18562114e+01])\n",
      "0.04309106939459268      fun: 156.19590662872127\n     jac: array([-2.00817108e-01, -1.10626221e-04,  1.31607056e-04,  4.19616699e-05])\n message: 'Optimization terminated successfully.'\n    nfev: 150\n     nit: 23\n    njev: 23\n  status: 0\n success: True\n       x: array([2.78356233e-02, 1.38376251e+02, 6.52830909e+01, 4.18562260e+01])\n",
      "0.04309086709359938      fun: 156.1959032310855\n     jac: array([-3.47974777e-01, -7.24792480e-05,  2.09808350e-05,  1.16348267e-04])\n message: 'Optimization terminated successfully.'\n    nfev: 150\n     nit: 23\n    njev: 23\n  status: 0\n success: True\n       x: array([2.78354538e-02, 1.38375288e+02, 6.52823154e+01, 4.18545134e+01])\n",
      "0.04309086709359938      fun: 156.1959032310855\n     jac: array([-3.47974777e-01, -7.24792480e-05,  2.09808350e-05,  1.16348267e-04])\n message: 'Optimization terminated successfully.'\n    nfev: 150\n     nit: 23\n    njev: 23\n  status: 0\n success: True\n       x: array([2.78354538e-02, 1.38375288e+02, 6.52823154e+01, 4.18545134e+01])\n",
      "0.043090877093599385      fun: 156.195903688936\n     jac: array([-1.35538101e-01, -5.91278076e-05,  3.62396240e-05,  6.48498535e-05])\n message: 'Optimization terminated successfully.'\n    nfev: 149\n     nit: 23\n    njev: 23\n  status: 0\n success: True\n       x: array([2.78354989e-02, 1.38377120e+02, 6.52880553e+01, 4.18619244e+01])\n",
      "0.04309086696807485      fun: 156.19590351128187\n     jac: array([-1.41540527e-01, -6.48498535e-05,  4.00543213e-05,  6.29425049e-05])\n message: 'Optimization terminated successfully.'\n    nfev: 149\n     nit: 23\n    njev: 23\n  status: 0\n success: True\n       x: array([2.78355014e-02, 1.38376121e+02, 6.52874311e+01, 4.18612218e+01])\n",
      "0.04309086696807485      fun: 156.19590351128187\n     jac: array([-1.41540527e-01, -6.48498535e-05,  4.00543213e-05,  6.29425049e-05])\n message: 'Optimization terminated successfully.'\n    nfev: 149\n     nit: 23\n    njev: 23\n  status: 0\n success: True\n       x: array([2.78355014e-02, 1.38376121e+02, 6.52874311e+01, 4.18612218e+01])\n",
      "0.04309087696807485      fun: 156.19590377734255\n     jac: array([-1.62414551e-01, -6.67572021e-05,  4.19616699e-05,  7.24792480e-05])\n message: 'Optimization terminated successfully.'\n    nfev: 149\n     nit: 23\n    njev: 23\n  status: 0\n success: True\n       x: array([2.78354202e-02, 1.38377519e+02, 6.52889247e+01, 4.18629265e+01])\n",
      "0.04309086696807485      fun: 156.19590351128187\n     jac: array([-1.41540527e-01, -6.48498535e-05,  4.00543213e-05,  6.29425049e-05])\n message: 'Optimization terminated successfully.'\n    nfev: 149\n     nit: 23\n    njev: 23\n  status: 0\n success: True\n       x: array([2.78355014e-02, 1.38376121e+02, 6.52874311e+01, 4.18612218e+01])\n",
      "0.04309086696807485      fun: 156.19590351128187\n     jac: array([-1.41540527e-01, -6.48498535e-05,  4.00543213e-05,  6.29425049e-05])\n message: 'Optimization terminated successfully.'\n    nfev: 149\n     nit: 23\n    njev: 23\n  status: 0\n success: True\n       x: array([2.78355014e-02, 1.38376121e+02, 6.52874311e+01, 4.18612218e+01])\n",
      "0.04309087696807485      fun: 156.19590377734255\n     jac: array([-1.62414551e-01, -6.67572021e-05,  4.19616699e-05,  7.24792480e-05])\n message: 'Optimization terminated successfully.'\n    nfev: 149\n     nit: 23\n    njev: 23\n  status: 0\n success: True\n       x: array([2.78354202e-02, 1.38377519e+02, 6.52889247e+01, 4.18629265e+01])\n     fun: 156.19590351128187\n     jac: array([26.6060681])\n message: 'Converged (|x_n-x_(n-1)| ~= 0)'\n    nfev: 27\n     nit: 3\n  status: 2\n success: True\n       x: array([0.04309087])\n"
     ],
     "output_type": "stream"
    }
   ],
   "source": [
    "from scipy.optimize import minimize\n",
    "method = 'TNC'\n",
    "target = 'Sichao_choice'\n",
    "f = open('../data/fit_σ_R_sichao.dat', 'wb+')\n",
    "res = minimize(loss_fun, np.array([0.01]), method=method, bounds=[(0, 1)],\n",
    "               options={'maxiter': 1000, 'disp': False})\n",
    "print(res)\n",
    "f.close()"
   ],
   "metadata": {
    "collapsed": false,
    "pycharm": {
     "name": "#%%\n",
     "is_executing": false
    }
   }
  },
  {
   "cell_type": "code",
   "execution_count": 13,
   "outputs": [
    {
     "name": "stdout",
     "text": [
      "0.01      fun: 185.26051367807142\n     jac: array([-1.27708435e-01, -1.90734863e-06,  1.90734863e-06,  7.62939453e-06])\n message: 'Optimization terminated successfully.'\n    nfev: 241\n     nit: 39\n    njev: 39\n  status: 0\n success: True\n       x: array([9.04995095e-03, 3.96325245e+02, 2.00258905e+02, 1.44787672e+02])\n",
      "0.01      fun: 185.26051367807142\n     jac: array([-1.27708435e-01, -1.90734863e-06,  1.90734863e-06,  7.62939453e-06])\n message: 'Optimization terminated successfully.'\n    nfev: 241\n     nit: 39\n    njev: 39\n  status: 0\n success: True\n       x: array([9.04995095e-03, 3.96325245e+02, 2.00258905e+02, 1.44787672e+02])\n",
      "0.01000001      fun: 185.2605126370833\n     jac: array([-1.22640610e-01, -3.81469727e-06,  0.00000000e+00,  3.81469727e-06])\n message: 'Optimization terminated successfully.'\n    nfev: 241\n     nit: 39\n    njev: 39\n  status: 0\n success: True\n       x: array([9.04994330e-03, 3.96321924e+02, 2.00255628e+02, 1.44784454e+02])\n",
      "0.010000022202730163      fun: 185.26051138700444\n     jac: array([-1.22093201e-01, -3.81469727e-06, -5.72204590e-06,  1.90734863e-06])\n message: 'Optimization terminated successfully.'\n    nfev: 241\n     nit: 39\n    njev: 39\n  status: 0\n success: True\n       x: array([9.04988314e-03, 3.96317757e+02, 2.00249788e+02, 1.44778091e+02])\n",
      "0.010000022202730163      fun: 185.26051138700444\n     jac: array([-1.22093201e-01, -3.81469727e-06, -5.72204590e-06,  1.90734863e-06])\n message: 'Optimization terminated successfully.'\n    nfev: 241\n     nit: 39\n    njev: 39\n  status: 0\n success: True\n       x: array([9.04988314e-03, 3.96317757e+02, 2.00249788e+02, 1.44778091e+02])\n",
      "0.010000032202730163      fun: 185.2605103443702\n     jac: array([-1.23662949e-01, -5.72204590e-06,  5.72204590e-06,  5.72204590e-06])\n message: 'Optimization terminated successfully.'\n    nfev: 241\n     nit: 39\n    njev: 39\n  status: 0\n success: True\n       x: array([9.04998416e-03, 3.96324315e+02, 2.00258912e+02, 1.44787957e+02])\n",
      "1.0      fun: 237.60156447155254\n     jac: array([ 1.67961121e-02, -5.72204590e-06,  1.71661377e-05,  0.00000000e+00])\n message: 'Optimization terminated successfully.'\n    nfev: 157\n     nit: 25\n    njev: 25\n  status: 0\n success: True\n       x: array([ 3.91473880e-02,  4.59926312e+01,  1.01794147e+01, -1.75065322e+00])\n",
      "1.0      fun: 237.60156447155254\n     jac: array([ 1.67961121e-02, -5.72204590e-06,  1.71661377e-05,  0.00000000e+00])\n message: 'Optimization terminated successfully.'\n    nfev: 157\n     nit: 25\n    njev: 25\n  status: 0\n success: True\n       x: array([ 3.91473880e-02,  4.59926312e+01,  1.01794147e+01, -1.75065322e+00])\n",
      "1.00000001      fun: 237.60156415763566\n     jac: array([ 1.58271790e-02, -1.14440918e-05,  5.72204590e-06,  0.00000000e+00])\n message: 'Optimization terminated successfully.'\n    nfev: 157\n     nit: 25\n    njev: 25\n  status: 0\n success: True\n       x: array([ 3.91473059e-02,  4.59921747e+01,  1.01789780e+01, -1.75105610e+00])\n",
      "0.505      fun: 199.69486136212328\n     jac: array([ 7.85827637e-04, -1.14440918e-05, -1.14440918e-05,  1.52587891e-05])\n message: 'Optimization terminated successfully.'\n    nfev: 136\n     nit: 21\n    njev: 21\n  status: 0\n success: True\n       x: array([ 0.06698008, 44.53983345, 16.768491  ,  9.78498581])\n",
      "0.505      fun: 199.69486136212328\n     jac: array([ 7.85827637e-04, -1.14440918e-05, -1.14440918e-05,  1.52587891e-05])\n message: 'Optimization terminated successfully.'\n    nfev: 136\n     nit: 21\n    njev: 21\n  status: 0\n success: True\n       x: array([ 0.06698008, 44.53983345, 16.768491  ,  9.78498581])\n",
      "0.50500001      fun: 199.69486205184148\n     jac: array([ 3.81469727e-04, -1.52587891e-05, -1.33514404e-05,  1.90734863e-05])\n message: 'Optimization terminated successfully.'\n    nfev: 136\n     nit: 21\n    njev: 21\n  status: 0\n success: True\n       x: array([ 0.06698016, 44.53966794, 16.76837179,  9.7849004 ])\n",
      "0.2575      fun: 184.6674205840239\n     jac: array([ 3.87954712e-03, -1.71661377e-05,  1.52587891e-05, -9.53674316e-06])\n message: 'Optimization terminated successfully.'\n    nfev: 149\n     nit: 23\n    njev: 23\n  status: 0\n success: True\n       x: array([ 0.05856662, 56.92986301, 24.43734983, 16.08274164])\n",
      "0.2575      fun: 184.6674205840239\n     jac: array([ 3.87954712e-03, -1.71661377e-05,  1.52587891e-05, -9.53674316e-06])\n message: 'Optimization terminated successfully.'\n    nfev: 149\n     nit: 23\n    njev: 23\n  status: 0\n success: True\n       x: array([ 0.05856662, 56.92986301, 24.43734983, 16.08274164])\n",
      "0.25750001      fun: 184.66742099896433\n     jac: array([ 3.83567810e-03, -1.52587891e-05,  1.71661377e-05, -9.53674316e-06])\n message: 'Optimization terminated successfully.'\n    nfev: 149\n     nit: 23\n    njev: 23\n  status: 0\n success: True\n       x: array([ 0.05856658, 56.9300005 , 24.43743983, 16.08283874])\n",
      "0.13375000000000004      fun: 181.33994761363874\n     jac: array([-1.37710571e-03, -1.90734863e-06,  4.76837158e-05, -3.81469727e-05])\n message: 'Optimization terminated successfully.'\n    nfev: 167\n     nit: 26\n    njev: 26\n  status: 0\n success: True\n       x: array([4.09689632e-02, 8.41803461e+01, 3.93592187e+01, 2.72666036e+01])\n",
      "0.13375000000000004      fun: 181.33994761363874\n     jac: array([-1.37710571e-03, -1.90734863e-06,  4.76837158e-05, -3.81469727e-05])\n message: 'Optimization terminated successfully.'\n    nfev: 167\n     nit: 26\n    njev: 26\n  status: 0\n success: True\n       x: array([4.09689632e-02, 8.41803461e+01, 3.93592187e+01, 2.72666036e+01])\n",
      "0.13375001000000003      fun: 181.3399477622557\n     jac: array([-1.33514404e-03, -3.81469727e-06,  4.76837158e-05, -3.81469727e-05])\n message: 'Optimization terminated successfully.'\n    nfev: 167\n     nit: 26\n    njev: 26\n  status: 0\n success: True\n       x: array([4.09689701e-02, 8.41802766e+01, 3.93591571e+01, 2.72665485e+01])\n",
      "0.13374999968525347      fun: 181.33994760697908\n     jac: array([-1.38473511e-03, -3.81469727e-06,  4.38690186e-05, -3.81469727e-05])\n message: 'Optimization terminated successfully.'\n    nfev: 167\n     nit: 26\n    njev: 26\n  status: 0\n success: True\n       x: array([4.09689724e-02, 8.41801430e+01, 3.93590181e+01, 2.72664255e+01])\n",
      "0.13374999968525347      fun: 181.33994760697908\n     jac: array([-1.38473511e-03, -3.81469727e-06,  4.38690186e-05, -3.81469727e-05])\n message: 'Optimization terminated successfully.'\n    nfev: 167\n     nit: 26\n    njev: 26\n  status: 0\n success: True\n       x: array([4.09689724e-02, 8.41801430e+01, 3.93590181e+01, 2.72664255e+01])\n",
      "0.13375000968525347      fun: 181.33994775612538\n     jac: array([-2.18582153e-03, -5.72204590e-06,  4.38690186e-05, -4.00543213e-05])\n message: 'Optimization terminated successfully.'\n    nfev: 167\n     nit: 26\n    njev: 26\n  status: 0\n success: True\n       x: array([4.09689950e-02, 8.41799785e+01, 3.93589370e+01, 2.72663501e+01])\n",
      "0.11828995533968806      fun: 181.12718924855704\n     jac: array([-2.25772858e-02,  0.00000000e+00, -3.43322754e-05, -6.86645508e-05])\n message: 'Optimization terminated successfully.'\n    nfev: 168\n     nit: 26\n    njev: 26\n  status: 0\n success: True\n       x: array([3.82015270e-02, 9.07931988e+01, 4.28703484e+01, 2.98879195e+01])\n",
      "0.11828995533968806      fun: 181.12718924855704\n     jac: array([-2.25772858e-02,  0.00000000e+00, -3.43322754e-05, -6.86645508e-05])\n message: 'Optimization terminated successfully.'\n    nfev: 168\n     nit: 26\n    njev: 26\n  status: 0\n success: True\n       x: array([3.82015270e-02, 9.07931988e+01, 4.28703484e+01, 2.98879195e+01])\n",
      "0.11828996533968805      fun: 181.12718940106524\n     jac: array([-2.22835541e-02,  1.90734863e-06, -3.81469727e-05, -6.86645508e-05])\n message: 'Optimization terminated successfully.'\n    nfev: 168\n     nit: 26\n    njev: 26\n  status: 0\n success: True\n       x: array([3.82015388e-02, 9.07928945e+01, 4.28700981e+01, 2.98876398e+01])\n",
      "0.04098973203812817      fun: 181.9417730528566\n     jac: array([-5.55953979e-02,  5.72204590e-06,  2.09808350e-05, -3.81469727e-06])\n message: 'Optimization terminated successfully.'\n    nfev: 204\n     nit: 33\n    njev: 33\n  status: 0\n success: True\n       x: array([2.06065397e-02, 1.72406401e+02, 8.49714294e+01, 6.06384437e+01])\n",
      "0.04098973203812817      fun: 181.9417730528566\n     jac: array([-5.55953979e-02,  5.72204590e-06,  2.09808350e-05, -3.81469727e-06])\n message: 'Optimization terminated successfully.'\n    nfev: 204\n     nit: 33\n    njev: 33\n  status: 0\n success: True\n       x: array([2.06065397e-02, 1.72406401e+02, 8.49714294e+01, 6.06384437e+01])\n",
      "0.04098974203812817      fun: 181.94177236336898\n     jac: array([-6.44855499e-02, -3.81469727e-06,  1.14440918e-05, -9.53674316e-06])\n message: 'Optimization terminated successfully.'\n    nfev: 204\n     nit: 33\n    njev: 33\n  status: 0\n success: True\n       x: array([2.06065123e-02, 1.72403495e+02, 8.49688552e+01, 6.06358839e+01])\n",
      "0.07963984368890809      fun: 180.86662043823705\n     jac: array([-7.51495361e-03, -4.19616699e-05,  1.04904175e-04, -6.48498535e-05])\n message: 'Optimization terminated successfully.'\n    nfev: 184\n     nit: 29\n    njev: 29\n  status: 0\n success: True\n       x: array([3.04747727e-02, 1.15657406e+02, 5.59044397e+01, 3.95617121e+01])\n",
      "0.07963984368890809      fun: 180.86662043823705\n     jac: array([-7.51495361e-03, -4.19616699e-05,  1.04904175e-04, -6.48498535e-05])\n message: 'Optimization terminated successfully.'\n    nfev: 184\n     nit: 29\n    njev: 29\n  status: 0\n success: True\n       x: array([3.04747727e-02, 1.15657406e+02, 5.59044397e+01, 3.95617121e+01])\n",
      "0.07963985368890808      fun: 180.86662038445726\n     jac: array([-1.33647919e-02, -4.38690186e-05,  8.96453857e-05, -5.34057617e-05])\n message: 'Optimization terminated successfully.'\n    nfev: 184\n     nit: 29\n    njev: 29\n  status: 0\n success: True\n       x: array([3.04747988e-02, 1.15656789e+02, 5.59037404e+01, 3.95614990e+01])\n",
      "0.0989648995142981      fun: 180.92736323732757\n     jac: array([-3.62014771e-03,  9.53674316e-06,  1.52587891e-05, -5.14984131e-05])\n message: 'Optimization terminated successfully.'\n    nfev: 190\n     nit: 30\n    njev: 30\n  status: 0\n success: True\n       x: array([3.45184443e-02, 1.01295138e+02, 4.84075250e+01, 3.40153829e+01])\n",
      "0.0989648995142981      fun: 180.92736323732757\n     jac: array([-3.62014771e-03,  9.53674316e-06,  1.52587891e-05, -5.14984131e-05])\n message: 'Optimization terminated successfully.'\n    nfev: 190\n     nit: 30\n    njev: 30\n  status: 0\n success: True\n       x: array([3.45184443e-02, 1.01295138e+02, 4.84075250e+01, 3.40153829e+01])\n",
      "0.0989649095142981      fun: 180.92736330983956\n     jac: array([-4.46701050e-03,  7.62939453e-06,  1.90734863e-05, -4.95910645e-05])\n message: 'Optimization terminated successfully.'\n    nfev: 190\n     nit: 30\n    njev: 30\n  status: 0\n success: True\n       x: array([3.45184316e-02, 1.01295395e+02, 4.84077843e+01, 3.40156096e+01])\n",
      "0.08930237160160309      fun: 180.87241687637447\n     jac: array([ 1.50070190e-02,  7.62939453e-06, -1.90734863e-06, -1.14440918e-05])\n message: 'Optimization terminated successfully.'\n    nfev: 172\n     nit: 27\n    njev: 27\n  status: 0\n success: True\n       x: array([3.25513849e-02, 1.07861251e+02, 5.18440829e+01, 3.65668256e+01])\n",
      "0.08930237160160309      fun: 180.87241687637447\n     jac: array([ 1.50070190e-02,  7.62939453e-06, -1.90734863e-06, -1.14440918e-05])\n message: 'Optimization terminated successfully.'\n    nfev: 172\n     nit: 27\n    njev: 27\n  status: 0\n success: True\n       x: array([3.25513849e-02, 1.07861251e+02, 5.18440829e+01, 3.65668256e+01])\n",
      "0.08930238160160309      fun: 180.87241691118035\n     jac: array([ 1.37081146e-02,  7.62939453e-06,  1.90734863e-06, -1.90734863e-06])\n message: 'Optimization terminated successfully.'\n    nfev: 172\n     nit: 27\n    njev: 27\n  status: 0\n success: True\n       x: array([3.25514446e-02, 1.07861431e+02, 5.18444638e+01, 3.65672918e+01])\n",
      "0.08447110764525562      fun: 180.86213043046516\n     jac: array([-5.88359833e-02, -2.47955322e-05,  2.86102295e-05, -5.91278076e-05])\n message: 'Optimization terminated successfully.'\n    nfev: 171\n     nit: 27\n    njev: 27\n  status: 0\n success: True\n       x: array([3.15271645e-02, 1.11578628e+02, 5.37805066e+01, 3.79952963e+01])\n",
      "0.08447110764525562      fun: 180.86213043046516\n     jac: array([-5.88359833e-02, -2.47955322e-05,  2.86102295e-05, -5.91278076e-05])\n message: 'Optimization terminated successfully.'\n    nfev: 171\n     nit: 27\n    njev: 27\n  status: 0\n success: True\n       x: array([3.15271645e-02, 1.11578628e+02, 5.37805066e+01, 3.79952963e+01])\n",
      "0.08447111764525561      fun: 180.86213042358708\n     jac: array([-6.05392456e-02, -2.67028809e-05,  2.67028809e-05, -6.48498535e-05])\n message: 'Optimization terminated successfully.'\n    nfev: 171\n     nit: 27\n    njev: 27\n  status: 0\n success: True\n       x: array([3.15271234e-02, 1.11579039e+02, 5.37808396e+01, 3.79955575e+01])\n",
      "0.08447112873827983      fun: 180.86213045084887\n     jac: array([-5.81150055e-02, -2.86102295e-05,  2.47955322e-05, -6.10351562e-05])\n message: 'Optimization terminated successfully.'\n    nfev: 171\n     nit: 27\n    njev: 27\n  status: 0\n success: True\n       x: array([3.15271883e-02, 1.11578461e+02, 5.37804198e+01, 3.79952049e+01])\n",
      "0.08447112873827983      fun: 180.86213045084887\n     jac: array([-5.81150055e-02, -2.86102295e-05,  2.47955322e-05, -6.10351562e-05])\n message: 'Optimization terminated successfully.'\n    nfev: 171\n     nit: 27\n    njev: 27\n  status: 0\n success: True\n       x: array([3.15271883e-02, 1.11578461e+02, 5.37804198e+01, 3.79952049e+01])\n",
      "0.08447113873827983      fun: 180.86213048847662\n     jac: array([-5.90209961e-02, -2.67028809e-05,  2.28881836e-05, -6.10351562e-05])\n message: 'Optimization terminated successfully.'\n    nfev: 171\n     nit: 27\n    njev: 27\n  status: 0\n success: True\n       x: array([3.15271725e-02, 1.11577993e+02, 5.37799507e+01, 3.79947211e+01])\n",
      "0.08447111090504256      fun: 180.86213042970036\n     jac: array([-5.96923828e-02, -2.67028809e-05,  2.28881836e-05, -5.91278076e-05])\n message: 'Optimization terminated successfully.'\n    nfev: 171\n     nit: 27\n    njev: 27\n  status: 0\n success: True\n       x: array([3.15271722e-02, 1.11578598e+02, 5.37804707e+01, 3.79953363e+01])\n",
      "0.08447111090504256      fun: 180.86213042970036\n     jac: array([-5.96923828e-02, -2.67028809e-05,  2.28881836e-05, -5.91278076e-05])\n message: 'Optimization terminated successfully.'\n    nfev: 171\n     nit: 27\n    njev: 27\n  status: 0\n success: True\n       x: array([3.15271722e-02, 1.11578598e+02, 5.37804707e+01, 3.79953363e+01])\n",
      "0.08447112090504255      fun: 180.86213044545752\n     jac: array([-6.11991882e-02, -2.67028809e-05,  2.86102295e-05, -6.10351562e-05])\n message: 'Optimization terminated successfully.'\n    nfev: 171\n     nit: 27\n    njev: 27\n  status: 0\n success: True\n       x: array([3.15271746e-02, 1.11578425e+02, 5.37804099e+01, 3.79952313e+01])\n",
      "0.08447111090504256      fun: 180.86213042970036\n     jac: array([-5.96923828e-02, -2.67028809e-05,  2.28881836e-05, -5.91278076e-05])\n message: 'Optimization terminated successfully.'\n    nfev: 171\n     nit: 27\n    njev: 27\n  status: 0\n success: True\n       x: array([3.15271722e-02, 1.11578598e+02, 5.37804707e+01, 3.79953363e+01])\n",
      "0.08447111090504256      fun: 180.86213042970036\n     jac: array([-5.96923828e-02, -2.67028809e-05,  2.28881836e-05, -5.91278076e-05])\n message: 'Optimization terminated successfully.'\n    nfev: 171\n     nit: 27\n    njev: 27\n  status: 0\n success: True\n       x: array([3.15271722e-02, 1.11578598e+02, 5.37804707e+01, 3.79953363e+01])\n",
      "0.08447112090504255      fun: 180.86213044545752\n     jac: array([-6.11991882e-02, -2.67028809e-05,  2.86102295e-05, -6.10351562e-05])\n message: 'Optimization terminated successfully.'\n    nfev: 171\n     nit: 27\n    njev: 27\n  status: 0\n success: True\n       x: array([3.15271746e-02, 1.11578425e+02, 5.37804099e+01, 3.79952313e+01])\n     fun: 180.86213042970036\n     jac: array([1.57571662])\n message: 'Converged (|f_n-f_(n-1)| ~= 0)'\n    nfev: 15\n     nit: 3\n  status: 1\n success: True\n       x: array([0.08447111])\n"
     ],
     "output_type": "stream"
    }
   ],
   "source": [
    "from scipy.optimize import minimize\n",
    "target = 'Johannes_choice'\n",
    "f = open('../data/fit_σ_R_johannes.dat', 'wb+')\n",
    "res = minimize(loss_fun, np.array([0.01]), method=method, bounds=[(0, 1)],\n",
    "               options={'maxiter': 1000, 'disp': False})\n",
    "print(res)\n",
    "f.close()\n",
    "\n"
   ],
   "metadata": {
    "collapsed": false,
    "pycharm": {
     "name": "#%%\n",
     "is_executing": false
    }
   }
  },
  {
   "cell_type": "code",
   "execution_count": null,
   "outputs": [],
   "source": [
    "\n"
   ],
   "metadata": {
    "collapsed": false,
    "pycharm": {
     "name": "#%%\n"
    }
   }
  }
 ],
 "metadata": {
  "language_info": {
   "codemirror_mode": {
    "name": "ipython",
    "version": 2
   },
   "file_extension": ".py",
   "mimetype": "text/x-python",
   "name": "python",
   "nbconvert_exporter": "python",
   "pygments_lexer": "ipython2",
   "version": "2.7.6"
  },
  "kernelspec": {
   "name": "pycharm-de948503",
   "language": "python",
   "display_name": "PyCharm (Readings)"
  },
  "pycharm": {
   "stem_cell": {
    "cell_type": "raw",
    "source": [],
    "metadata": {
     "collapsed": false
    }
   }
  }
 },
 "nbformat": 4,
 "nbformat_minor": 0
}
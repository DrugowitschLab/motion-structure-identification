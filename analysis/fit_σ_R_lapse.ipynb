{
 "cells": [
  {
   "cell_type": "code",
   "execution_count": 2,
   "metadata": {
    "collapsed": true,
    "pycharm": {
     "is_executing": false
    }
   },
   "outputs": [
    {
     "name": "stdout",
     "text": [
      "(200, 203, 8)\n"
     ],
     "output_type": "stream"
    }
   ],
   "source": [
    "from utils.data import load_data\n",
    "import numpy as np\n",
    "import pandas as pd\n",
    "s = ['IND', 'GLO', 'CLU_012', 'CLU_120', 'CLU_201', 'SDH_012', 'SDH_120', 'SDH_201']\n",
    "df_pilot = pd.read_csv(f'../data/pilot_0.csv')[['ground_truth', 'Johannes_choice', 'Sichao_choice']]\n",
    "data = load_data('../data/sichao/pilot_sichao.dat')\n",
    "φ, t = [], []\n",
    "for trial in data:\n",
    "    φ.append(trial['phi'])\n",
    "    t.append(trial['t'])\n",
    "φ, t = np.array(φ), np.array(t)\n",
    "rng = np.random.RandomState()\n",
    "dx = rng.normal(size=φ.shape)\n",
    "print(dx.shape)"
   ]
  },
  {
   "cell_type": "code",
   "execution_count": 3,
   "outputs": [],
   "source": [
    "from analysis.kalman_filter import apply_filters_on_trial\n",
    "from analysis.model import fit\n",
    "import pickle\n",
    "\n",
    "def loss_fun(σ_R):\n",
    "    x = φ + σ_R[0] * dx\n",
    "    vals = []\n",
    "    for i in range(x.shape[0]):\n",
    "        vals.append(np.array(apply_filters_on_trial(x[i], t[i], σ_R)).sum(axis=1))\n",
    "    df = pd.DataFrame(vals, columns=s)\n",
    "    df['target'] = df_pilot[target]\n",
    "    res = fit(df, 'target', np.array([0.02, 0.1, 0., 0., 0.]), disp=False)\n",
    "    pickle.dump(res, f)\n",
    "    print(σ_R[0], res)\n",
    "    return res.fun"
   ],
   "metadata": {
    "collapsed": false,
    "pycharm": {
     "name": "#%%\n",
     "is_executing": false
    }
   }
  },
  {
   "cell_type": "code",
   "execution_count": 3,
   "outputs": [
    {
     "name": "stdout",
     "text": [
      "0.01      fun: 155.73277261123414\n     jac: array([-1.61895752e-02, -6.69860840e-02, -1.14440918e-05,  7.62939453e-05,\n       -4.76837158e-05])\n message: 'Optimization terminated successfully.'\n    nfev: 282\n     nit: 39\n    njev: 39\n  status: 0\n success: True\n       x: array([1.31238688e-01, 3.35075646e-02, 1.54267677e+02, 2.40972843e+01,\n       4.91506695e+00])\n",
      "0.01      fun: 155.73277261123414\n     jac: array([-1.61895752e-02, -6.69860840e-02, -1.14440918e-05,  7.62939453e-05,\n       -4.76837158e-05])\n message: 'Optimization terminated successfully.'\n    nfev: 282\n     nit: 39\n    njev: 39\n  status: 0\n success: True\n       x: array([1.31238688e-01, 3.35075646e-02, 1.54267677e+02, 2.40972843e+01,\n       4.91506695e+00])\n",
      "0.01000001      fun: 155.73277035512353\n     jac: array([ 1.83219910e-02, -1.51170731e-01, -3.81469727e-06,  1.90734863e-06,\n       -5.14984131e-05])\n message: 'Optimization terminated successfully.'\n    nfev: 282\n     nit: 39\n    njev: 39\n  status: 0\n success: True\n       x: array([1.31244393e-01, 3.35074468e-02, 1.54278995e+02, 2.41055471e+01,\n       4.92294075e+00])\n",
      "0.01000004455447201      fun: 155.73276258198905\n     jac: array([ 4.11605835e-03, -2.70309448e-02, -1.14440918e-05,  9.53674316e-06,\n       -3.05175781e-05])\n message: 'Optimization terminated successfully.'\n    nfev: 288\n     nit: 40\n    njev: 40\n  status: 0\n success: True\n       x: array([1.31247291e-01, 3.35094561e-02, 1.54259816e+02, 2.40897054e+01,\n       4.90679927e+00])\n",
      "0.01000004455447201      fun: 155.73276258198905\n     jac: array([ 4.11605835e-03, -2.70309448e-02, -1.14440918e-05,  9.53674316e-06,\n       -3.05175781e-05])\n message: 'Optimization terminated successfully.'\n    nfev: 288\n     nit: 40\n    njev: 40\n  status: 0\n success: True\n       x: array([1.31247291e-01, 3.35094561e-02, 1.54259816e+02, 2.40897054e+01,\n       4.90679927e+00])\n",
      "0.01000005455447201      fun: 155.73276023488137\n     jac: array([-1.26132965e-02,  1.42908096e-01, -2.47955322e-05,  8.20159912e-05,\n        3.81469727e-06])\n message: 'Optimization terminated successfully.'\n    nfev: 287\n     nit: 39\n    njev: 39\n  status: 0\n success: True\n       x: array([1.31248377e-01, 3.35092211e-02, 1.54272619e+02, 2.41004019e+01,\n       4.91803621e+00])\n",
      "1.3905420023811152      fun: 248.6281424640025\n     jac: array([ 0.00192642,  0.00034904,  0.00021362, -0.00027847,  0.        ])\n message: 'Optimization terminated successfully.'\n    nfev: 164\n     nit: 23\n    njev: 23\n  status: 0\n success: True\n       x: array([  0.65255404,   0.66215362,  14.38801968,  10.78498939,\n       -43.96200405])\n",
      "1.3905420023811152      fun: 248.6281424640025\n     jac: array([ 0.00192642,  0.00034904,  0.00021362, -0.00027847,  0.        ])\n message: 'Optimization terminated successfully.'\n    nfev: 164\n     nit: 23\n    njev: 23\n  status: 0\n success: True\n       x: array([  0.65255404,   0.66215362,  14.38801968,  10.78498939,\n       -43.96200405])\n",
      "1.3905420123811152      fun: 248.62814240164164\n     jac: array([ 0.00158691,  0.00017929,  0.00017738, -0.00013733,  0.        ])\n message: 'Optimization terminated successfully.'\n    nfev: 164\n     nit: 23\n    njev: 23\n  status: 0\n success: True\n       x: array([  0.65255578,   0.66218607,  14.38892432,  10.78601226,\n       -43.96863943])\n",
      "0.7002710011905576      fun: 202.3808995786455\n     jac: array([ 1.51138306e-02, -3.72962952e-02,  5.34057617e-05,  2.02178955e-04,\n       -3.01361084e-04])\n message: 'Optimization terminated successfully.'\n    nfev: 291\n     nit: 39\n    njev: 39\n  status: 0\n success: True\n       x: array([ 0.08696244,  0.09913654, 32.05085738, 11.63212709,  5.10125876])\n",
      "0.7002710011905576      fun: 202.3808995786455\n     jac: array([ 1.51138306e-02, -3.72962952e-02,  5.34057617e-05,  2.02178955e-04,\n       -3.01361084e-04])\n message: 'Optimization terminated successfully.'\n    nfev: 291\n     nit: 39\n    njev: 39\n  status: 0\n success: True\n       x: array([ 0.08696244,  0.09913654, 32.05085738, 11.63212709,  5.10125876])\n",
      "0.7002710111905577      fun: 202.3809005443178\n     jac: array([-2.16102600e-03,  3.20816040e-03,  7.62939453e-06, -1.02996826e-04,\n        9.91821289e-05])\n message: 'Optimization terminated successfully.'\n    nfev: 289\n     nit: 39\n    njev: 39\n  status: 0\n success: True\n       x: array([ 0.08696276,  0.0991395 , 32.05074832, 11.63203543,  5.10212238])\n",
      "0.35513550059527876      fun: 190.78413984155998\n     jac: array([-1.37710571e-03,  7.05718994e-05, -1.65939331e-04,  2.21252441e-04,\n        0.00000000e+00])\n message: 'Optimization terminated successfully.'\n    nfev: 154\n     nit: 21\n    njev: 21\n  status: 0\n success: True\n       x: array([  0.40002909,   1.09114569,  23.63243795,  13.14009688,\n       -20.77380033])\n",
      "0.35513550059527876      fun: 190.78413984155998\n     jac: array([-1.37710571e-03,  7.05718994e-05, -1.65939331e-04,  2.21252441e-04,\n        0.00000000e+00])\n message: 'Optimization terminated successfully.'\n    nfev: 154\n     nit: 21\n    njev: 21\n  status: 0\n success: True\n       x: array([  0.40002909,   1.09114569,  23.63243795,  13.14009688,\n       -20.77380033])\n",
      "0.35513551059527876      fun: 190.7841408171025\n     jac: array([-1.31416321e-03,  7.43865967e-05, -1.85012817e-04,  2.11715698e-04,\n        0.00000000e+00])\n message: 'Optimization terminated successfully.'\n    nfev: 154\n     nit: 21\n    njev: 21\n  status: 0\n success: True\n       x: array([  0.4000292 ,   1.09114758,  23.632371  ,  13.14005327,\n       -20.77427477])\n",
      "0.1825677502976394      fun: 149.2338171619274\n     jac: array([ 5.43022156e-03, -8.32176208e-03, -6.86645508e-05,  6.86645508e-05,\n        9.34600830e-05])\n message: 'Optimization terminated successfully.'\n    nfev: 205\n     nit: 28\n    njev: 28\n  status: 0\n success: True\n       x: array([3.94046875e-02, 9.07492284e-02, 4.81983840e+01, 2.15420426e+01,\n       1.46612782e+01])\n",
      "0.1825677502976394      fun: 149.2338171619274\n     jac: array([ 5.43022156e-03, -8.32176208e-03, -6.86645508e-05,  6.86645508e-05,\n        9.34600830e-05])\n message: 'Optimization terminated successfully.'\n    nfev: 205\n     nit: 28\n    njev: 28\n  status: 0\n success: True\n       x: array([3.94046875e-02, 9.07492284e-02, 4.81983840e+01, 2.15420426e+01,\n       1.46612782e+01])\n",
      "0.18256776029763938      fun: 149.23381732418204\n     jac: array([ 5.31578064e-03, -7.32803345e-03, -7.62939453e-05,  6.86645508e-05,\n        9.34600830e-05])\n message: 'Optimization terminated successfully.'\n    nfev: 205\n     nit: 28\n    njev: 28\n  status: 0\n success: True\n       x: array([3.94052365e-02, 9.07497899e-02, 4.81980523e+01, 2.15418828e+01,\n       1.46611578e+01])\n",
      "0.18256775005459902      fun: 149.2338171302545\n     jac: array([ 5.76972961e-03, -7.00569153e-03, -7.24792480e-05,  6.48498535e-05,\n        8.39233398e-05])\n message: 'Optimization terminated successfully.'\n    nfev: 205\n     nit: 28\n    njev: 28\n  status: 0\n success: True\n       x: array([3.94056118e-02, 9.07499012e-02, 4.81977514e+01, 2.15415753e+01,\n       1.46608286e+01])\n",
      "0.18256775005459902      fun: 149.2338171302545\n     jac: array([ 5.76972961e-03, -7.00569153e-03, -7.24792480e-05,  6.48498535e-05,\n        8.39233398e-05])\n message: 'Optimization terminated successfully.'\n    nfev: 205\n     nit: 28\n    njev: 28\n  status: 0\n success: True\n       x: array([3.94056118e-02, 9.07499012e-02, 4.81977514e+01, 2.15415753e+01,\n       1.46608286e+01])\n",
      "0.18256776005459902      fun: 149.23381728947044\n     jac: array([ 5.62095642e-03, -8.62884521e-03, -6.86645508e-05,  6.10351562e-05,\n        8.77380371e-05])\n message: 'Optimization terminated successfully.'\n    nfev: 205\n     nit: 28\n    njev: 28\n  status: 0\n success: True\n       x: array([3.94047884e-02, 9.07493226e-02, 4.81980048e+01, 2.15416859e+01,\n       1.46609125e+01])\n",
      "0.18256773732026566      fun: 149.2338169321008\n     jac: array([ 5.55038452e-03, -8.61167908e-03, -6.86645508e-05,  6.48498535e-05,\n        8.77380371e-05])\n message: 'Optimization terminated successfully.'\n    nfev: 205\n     nit: 28\n    njev: 28\n  status: 0\n success: True\n       x: array([3.94047382e-02, 9.07492636e-02, 4.81981718e+01, 2.15418426e+01,\n       1.46610711e+01])\n",
      "0.18256773732026566      fun: 149.2338169321008\n     jac: array([ 5.55038452e-03, -8.61167908e-03, -6.86645508e-05,  6.48498535e-05,\n        8.77380371e-05])\n message: 'Optimization terminated successfully.'\n    nfev: 205\n     nit: 28\n    njev: 28\n  status: 0\n success: True\n       x: array([3.94047382e-02, 9.07492636e-02, 4.81981718e+01, 2.15418426e+01,\n       1.46610711e+01])\n",
      "0.18256774732026565      fun: 149.23381710443402\n     jac: array([ 5.56945801e-03, -8.02230835e-03, -7.24792480e-05,  6.86645508e-05,\n        9.15527344e-05])\n message: 'Optimization terminated successfully.'\n    nfev: 205\n     nit: 28\n    njev: 28\n  status: 0\n success: True\n       x: array([3.94051183e-02, 9.07495450e-02, 4.81981141e+01, 2.15418645e+01,\n       1.46611174e+01])\n",
      "0.18256767243339678      fun: 149.2338158847612\n     jac: array([ 5.53131104e-03, -8.14437866e-03, -7.62939453e-05,  7.24792480e-05,\n        9.34600830e-05])\n message: 'Optimization terminated successfully.'\n    nfev: 205\n     nit: 28\n    njev: 28\n  status: 0\n success: True\n       x: array([3.94053176e-02, 9.07497408e-02, 4.81979483e+01, 2.15417842e+01,\n       1.46610523e+01])\n",
      "0.18256767243339678      fun: 149.2338158847612\n     jac: array([ 5.53131104e-03, -8.14437866e-03, -7.62939453e-05,  7.24792480e-05,\n        9.34600830e-05])\n message: 'Optimization terminated successfully.'\n    nfev: 205\n     nit: 28\n    njev: 28\n  status: 0\n success: True\n       x: array([3.94053176e-02, 9.07497408e-02, 4.81979483e+01, 2.15417842e+01,\n       1.46610523e+01])\n",
      "0.18256768243339677      fun: 149.23381603438975\n     jac: array([ 5.50460815e-03, -7.59124756e-03, -7.24792480e-05,  6.48498535e-05,\n        9.15527344e-05])\n message: 'Optimization terminated successfully.'\n    nfev: 205\n     nit: 28\n    njev: 28\n  status: 0\n success: True\n       x: array([3.94052200e-02, 9.07497044e-02, 4.81979028e+01, 2.15416832e+01,\n       1.46609473e+01])\n",
      "0.18256605026167683      fun: 149.2337894504773\n     jac: array([ 5.56182861e-03, -7.48252869e-03, -7.82012939e-05,  6.86645508e-05,\n        8.96453857e-05])\n message: 'Optimization terminated successfully.'\n    nfev: 205\n     nit: 28\n    njev: 28\n  status: 0\n success: True\n       x: array([3.94057581e-02, 9.07495738e-02, 4.81979022e+01, 2.15416828e+01,\n       1.46609148e+01])\n",
      "0.18256605026167683      fun: 149.2337894504773\n     jac: array([ 5.56182861e-03, -7.48252869e-03, -7.82012939e-05,  6.86645508e-05,\n        8.96453857e-05])\n message: 'Optimization terminated successfully.'\n    nfev: 205\n     nit: 28\n    njev: 28\n  status: 0\n success: True\n       x: array([3.94057581e-02, 9.07495738e-02, 4.81979022e+01, 2.15416828e+01,\n       1.46609148e+01])\n",
      "0.18256606026167682      fun: 149.23378962313296\n     jac: array([ 5.42068481e-03, -8.02993774e-03, -7.62939453e-05,  6.67572021e-05,\n        9.15527344e-05])\n message: 'Optimization terminated successfully.'\n    nfev: 205\n     nit: 28\n    njev: 28\n  status: 0\n success: True\n       x: array([3.94053025e-02, 9.07492318e-02, 4.81982201e+01, 2.15418974e+01,\n       1.46611260e+01])\n",
      "0.1823632787966799      fun: 149.23049818134416\n     jac: array([-0.00270844, -0.04623032, -0.00010109, -0.00014877,  0.0001812 ])\n message: 'Optimization terminated successfully.'\n    nfev: 207\n     nit: 28\n    njev: 28\n  status: 0\n success: True\n       x: array([3.94147470e-02, 9.06944014e-02, 4.82201775e+01, 2.15489710e+01,\n       1.46644612e+01])\n",
      "0.1823632787966799      fun: 149.23049818134416\n     jac: array([-0.00270844, -0.04623032, -0.00010109, -0.00014877,  0.0001812 ])\n message: 'Optimization terminated successfully.'\n    nfev: 207\n     nit: 28\n    njev: 28\n  status: 0\n success: True\n       x: array([3.94147470e-02, 9.06944014e-02, 4.82201775e+01, 2.15489710e+01,\n       1.46644612e+01])\n",
      "0.1823632887966799      fun: 149.23049835652398\n     jac: array([-0.00286865, -0.04570007, -0.00010681, -0.00015259,  0.00017929])\n message: 'Optimization terminated successfully.'\n    nfev: 207\n     nit: 28\n    njev: 28\n  status: 0\n success: True\n       x: array([3.94148833e-02, 9.06946739e-02, 4.82199237e+01, 2.15487841e+01,\n       1.46643022e+01])\n",
      "0.05563111317355651      fun: 153.25468131010118\n     jac: array([-1.19838715e-02, -1.06048584e-03, -4.19616699e-05, -4.76837158e-05,\n        1.43051147e-04])\n message: 'Optimization terminated successfully.'\n    nfev: 256\n     nit: 34\n    njev: 34\n  status: 0\n success: True\n       x: array([ 0.12360234,  0.07946507, 54.63333759, 11.08991213,  2.79708879])\n",
      "0.05563111317355651      fun: 153.25468131010118\n     jac: array([-1.19838715e-02, -1.06048584e-03, -4.19616699e-05, -4.76837158e-05,\n        1.43051147e-04])\n message: 'Optimization terminated successfully.'\n    nfev: 256\n     nit: 34\n    njev: 34\n  status: 0\n success: True\n       x: array([ 0.12360234,  0.07946507, 54.63333759, 11.08991213,  2.79708879])\n",
      "0.055631123173556514      fun: 153.25468115167882\n     jac: array([-1.12571716e-02, -1.68228149e-03, -4.19616699e-05, -4.95910645e-05,\n        1.35421753e-04])\n message: 'Optimization terminated successfully.'\n    nfev: 256\n     nit: 34\n    njev: 34\n  status: 0\n success: True\n       x: array([ 0.12360257,  0.07946388, 54.63428849, 11.09057067,  2.79759143])\n",
      "0.11899719598511815      fun: 149.2662707357149\n     jac: array([-7.35855103e-03, -3.36799622e-02,  2.67028809e-05, -1.10626221e-04,\n        1.52587891e-05])\n message: 'Optimization terminated successfully.'\n    nfev: 207\n     nit: 28\n    njev: 28\n  status: 0\n success: True\n       x: array([4.52917988e-02, 7.09700964e-02, 6.10416167e+01, 2.73025674e+01,\n       1.83942897e+01])\n",
      "0.11899719598511815      fun: 149.2662707357149\n     jac: array([-7.35855103e-03, -3.36799622e-02,  2.67028809e-05, -1.10626221e-04,\n        1.52587891e-05])\n message: 'Optimization terminated successfully.'\n    nfev: 207\n     nit: 28\n    njev: 28\n  status: 0\n success: True\n       x: array([4.52917988e-02, 7.09700964e-02, 6.10416167e+01, 2.73025674e+01,\n       1.83942897e+01])\n",
      "0.11899720598511815      fun: 149.26627055705416\n     jac: array([-7.64465332e-03, -3.21159363e-02,  3.24249268e-05, -1.10626221e-04,\n        1.14440918e-05])\n message: 'Optimization terminated successfully.'\n    nfev: 207\n     nit: 28\n    njev: 28\n  status: 0\n success: True\n       x: array([4.52912506e-02, 7.09698911e-02, 6.10420514e+01, 2.73028600e+01,\n       1.83945667e+01])\n",
      "0.15068023739089897      fun: 148.98637071777748\n     jac: array([ 9.65690613e-03, -6.39152527e-03,  1.08718872e-04,  5.72204590e-06,\n       -1.65939331e-04])\n message: 'Optimization terminated successfully.'\n    nfev: 204\n     nit: 28\n    njev: 28\n  status: 0\n success: True\n       x: array([4.35566413e-02, 8.22336474e-02, 5.29686283e+01, 2.35984991e+01,\n       1.59537728e+01])\n",
      "0.15068023739089897      fun: 148.98637071777748\n     jac: array([ 9.65690613e-03, -6.39152527e-03,  1.08718872e-04,  5.72204590e-06,\n       -1.65939331e-04])\n message: 'Optimization terminated successfully.'\n    nfev: 204\n     nit: 28\n    njev: 28\n  status: 0\n success: True\n       x: array([4.35566413e-02, 8.22336474e-02, 5.29686283e+01, 2.35984991e+01,\n       1.59537728e+01])\n",
      "0.15068024739089897      fun: 148.9863705091583\n     jac: array([-2.69699097e-03,  1.26075745e-03, -3.81469727e-05,  1.14440918e-05,\n        5.72204590e-05])\n message: 'Optimization terminated successfully.'\n    nfev: 210\n     nit: 29\n    njev: 29\n  status: 0\n success: True\n       x: array([4.35547457e-02, 8.22390162e-02, 5.29677992e+01, 2.36001745e+01,\n       1.59569114e+01])\n",
      "0.15068023777168416      fun: 148.98637062800276\n     jac: array([-6.30187988e-03, -1.00021362e-02, -1.16348267e-04,  6.67572021e-05,\n        9.72747803e-05])\n message: 'Optimization terminated successfully.'\n    nfev: 204\n     nit: 28\n    njev: 28\n  status: 0\n success: True\n       x: array([4.35512226e-02, 8.22388763e-02, 5.29670969e+01, 2.36005479e+01,\n       1.59572754e+01])\n",
      "0.15068023777168416      fun: 148.98637062800276\n     jac: array([-6.30187988e-03, -1.00021362e-02, -1.16348267e-04,  6.67572021e-05,\n        9.72747803e-05])\n message: 'Optimization terminated successfully.'\n    nfev: 204\n     nit: 28\n    njev: 28\n  status: 0\n success: True\n       x: array([4.35512226e-02, 8.22388763e-02, 5.29670969e+01, 2.36005479e+01,\n       1.59572754e+01])\n",
      "0.15068024777168415      fun: 148.98637085736442\n     jac: array([-1.01776123e-02, -7.78198242e-04, -1.60217285e-04,  9.91821289e-05,\n        1.56402588e-04])\n message: 'Optimization terminated successfully.'\n    nfev: 204\n     nit: 28\n    njev: 28\n  status: 0\n success: True\n       x: array([4.35523462e-02, 8.22414941e-02, 5.29669727e+01, 2.36014610e+01,\n       1.59585955e+01])\n",
      "0.15068023757227467      fun: 148.98637070324764\n     jac: array([ 9.57870483e-03, -4.84848022e-03,  1.06811523e-04,  1.90734863e-06,\n       -1.60217285e-04])\n message: 'Optimization terminated successfully.'\n    nfev: 204\n     nit: 28\n    njev: 28\n  status: 0\n success: True\n       x: array([4.35573782e-02, 8.22341688e-02, 5.29684214e+01, 2.35983915e+01,\n       1.59537482e+01])\n",
      "0.15068023757227467      fun: 148.98637070324764\n     jac: array([ 9.57870483e-03, -4.84848022e-03,  1.06811523e-04,  1.90734863e-06,\n       -1.60217285e-04])\n message: 'Optimization terminated successfully.'\n    nfev: 204\n     nit: 28\n    njev: 28\n  status: 0\n success: True\n       x: array([4.35573782e-02, 8.22341688e-02, 5.29684214e+01, 2.35983915e+01,\n       1.59537482e+01])\n",
      "0.15068024757227466      fun: 148.98637079103605\n     jac: array([-9.37652588e-03, -3.28063965e-03, -1.52587891e-04,  8.77380371e-05,\n        1.41143799e-04])\n message: 'Optimization terminated successfully.'\n    nfev: 204\n     nit: 28\n    njev: 28\n  status: 0\n success: True\n       x: array([4.35517467e-02, 8.22407174e-02, 5.29671125e+01, 2.36013056e+01,\n       1.59583438e+01])\n",
      "0.15068023757227467      fun: 148.98637070324764\n     jac: array([ 9.57870483e-03, -4.84848022e-03,  1.06811523e-04,  1.90734863e-06,\n       -1.60217285e-04])\n message: 'Optimization terminated successfully.'\n    nfev: 204\n     nit: 28\n    njev: 28\n  status: 0\n success: True\n       x: array([4.35573782e-02, 8.22341688e-02, 5.29684214e+01, 2.35983915e+01,\n       1.59537482e+01])\n",
      "0.15068023757227467      fun: 148.98637070324764\n     jac: array([ 9.57870483e-03, -4.84848022e-03,  1.06811523e-04,  1.90734863e-06,\n       -1.60217285e-04])\n message: 'Optimization terminated successfully.'\n    nfev: 204\n     nit: 28\n    njev: 28\n  status: 0\n success: True\n       x: array([4.35573782e-02, 8.22341688e-02, 5.29684214e+01, 2.35983915e+01,\n       1.59537482e+01])\n",
      "0.15068024757227466      fun: 148.98637079103605\n     jac: array([-9.37652588e-03, -3.28063965e-03, -1.52587891e-04,  8.77380371e-05,\n        1.41143799e-04])\n message: 'Optimization terminated successfully.'\n    nfev: 204\n     nit: 28\n    njev: 28\n  status: 0\n success: True\n       x: array([4.35517467e-02, 8.22407174e-02, 5.29671125e+01, 2.36013056e+01,\n       1.59583438e+01])\n     fun: 148.98637070324764\n     jac: array([8.77884077])\n message: 'Converged (|f_n-f_(n-1)| ~= 0)'\n    nfev: 16\n     nit: 3\n  status: 1\n success: True\n       x: array([0.15068024])\n"
     ],
     "output_type": "stream"
    }
   ],
   "source": [
    "from scipy.optimize import minimize\n",
    "method = 'TNC'\n",
    "target = 'Sichao_choice'\n",
    "f = open('../data/fit_σ_R_sichao.dat', 'wb+')\n",
    "res = minimize(loss_fun, np.array([0.01]), method=method, bounds=[(0, 2)],\n",
    "               options={'maxiter': 1000, 'disp': False})\n",
    "print(res)\n",
    "f.close()"
   ],
   "metadata": {
    "collapsed": false,
    "pycharm": {
     "name": "#%%\n",
     "is_executing": false
    }
   }
  },
  {
   "cell_type": "code",
   "execution_count": null,
   "outputs": [
    {
     "name": "stdout",
     "text": [
      "0.01      fun: 177.1233550823369\n     jac: array([-6.26564026e-03,  5.91392517e-02, -1.90734863e-05,  3.24249268e-05,\n       -4.19616699e-05])\n message: 'Optimization terminated successfully.'\n    nfev: 307\n     nit: 42\n    njev: 42\n  status: 0\n success: True\n       x: array([2.25102511e-01, 4.17327548e-02, 1.60077608e+02, 2.99952905e+01,\n       1.64767809e+01])\n",
      "0.01      fun: 177.1233550823369\n     jac: array([-6.26564026e-03,  5.91392517e-02, -1.90734863e-05,  3.24249268e-05,\n       -4.19616699e-05])\n message: 'Optimization terminated successfully.'\n    nfev: 307\n     nit: 42\n    njev: 42\n  status: 0\n success: True\n       x: array([2.25102511e-01, 4.17327548e-02, 1.60077608e+02, 2.99952905e+01,\n       1.64767809e+01])\n",
      "0.01000001      fun: 177.1233540382123\n     jac: array([-1.90734863e-03,  1.21587753e-01, -5.72204590e-06,  9.15527344e-05,\n       -7.82012939e-05])\n message: 'Optimization terminated successfully.'\n    nfev: 290\n     nit: 40\n    njev: 40\n  status: 0\n success: True\n       x: array([2.25082665e-01, 4.17390160e-02, 1.60035912e+02, 2.99545991e+01,\n       1.64374309e+01])\n",
      "0.01000004455447201      fun: 177.12334949278187\n     jac: array([-5.81741333e-04,  3.58200073e-03,  1.14440918e-05,  7.62939453e-06,\n       -9.53674316e-06])\n message: 'Optimization terminated successfully.'\n    nfev: 314\n     nit: 43\n    njev: 43\n  status: 0\n success: True\n       x: array([2.25088614e-01, 4.17357932e-02, 1.60060019e+02, 2.99755147e+01,\n       1.64573818e+01])\n"
     ],
     "output_type": "stream"
    }
   ],
   "source": [
    "from scipy.optimize import minimize\n",
    "method = 'TNC'\n",
    "target = 'Johannes_choice'\n",
    "f = open('../data/fit_σ_R_johannes.dat', 'wb+')\n",
    "res = minimize(loss_fun, np.array([0.15]), method=method, bounds=[(0, 2)],\n",
    "               options={'maxiter': 1000, 'disp': True})\n",
    "print(res)\n",
    "f.close()"
   ],
   "metadata": {
    "collapsed": false,
    "pycharm": {
     "name": "#%%\n",
     "is_executing": true
    }
   }
  },
  {
   "cell_type": "code",
   "execution_count": null,
   "outputs": [],
   "source": [],
   "metadata": {
    "collapsed": false,
    "pycharm": {
     "name": "#%%\n"
    }
   }
  }
 ],
 "metadata": {
  "language_info": {
   "codemirror_mode": {
    "name": "ipython",
    "version": 2
   },
   "file_extension": ".py",
   "mimetype": "text/x-python",
   "name": "python",
   "nbconvert_exporter": "python",
   "pygments_lexer": "ipython2",
   "version": "2.7.6"
  },
  "kernelspec": {
   "name": "pycharm-de948503",
   "language": "python",
   "display_name": "PyCharm (Readings)"
  },
  "pycharm": {
   "stem_cell": {
    "cell_type": "raw",
    "source": [],
    "metadata": {
     "collapsed": false
    }
   }
  }
 },
 "nbformat": 4,
 "nbformat_minor": 0
}
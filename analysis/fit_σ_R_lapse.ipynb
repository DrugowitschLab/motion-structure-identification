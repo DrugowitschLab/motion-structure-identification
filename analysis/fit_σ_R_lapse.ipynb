{
 "cells": [
  {
   "cell_type": "code",
   "execution_count": 2,
   "metadata": {
    "collapsed": true,
    "pycharm": {
     "is_executing": false
    }
   },
   "outputs": [],
   "source": [
    "from utils.data import load_data\n",
    "from stimuli.motion_structure import MotionStructure\n",
    "from analysis.kalman_filter import apply_filters_on_trial\n",
    "from analysis.model import fit\n",
    "import numpy as np\n",
    "import pandas as pd\n",
    "import pickle\n",
    "structures={\n",
    "    'IND': MotionStructure(0, 2),\n",
    "    'GLO': MotionStructure(1, 1/4),\n",
    "    'CLU': MotionStructure(0, 1/4),\n",
    "    'SDH': MotionStructure(0.77, 1/4)\n",
    "}\n",
    "s = ['IND', 'GLO', 'CLU_012', 'CLU_120', 'CLU_201', 'SDH_012', 'SDH_120', 'SDH_201']\n",
    "df_sichao = pd.read_csv(f'../data/pilot_sichao_glo=0.77_v=1.5_0.csv')[['ground_truth', 'Sichao_choice']]\n",
    "df_johannes = pd.read_csv(f'../data/pilot_johannes_glo=0.77_v=1.5_0.csv')[['ground_truth', 'Johannes_choice']]\n",
    "data_sichao = load_data('../data/sichao_0729.dat')\n",
    "data_johannes = load_data('../data/johannes_0729.dat')\n",
    "x, t = [], []\n",
    "for trial in data_sichao:\n",
    "    x.append(trial['φ'][3:])\n",
    "    t.append(trial['t'][3:])\n",
    "x_sichao, t_sichao = np.array(x), np.array(t)\n",
    "x, t = [], []\n",
    "for trial in data_johannes:\n",
    "    x.append(trial['φ'][3:])\n",
    "    t.append(trial['t'][3:])\n",
    "x_johannes, t_johannes = np.array(x), np.array(t)\n",
    "rng = np.random.RandomState()\n",
    "dx = rng.normal(size=x_sichao.shape)"
   ]
  },
  {
   "cell_type": "code",
   "execution_count": 3,
   "outputs": [],
   "source": [
    "def add_noise(x, σ_R=0.):\n",
    "    return rng.normal(loc=x, scale=σ_R, size=x.shape)"
   ],
   "metadata": {
    "collapsed": false,
    "pycharm": {
     "name": "#%%\n",
     "is_executing": false
    }
   }
  },
  {
   "cell_type": "code",
   "execution_count": 3,
   "outputs": [],
   "source": [
    "def loss(x, t, σ_x, σ_R, df_target, repeats=1):\n",
    "    x = add_noise(np.repeat(x, repeats, axis=0), σ_x)\n",
    "    t = np.repeat(t, repeats, axis=0)\n",
    "    df_target = np.repeat(df_target, repeats, axis=0)\n",
    "    ℓ = []\n",
    "    for ii in range(x.shape[0]):\n",
    "        ℓ.append(np.array(apply_filters_on_trial(x[ii], t[ii], σ_R, structures=structures)))\n",
    "    df = pd.DataFrame(ℓ, columns=s)\n",
    "    df['target'] = df_target\n",
    "    mask = np.column_stack([df['target'] == structure for structure in ['IND', 'GLO'] + ['CLU'] * 3 + ['SDH'] * 3])\n",
    "    res = fit(df, mask, 'target', np.array([0.01, 0.1, 0., 0., 0.]), disp=False)\n",
    "    print(res)\n",
    "    return res.fun"
   ],
   "metadata": {
    "collapsed": false,
    "pycharm": {
     "name": "#%%\n",
     "is_executing": false
    }
   }
  },
  {
   "cell_type": "code",
   "execution_count": 7,
   "outputs": [
    {
     "name": "stdout",
     "text": [
      "     fun: 805.4831702127499\n     jac: array([-1.87149048e-02,  3.19099426e-01, -7.62939453e-06, -7.62939453e-06,\n       -2.28881836e-05])\n message: 'Optimization terminated successfully.'\n    nfev: 372\n     nit: 49\n    njev: 48\n  status: 0\n success: True\n       x: array([ 1.23133213e-01,  1.40310435e-02, -1.20148201e+02,  2.60795681e+01,\n       -5.79762465e+00])\n",
      "     fun: 840.9775942459073\n     jac: array([-3.18450928e-02,  2.52548218e-01,  6.10351562e-05,  1.52587891e-04,\n       -2.59399414e-04])\n message: 'Optimization terminated successfully.'\n    nfev: 193\n     nit: 26\n    njev: 26\n  status: 0\n success: True\n       x: array([9.32562585e-02, 4.15227080e-02, 1.64147854e+01, 4.16268972e+01,\n       2.34786682e+01])\n",
      "     fun: 842.0603437863417\n     jac: array([ 0.03469849, -0.08174896, -0.00011444, -0.00056458,  0.00071716])\n message: 'Optimization terminated successfully.'\n    nfev: 165\n     nit: 22\n    njev: 22\n  status: 0\n success: True\n       x: array([ 0.09200762,  0.05884876, 11.39764773, 30.0035388 , 17.18474249])\n",
      "     fun: 834.9254938223467\n     jac: array([ 0.057724  , -0.07409668, -0.00019073, -0.00021362,  0.00018311])\n message: 'Optimization terminated successfully.'\n    nfev: 143\n     nit: 18\n    njev: 18\n  status: 0\n success: True\n       x: array([ 0.08862791,  0.09182118,  7.33497051, 19.97717922, 11.76757616])\n",
      "     fun: 827.3857963687087\n     jac: array([ 1.35803223e-03,  2.52838135e-02, -1.60217285e-04, -7.62939453e-05,\n        2.13623047e-04])\n message: 'Optimization terminated successfully.'\n    nfev: 483\n     nit: 65\n    njev: 61\n  status: 0\n success: True\n       x: array([ 0.08803365,  0.13466278,  2.68671704, 12.91698412,  7.15793425])\n",
      "     fun: 945.2969010016982\n     jac: array([-0.00151062, -0.00028229,  0.        ,  0.00435638, -0.00534058])\n message: 'Optimization terminated successfully.'\n    nfev: 640\n     nit: 83\n    njev: 83\n  status: 0\n success: True\n       x: array([  0.30153621,  14.23354362,  -8.55064918,  -9.80692247,\n       -11.39547693])\n",
      "     fun: 790.6300049788957\n     jac: array([ 0.03703308, -0.02632141, -0.00078583, -0.0003891 ,  0.00087738])\n message: 'Optimization terminated successfully.'\n    nfev: 360\n     nit: 46\n    njev: 45\n  status: 0\n success: True\n       x: array([ 0.07500706,  0.36729903, -3.61759879,  2.45907085, -0.1157777 ])\n",
      "     fun: 785.0715254490906\n     jac: array([-0.00282288, -0.01713562,  0.00263977, -0.004776  ,  0.00049591])\n message: 'Optimization terminated successfully.'\n    nfev: 432\n     nit: 55\n    njev: 54\n  status: 0\n success: True\n       x: array([ 0.08112451,  0.58439425, -3.58131907,  1.03239181, -0.87112844])\n",
      "     fun: 810.4643643909244\n     jac: array([ 0.01765442, -0.00475311,  0.00159454, -0.00479126,  0.00223541])\n message: 'Optimization terminated successfully.'\n    nfev: 295\n     nit: 37\n    njev: 36\n  status: 0\n success: True\n       x: array([ 0.08411401,  0.90191775, -3.33808866,  0.15998157, -1.27802474])\n",
      "     fun: 841.2048700264161\n     jac: array([ 0.00146484,  0.00196838,  0.00367737,  0.00028992, -0.00062561])\n message: 'Optimization terminated successfully.'\n    nfev: 176\n     nit: 21\n    njev: 21\n  status: 0\n success: True\n       x: array([ 0.08493454,  1.12719005, -3.04457014, -0.07489492, -1.28319332])\n",
      "     fun: 842.454544625399\n     jac: array([ 1.95312500e-02, -3.43170166e-02, -1.52587891e-05,  1.37329102e-04,\n       -1.67846680e-04])\n message: 'Optimization terminated successfully.'\n    nfev: 236\n     nit: 32\n    njev: 32\n  status: 0\n success: True\n       x: array([9.18954173e-02, 4.08354232e-02, 5.13202617e+01, 5.89769090e+01,\n       4.58393587e+01])\n",
      "     fun: 842.0958744327785\n     jac: array([ 8.11004639e-03,  3.77136230e-01, -1.14440918e-04,  4.27246094e-04,\n       -1.98364258e-04])\n message: 'Optimization terminated successfully.'\n    nfev: 165\n     nit: 22\n    njev: 22\n  status: 0\n success: True\n       x: array([ 0.09222013,  0.05890729, 17.36332787, 32.77263704, 20.90151328])\n",
      "     fun: 835.8141822068478\n     jac: array([ 2.14767456e-02, -3.75976562e-02, -9.15527344e-05, -1.83105469e-04,\n        2.59399414e-04])\n message: 'Optimization terminated successfully.'\n    nfev: 179\n     nit: 23\n    njev: 23\n  status: 0\n success: True\n       x: array([ 0.08896434,  0.09172782,  8.05250256, 20.35844413, 12.25513288])\n",
      "     fun: 827.5234212803518\n     jac: array([-0.00332642,  0.01028442,  0.        ,  0.00024414, -0.00010681])\n message: 'Optimization terminated successfully.'\n    nfev: 376\n     nit: 49\n    njev: 48\n  status: 0\n success: True\n       x: array([ 0.08797651,  0.13451507,  2.9022293 , 13.04243812,  7.30591982])\n",
      "     fun: 946.0965930346679\n     jac: array([-9.61837769e-02,  1.60217285e-04,  5.34057617e-05, -6.11877441e-03,\n        6.19506836e-03])\n message: 'Optimization terminated successfully.'\n    nfev: 373\n     nit: 48\n    njev: 48\n  status: 0\n success: True\n       x: array([ 0.30175201,  9.49155145, -6.93999194, -7.81280706, -9.3321316 ])\n",
      "     fun: 790.9396384654879\n     jac: array([-0.00778961, -0.03060913,  0.00031281, -0.00370789,  0.00331116])\n message: 'Optimization terminated successfully.'\n    nfev: 347\n     nit: 44\n    njev: 43\n  status: 0\n success: True\n       x: array([ 0.07515842,  0.36688012, -3.58770748,  2.48716154, -0.08777224])\n",
      "     fun: 785.3215384600886\n     jac: array([-2.34222412e-03, -1.86767578e-02,  9.99450684e-04, -4.57763672e-05,\n       -1.22833252e-03])\n message: 'Optimization terminated successfully.'\n    nfev: 374\n     nit: 47\n    njev: 46\n  status: 0\n success: True\n       x: array([ 0.0809976 ,  0.58337359, -3.56996311,  1.04006194, -0.86405213])\n",
      "     fun: 810.4086035539347\n     jac: array([-0.00636292,  0.01042938,  0.        ,  0.00139618, -0.00050354])\n message: 'Optimization terminated successfully.'\n    nfev: 287\n     nit: 36\n    njev: 35\n  status: 0\n success: True\n       x: array([ 0.08401324,  0.9010152 , -3.33542094,  0.16087852, -1.27742149])\n",
      "     fun: 840.7501903243146\n     jac: array([-2.31933594e-03,  3.17382812e-03,  3.59344482e-03, -2.27355957e-03,\n        5.34057617e-05])\n message: 'Optimization terminated successfully.'\n    nfev: 176\n     nit: 21\n    njev: 21\n  status: 0\n success: True\n       x: array([ 0.08494243,  1.12924667, -3.04755235, -0.07745968, -1.28585352])\n",
      "     fun: 843.9820590030538\n     jac: array([-2.05841064e-02,  1.88446045e-03,  0.00000000e+00,  3.05175781e-05,\n       -7.62939453e-05])\n message: 'Optimization terminated successfully.'\n    nfev: 178\n     nit: 24\n    njev: 24\n  status: 0\n success: True\n       x: array([ 0.09586929,  0.06013615, 33.87485136, 40.38816735, 31.14835324])\n",
      "     fun: 836.5881746270794\n     jac: array([-5.88989258e-03, -3.50952148e-03,  1.37329102e-04, -2.36511230e-04,\n        6.86645508e-05])\n message: 'Optimization terminated successfully.'\n    nfev: 236\n     nit: 31\n    njev: 31\n  status: 0\n success: True\n       x: array([ 0.08844971,  0.09150221, 10.03957157, 21.41422944, 13.55832315])\n",
      "     fun: 827.2313706770043\n     jac: array([-6.64520264e-03,  1.12686157e-02,  3.05175781e-05,  1.44958496e-04,\n       -3.05175781e-05])\n message: 'Optimization terminated successfully.'\n    nfev: 363\n     nit: 48\n    njev: 46\n  status: 0\n success: True\n       x: array([ 0.08848593,  0.13473025,  3.37117254, 13.23830622,  7.57169525])\n",
      "     fun: 816.8485368911158\n     jac: array([-8.36181641e-03,  1.97067261e-02, -4.57763672e-05, -2.05993652e-04,\n        4.27246094e-04])\n message: 'Optimization terminated successfully.'\n    nfev: 486\n     nit: 65\n    njev: 61\n  status: 0\n success: True\n       x: array([ 0.08917368,  0.21600335, -2.45619838,  6.04655331,  2.06731024])\n",
      "     fun: 789.663745604511\n     jac: array([ 0.00606537,  0.00695038, -0.00075531,  0.00022888,  0.0005188 ])\n message: 'Optimization terminated successfully.'\n    nfev: 401\n     nit: 52\n    njev: 50\n  status: 0\n success: True\n       x: array([ 0.07472629,  0.36793892, -3.60481151,  2.45509414, -0.12130431])\n",
      "     fun: 785.3650410493715\n     jac: array([ 0.00238037, -0.00627136, -0.00010681, -0.00146484,  0.0015564 ])\n message: 'Optimization terminated successfully.'\n    nfev: 298\n     nit: 38\n    njev: 38\n  status: 0\n success: True\n       x: array([ 0.0810773 ,  0.58412464, -3.57322607,  1.03911295, -0.86131608])\n",
      "     fun: 810.245217740781\n     jac: array([ 0.00533295, -0.01317596, -0.00133514, -0.00418091,  0.00101471])\n message: 'Optimization terminated successfully.'\n    nfev: 288\n     nit: 36\n    njev: 35\n  status: 0\n success: True\n       x: array([ 0.08392619,  0.90245157, -3.34099241,  0.16008295, -1.27848823])\n",
      "     fun: 840.3513776840535\n     jac: array([ 8.31604004e-04, -2.13623047e-04,  2.38800049e-03, -5.34057617e-05,\n       -5.64575195e-04])\n message: 'Optimization terminated successfully.'\n    nfev: 176\n     nit: 21\n    njev: 21\n  status: 0\n success: True\n       x: array([ 0.08479616,  1.12804007, -3.04148821, -0.07274366, -1.27964061])\n",
      "     fun: 832.7761931098839\n     jac: array([ 1.25045776e-02,  1.96838379e-03,  2.28881836e-05, -1.52587891e-05,\n        9.15527344e-05])\n message: 'Optimization terminated successfully.'\n    nfev: 463\n     nit: 63\n    njev: 60\n  status: 0\n success: True\n       x: array([ 0.0911138 ,  0.09293143, 25.1300476 , 28.73080499, 22.82427288])\n",
      "     fun: 824.6557673531277\n     jac: array([ 2.42614746e-03, -1.73339844e-02,  3.05175781e-05, -7.78198242e-04,\n        7.62939453e-04])\n message: 'Optimization terminated successfully.'\n    nfev: 338\n     nit: 44\n    njev: 44\n  status: 0\n success: True\n       x: array([ 0.08890935,  0.13700865,  6.04055941, 14.32561501,  9.14101819])\n",
      "     fun: 818.2003135754926\n     jac: array([-0.03781128,  0.05461884,  0.0005188 ,  0.00019836, -0.00041199])\n message: 'Optimization terminated successfully.'\n    nfev: 460\n     nit: 61\n    njev: 59\n  status: 0\n success: True\n       x: array([ 0.09017993,  0.21987284, -2.18640129,  6.05206893,  2.13664454])\n",
      "     fun: 790.7345101841522\n     jac: array([ 0.01176453,  0.00483704,  0.        ,  0.00031281, -0.00013733])\n message: 'Optimization terminated successfully.'\n    nfev: 418\n     nit: 54\n    njev: 54\n  status: 0\n success: True\n       x: array([ 0.07481697,  0.36890636, -3.54034838,  2.47615517, -0.08056311])\n",
      "     fun: 785.8190806022003\n     jac: array([-0.01475525,  0.00963593,  0.00064087,  0.00534058, -0.00665283])\n message: 'Optimization terminated successfully.'\n    nfev: 403\n     nit: 52\n    njev: 50\n  status: 0\n success: True\n       x: array([ 0.08196575,  0.58290465, -3.44781356,  1.10587273, -0.78788584])\n",
      "     fun: 810.4837814023992\n     jac: array([ 0.06299591, -0.01529694, -0.00623322, -0.00078583,  0.00492859])\n message: 'Optimization terminated successfully.'\n    nfev: 311\n     nit: 39\n    njev: 39\n  status: 0\n success: True\n       x: array([ 0.08412897,  0.90102248, -3.3186328 ,  0.18288099, -1.25355306])\n",
      "     fun: 840.24477460819\n     jac: array([0.00466919, 0.00485229, 0.0012207 , 0.00070953, 0.00071716])\n message: 'Optimization terminated successfully.'\n    nfev: 177\n     nit: 21\n    njev: 21\n  status: 0\n success: True\n       x: array([ 0.08521346,  1.13196878, -3.03435308, -0.08192192, -1.28834764])\n",
      "     fun: 875.6480895401783\n     jac: array([ 98.47764587, 171.17686462,   0.58611298,  -3.03987122,\n         2.41850281])\n message: 'Positive directional derivative for linesearch'\n    nfev: 381\n     nit: 51\n    njev: 47\n  status: 8\n success: False\n       x: array([ 0.21724257,  0.2808878 , 19.11286806, 16.80621848, 14.39014247])\n",
      "     fun: 818.9815966727839\n     jac: array([-4.69970703e-03,  5.42449951e-03,  9.91821289e-05,  8.39233398e-05,\n       -4.57763672e-04])\n message: 'Optimization terminated successfully.'\n    nfev: 459\n     nit: 60\n    njev: 58\n  status: 0\n success: True\n       x: array([0.09167469, 0.20764893, 3.62425047, 9.9286651 , 6.34829155])\n",
      "     fun: 793.8729516745925\n     jac: array([ 0.01065063, -0.00465393, -0.00242615,  0.00064087,  0.00183868])\n message: 'Optimization terminated successfully.'\n    nfev: 413\n     nit: 53\n    njev: 52\n  status: 0\n success: True\n       x: array([ 0.07678418,  0.36294877, -2.52809852,  3.18100097,  0.64269815])\n",
      "     fun: 786.57665720148\n     jac: array([-0.03794098,  0.01176453,  0.00157166,  0.0007782 , -0.00016785])\n message: 'Optimization terminated successfully.'\n    nfev: 415\n     nit: 53\n    njev: 52\n  status: 0\n success: True\n       x: array([ 0.0833376 ,  0.58124277, -3.1110873 ,  1.33912492, -0.53417639])\n",
      "     fun: 812.027646177293\n     jac: array([-0.02787018, -0.00953674, -0.00140381, -0.00231934, -0.00131226])\n message: 'Optimization terminated successfully.'\n    nfev: 263\n     nit: 33\n    njev: 33\n  status: 0\n success: True\n       x: array([ 0.08366347,  0.89977457, -3.2760407 ,  0.18499963, -1.25590869])\n",
      "     fun: 846.8430262552498\n     jac: array([ 0.01165009, -0.00229645,  0.00193024, -0.00153351,  0.00026703])\n message: 'Optimization terminated successfully.'\n    nfev: 184\n     nit: 22\n    njev: 22\n  status: 0\n success: True\n       x: array([ 0.08594832,  1.11516935, -2.96924655, -0.03999433, -1.24680535])\n",
      "     fun: 869.1045676337053\n     jac: array([ 0.00495148, -0.00709534, -0.00013733, -0.00016785,  0.00031281])\n message: 'Optimization terminated successfully.'\n    nfev: 619\n     nit: 82\n    njev: 80\n  status: 0\n success: True\n       x: array([ 0.12078577,  0.17344159, 37.08826139, 35.71346824, 33.24254109])\n",
      "     fun: 814.9044430839059\n     jac: array([-0.02104187, -0.00821686, -0.00084686,  0.0003891 ,  0.00037384])\n message: 'Optimization terminated successfully.'\n    nfev: 384\n     nit: 50\n    njev: 50\n  status: 0\n success: True\n       x: array([0.08899564, 0.34645307, 1.64702807, 6.14684405, 3.72686407])\n",
      "     fun: 803.3975830603224\n     jac: array([-0.01290894,  0.00172424,  0.00018311,  0.00061035, -0.00074768])\n message: 'Optimization terminated successfully.'\n    nfev: 366\n     nit: 47\n    njev: 47\n  status: 0\n success: True\n       x: array([ 0.08316529,  0.54153174, -1.59901042,  2.43842196,  0.60015028])\n",
      "     fun: 830.419450722452\n     jac: array([ 0.00144958,  0.00123596, -0.00015259,  0.00050354, -0.00043488])\n message: 'Optimization terminated successfully.'\n    nfev: 234\n     nit: 29\n    njev: 29\n  status: 0\n success: True\n       x: array([ 0.0895595 ,  0.87366403, -2.73510107,  0.50014749, -0.91411775])\n",
      "     fun: 856.949485779829\n     jac: array([-0.0030365 , -0.00456238,  0.00829315, -0.00469208, -0.00549316])\n message: 'Optimization terminated successfully.'\n    nfev: 184\n     nit: 22\n    njev: 22\n  status: 0\n success: True\n       x: array([ 0.08688591,  1.07748424, -2.65528799,  0.15912828, -1.03019448])\n",
      "     fun: 1032.9026646172229\n     jac: array([-4.88281250e-04,  2.19726562e-03, -6.10351562e-05,  2.74658203e-04,\n       -1.52587891e-04])\n message: 'Optimization terminated successfully.'\n    nfev: 140\n     nit: 17\n    njev: 17\n  status: 0\n success: True\n       x: array([3.67976492e-02, 1.09093641e-01, 3.68673940e+01, 3.38171080e+01,\n       3.03988514e+01])\n",
      "     fun: 965.5500040273175\n     jac: array([-0.02061462,  0.00424194, -0.00094604,  0.00053406,  0.00125122])\n message: 'Optimization terminated successfully.'\n    nfev: 431\n     nit: 56\n    njev: 53\n  status: 0\n success: True\n       x: array([ 0.02670288,  0.22312666, 11.43361138, 13.21688881, 10.84476793])\n",
      "     fun: 946.4639571621146\n     jac: array([ 0.00105286,  0.00550842, -0.00022888,  0.00115967, -0.00111389])\n message: 'Optimization terminated successfully.'\n    nfev: 251\n     nit: 31\n    njev: 31\n  status: 0\n success: True\n       x: array([0.08548557, 0.54145257, 1.26377084, 3.62441622, 2.16540626])\n",
      "     fun: 974.5950831772493\n     jac: array([ 0.01197815,  0.0057373 , -0.00616455,  0.00300598,  0.00423431])\n message: 'Optimization terminated successfully.'\n    nfev: 200\n     nit: 24\n    njev: 24\n  status: 0\n success: True\n       x: array([ 0.08720285,  0.71422256, -0.22805745,  2.13638422,  0.84861866])\n",
      "     fun: 1264.9526260634623\n     jac: array([-0.00814819,  0.00421143, -0.00019836,  0.00027466, -0.0002594 ])\n message: 'Optimization terminated successfully.'\n    nfev: 147\n     nit: 19\n    njev: 19\n  status: 0\n success: True\n       x: array([ 0.06389239,  0.07088459, 42.22535723, 42.3949321 , 36.34489872])\n",
      "     fun: 1253.0186152291938\n     jac: array([ 7.17163086e-04, -1.89208984e-02,  6.10351562e-04, -5.49316406e-04,\n       -1.52587891e-05])\n message: 'Optimization terminated successfully.'\n    nfev: 150\n     nit: 19\n    njev: 19\n  status: 0\n success: True\n       x: array([ 0.12068899,  0.17930092, 13.82573893, 15.7025143 , 12.54411025])\n",
      "     fun: 1316.9373124809372\n     jac: array([-0.00250244,  0.0020752 ,  0.0004425 ,  0.00074768, -0.00152588])\n message: 'Optimization terminated successfully.'\n    nfev: 186\n     nit: 23\n    njev: 23\n  status: 0\n success: True\n       x: array([0.17567857, 0.28727447, 5.47893406, 8.29365199, 5.75144493])\n",
      "     fun: 1663.5527533666223\n     jac: array([-54.96981812,   0.        ,   0.        ,   0.        ,\n         0.        ])\n message: 'Optimization terminated successfully.'\n    nfev: 21\n     nit: 3\n    njev: 3\n  status: 0\n success: True\n       x: array([ 1.00000000e+00,  3.33139627e-04, -1.16018704e+01,  2.31352353e+01,\n        4.10393278e+00])\n",
      "     fun: 1663.552753344195\n     jac: array([-55.32356262,   0.        ,   0.        ,   0.        ,\n         0.        ])\n message: 'Optimization terminated successfully.'\n    nfev: 21\n     nit: 3\n    njev: 3\n  status: 0\n success: True\n       x: array([ 1.00000000e+00,  1.95939796e-04, -1.98376058e+01,  2.47448175e+01,\n        5.34614201e+00])\n",
      "     fun: 1663.552753343965\n     jac: array([-55.36698914,   0.        ,   0.        ,   0.        ,\n         0.        ])\n message: 'Optimization terminated successfully.'\n    nfev: 21\n     nit: 3\n    njev: 3\n  status: 0\n success: True\n       x: array([ 1.00000000e+00,  1.70709858e-04, -2.24921226e+01,  2.49677768e+01,\n        5.40149114e+00])\n\n[0.0, 0.01, 0.02, 0.05, 0.1, 0.2, 0.5, 1, 2, 3]\n[[ 805.48317021  840.97759425  842.06034379  834.92549382  827.38579637\n   945.296901    790.63000498  785.07152545  810.46436439  841.20487003]\n [   0.          842.45454463  842.09587443  835.81418221  827.52342128\n   946.09659303  790.93963847  785.32153846  810.40860355  840.75019032]\n [   0.            0.          843.982059    836.58817463  827.23137068\n   816.84853689  789.6637456   785.36504105  810.24521774  840.35137768]\n [   0.            0.            0.          832.77619311  824.65576735\n   818.20031358  790.73451018  785.8190806   810.4837814   840.24477461]\n [   0.            0.            0.            0.          875.64808954\n   818.98159667  793.87295167  786.5766572   812.02764618  846.84302626]\n [   0.            0.            0.            0.            0.\n   869.10456763  814.90444308  803.39758306  830.41945072  856.94948578]\n [   0.            0.            0.            0.            0.\n     0.         1032.90266462  965.55000403  946.46395716  974.59508318]\n [   0.            0.            0.            0.            0.\n     0.            0.         1264.95262606 1253.01861523 1316.93731248]\n [   0.            0.            0.            0.            0.\n     0.            0.            0.         1663.55275337 1663.55275334]\n [   0.            0.            0.            0.            0.\n     0.            0.            0.            0.         1663.55275334]]\n"
     ],
     "output_type": "stream"
    }
   ],
   "source": [
    "from time import time\n",
    "σ = [0., 0.01, 0.02, 0.05, 0.1, 0.2, 0.5, 1, 2, 3]\n",
    "cut = len(x_sichao)\n",
    "n = len(σ)\n",
    "repeats = 6\n",
    "losses = np.zeros((n, n))\n",
    "t_s = time()\n",
    "for i in range(n):\n",
    "    for j in range(i, n):\n",
    "        losses[i, j] = loss(x_sichao[:cut], t_sichao[:cut], σ[i], σ[j], df_sichao['Sichao_choice'].to_numpy()[:cut], repeats)\n",
    "        # print(time() - t_s)\n",
    "print()\n",
    "print(σ)\n",
    "print(losses)"
   ],
   "metadata": {
    "collapsed": false,
    "pycharm": {
     "name": "#%%\n",
     "is_executing": false
    }
   }
  },
  {
   "cell_type": "code",
   "execution_count": 8,
   "outputs": [
    {
     "name": "stdout",
     "text": [
      "     fun: 863.5859385448333\n     jac: array([-4.95910645e-04,  9.69467163e-02,  7.62939453e-06,  1.52587891e-05,\n        7.62939453e-06])\n message: 'Optimization terminated successfully.'\n    nfev: 359\n     nit: 51\n    njev: 48\n  status: 0\n success: True\n       x: array([ 1.66188409e-01,  1.30421657e-02, -1.48093222e+01,  4.61819723e+01,\n        4.59380541e+01])\n",
      "     fun: 906.3021678234621\n     jac: array([ 8.92639160e-04, -1.08345032e-01, -2.28881836e-05, -3.05175781e-05,\n        5.34057617e-05])\n message: 'Optimization terminated successfully.'\n    nfev: 201\n     nit: 28\n    njev: 28\n  status: 0\n success: True\n       x: array([1.41287207e-01, 3.97834106e-02, 5.02868080e+01, 4.17435731e+01,\n       3.12618296e+01])\n",
      "     fun: 906.9539154613385\n     jac: array([ 2.54135132e-02, -2.02293396e-01, -6.10351562e-05, -6.79016113e-04,\n        6.79016113e-04])\n message: 'Optimization terminated successfully.'\n    nfev: 171\n     nit: 23\n    njev: 23\n  status: 0\n success: True\n       x: array([ 0.13758389,  0.05641267, 34.0072967 , 29.48165948, 22.36773136])\n",
      "     fun: 936.4250452474105\n     jac: array([-0.00822449,  0.        ,  0.        , -0.0052948 ,  0.        ])\n message: 'Optimization terminated successfully.'\n    nfev: 379\n     nit: 48\n    njev: 48\n  status: 0\n success: True\n       x: array([  0.29999801,  35.32772463, -13.57033306, -25.07947295,\n       -33.12386139])\n",
      "     fun: 922.4137874843734\n     jac: array([ 0.68284607,  0.        ,  0.29678345, -0.67940521,  0.38261414])\n message: 'Optimization terminated successfully.'\n    nfev: 625\n     nit: 81\n    njev: 81\n  status: 0\n success: True\n       x: array([  0.29351727, 287.84351842, -13.30476048, -18.32032337,\n       -24.63433831])\n",
      "     fun: 957.7898110332011\n     jac: array([-9.04075623e-01, -1.06811523e-04,  1.19019455e+02, -1.31884918e+02,\n       -1.19010094e+02])\n message: 'Optimization terminated successfully.'\n    nfev: 814\n     nit: 105\n    njev: 105\n  status: 0\n success: True\n       x: array([ 3.07511428e-01,  7.96878724e+02, -1.29477464e+01, -1.35600815e+01,\n       -1.58600889e+01])\n",
      "     fun: 910.5696036800571\n     jac: array([ 0.00071716,  0.00192261, -0.00091553,  0.00082397, -0.00050354])\n message: 'Optimization terminated successfully.'\n    nfev: 389\n     nit: 50\n    njev: 50\n  status: 0\n success: True\n       x: array([0.23111478, 0.88449152, 3.79567601, 9.85907836, 6.88011518])\n",
      "     fun: 802.9893011857746\n     jac: array([-0.0609436 ,  0.        ,  0.0488739 , -0.23078918, -0.00814819])\n message: 'Optimization terminated successfully.'\n    nfev: 285\n     nit: 35\n    njev: 35\n  status: 0\n success: True\n       x: array([ 0.23998789, 65.89757091, -7.56795882, -3.33689891, -6.05073233])\n",
      "     fun: 837.392806184835\n     jac: array([0.00119781, 0.0002594 , 0.0014801 , 0.00144196, 0.00245667])\n message: 'Optimization terminated successfully.'\n    nfev: 234\n     nit: 28\n    njev: 28\n  status: 0\n success: True\n       x: array([ 0.2098629 ,  3.65430187, -6.92059472, -2.83099576, -4.53138304])\n",
      "     fun: 890.4541620182137\n     jac: array([-0.01270294,  0.00149536,  0.00237274,  0.002388  , -0.00048065])\n message: 'Optimization terminated successfully.'\n    nfev: 191\n     nit: 23\n    njev: 23\n  status: 0\n success: True\n       x: array([ 0.21556733,  3.57724436, -5.41598028, -2.18309461, -3.55688328])\n",
      "     fun: 904.9821231541553\n     jac: array([-8.06427002e-03, -1.80175781e-01, -1.52587891e-05, -1.52587891e-05,\n        3.05175781e-05])\n message: 'Optimization terminated successfully.'\n    nfev: 197\n     nit: 27\n    njev: 27\n  status: 0\n success: True\n       x: array([1.41833429e-01, 3.99796775e-02, 8.48775387e+01, 5.76165906e+01,\n       5.24557072e+01])\n",
      "     fun: 905.9321804326526\n     jac: array([-1.80053711e-03,  2.06756592e-02, -1.52587891e-05,  4.57763672e-05,\n       -4.57763672e-05])\n message: 'Optimization terminated successfully.'\n    nfev: 176\n     nit: 24\n    njev: 24\n  status: 0\n success: True\n       x: array([ 0.13759548,  0.05668502, 39.66122616, 31.68660066, 25.55715934])\n",
      "     fun: 1151.604088695468\n     jac: array([-0.00090027,  0.        ,  0.        ,  0.        ,  0.        ])\n message: 'Optimization terminated successfully.'\n    nfev: 108\n     nit: 11\n    njev: 11\n  status: 0\n success: True\n       x: array([  0.41333281,   5.62743952,  -0.25203191,  15.0077631 ,\n       -13.82213338])\n",
      "     fun: 931.7412915040732\n     jac: array([ 0.03464508,  0.        ,  0.00617981, -0.00176239, -0.00440979])\n message: 'Optimization terminated successfully.'\n    nfev: 366\n     nit: 46\n    njev: 46\n  status: 0\n success: True\n       x: array([ 0.29778641, 72.64758721,  3.11699988, -2.20331129, -8.79335336])\n",
      "     fun: 973.5893864473984\n     jac: array([ 3.79180908e-03,  2.28881836e-05, -1.22833252e-03, -2.28881836e-05,\n        1.22070312e-03])\n message: 'Optimization terminated successfully.'\n    nfev: 308\n     nit: 39\n    njev: 39\n  status: 0\n success: True\n       x: array([  0.31526142,   5.04746874,  -9.05750904,  -9.65092955,\n       -11.49476715])\n",
      "     fun: 886.4192145187492\n     jac: array([-0.02476501,  0.00091553, -0.00379944,  0.00739288, -0.00292969])\n message: 'Optimization terminated successfully.'\n    nfev: 362\n     nit: 46\n    njev: 46\n  status: 0\n success: True\n       x: array([ 0.25174706,  3.51094004, -6.2303508 , -1.7063572 , -5.38255516])\n",
      "     fun: 804.913079662795\n     jac: array([-0.04360962, -0.00049591, -0.0031662 , -0.02817535,  0.0009079 ])\n message: 'Optimization terminated successfully.'\n    nfev: 452\n     nit: 58\n    njev: 58\n  status: 0\n success: True\n       x: array([ 0.24027828, 67.3543447 , -8.79388985, -3.32031277, -6.02990198])\n",
      "     fun: 837.4712712162075\n     jac: array([ 0.00410461, -0.00062561, -0.00105286, -0.00074768,  0.0013504 ])\n message: 'Optimization terminated successfully.'\n    nfev: 229\n     nit: 28\n    njev: 28\n  status: 0\n success: True\n       x: array([ 0.2096657 ,  3.65029314, -6.92290338, -2.83464658, -4.53477968])\n",
      "     fun: 889.8593645903829\n     jac: array([ 0.02732849, -0.00151062,  0.00215149, -0.00775146, -0.00479889])\n message: 'Optimization terminated successfully.'\n    nfev: 184\n     nit: 22\n    njev: 22\n  status: 0\n success: True\n       x: array([ 0.21613224,  3.63016992, -5.42567919, -2.19402536, -3.56412746])\n",
      "     fun: 907.6643865619453\n     jac: array([ 6.21795654e-03, -1.28997803e-01, -7.62939453e-06, -1.52587891e-04,\n        6.86645508e-05])\n message: 'Optimization terminated successfully.'\n    nfev: 209\n     nit: 28\n    njev: 28\n  status: 0\n success: True\n       x: array([ 0.14116628,  0.0576813 , 55.14076282, 39.91316634, 36.57734111])\n",
      "     fun: 1004.385381950145\n     jac: array([-0.00492096,  0.        ,  0.        ,  0.        ,  0.        ])\n message: 'Optimization terminated successfully.'\n    nfev: 131\n     nit: 17\n    njev: 17\n  status: 0\n success: True\n       x: array([ 3.33331699e-01,  5.50745168e+00,  1.31623859e-03,  9.51271106e-01,\n       -9.42845644e-01])\n",
      "     fun: 931.7440738282787\n     jac: array([-0.0064621 ,  0.        ,  0.0004425 ,  0.00484467, -0.00308228])\n message: 'Optimization terminated successfully.'\n    nfev: 512\n     nit: 63\n    njev: 63\n  status: 0\n success: True\n       x: array([  0.29777618,  80.55407887, -11.8729216 , -17.03646918,\n       -23.45721005])\n",
      "     fun: 936.3569001441049\n     jac: array([-0.00071716, -0.00012207, -0.00019836, -0.00254822,  0.00267029])\n message: 'Optimization terminated successfully.'\n    nfev: 241\n     nit: 31\n    njev: 31\n  status: 0\n success: True\n       x: array([0.29781922, 8.57241461, 5.78606396, 7.29258904, 2.76143689])\n",
      "     fun: 855.7365067207112\n     jac: array([ 0.00932312,  0.00141907,  0.00032806,  0.00486755, -0.00411987])\n message: 'Optimization terminated successfully.'\n    nfev: 460\n     nit: 59\n    njev: 57\n  status: 0\n success: True\n       x: array([ 0.16530092,  0.65881057, -9.09563075, -3.17772802, -5.98272097])\n",
      "     fun: 810.583034196706\n     jac: array([ 4.48226929e-02,  9.15527344e-05,  0.00000000e+00,  1.68609619e-02,\n       -2.53906250e-02])\n message: 'Optimization terminated successfully.'\n    nfev: 300\n     nit: 37\n    njev: 37\n  status: 0\n success: True\n       x: array([ 0.24210058, 44.02190935, -8.11329685, -3.33294753, -6.06386722])\n",
      "     fun: 836.8398438826481\n     jac: array([ 2.17437744e-03, -1.19781494e-03,  3.81469727e-05,  1.45721436e-03,\n       -9.76562500e-04])\n message: 'Optimization terminated successfully.'\n    nfev: 224\n     nit: 27\n    njev: 27\n  status: 0\n success: True\n       x: array([ 0.20974245,  3.67362444, -6.91926212, -2.83865932, -4.53604351])\n",
      "     fun: 891.2756729986064\n     jac: array([-0.0134201 ,  0.00491333,  0.00209045,  0.00444031, -0.00102234])\n message: 'Optimization terminated successfully.'\n    nfev: 192\n     nit: 23\n    njev: 23\n  status: 0\n success: True\n       x: array([ 0.21494513,  3.48329802, -5.38260578, -2.15380035, -3.52959493])\n",
      "     fun: 941.3984012873673\n     jac: array([59.7694397 , 88.2835083 , -0.71949768,  1.38684845, -0.84172058])\n message: 'Positive directional derivative for linesearch'\n    nfev: 397\n     nit: 53\n    njev: 49\n  status: 8\n success: False\n       x: array([0.26947079, 0.2713757 , 8.19357719, 6.84671673, 1.40945482])\n",
      "     fun: 904.4072357838909\n     jac: array([-0.00379944,  0.0199585 ,  0.00016785,  0.00039673, -0.00048828])\n message: 'Optimization terminated successfully.'\n    nfev: 564\n     nit: 74\n    njev: 71\n  status: 0\n success: True\n       x: array([ 0.1655873 ,  0.19445213, -2.58550651,  2.70424603, -0.9824037 ])\n",
      "     fun: 926.675164409832\n     jac: array([-0.00827789,  0.00013733, -0.00097656,  0.00164032, -0.0017395 ])\n message: 'Optimization terminated successfully.'\n    nfev: 293\n     nit: 38\n    njev: 38\n  status: 0\n success: True\n       x: array([ 0.29287126, 11.85119289,  2.62988134,  4.76727768,  0.41407175])\n",
      "     fun: 856.7489072462088\n     jac: array([-0.04394531, -0.00280762,  0.00102997,  0.00057983, -0.00288391])\n message: 'Optimization terminated successfully.'\n    nfev: 311\n     nit: 39\n    njev: 38\n  status: 0\n success: True\n       x: array([ 0.16359936,  0.64258269, -8.78305751, -2.93005963, -5.72142316])\n",
      "     fun: 808.6741552824363\n     jac: array([-0.01024628, -0.00106812,  0.        ,  0.02043152,  0.01541901])\n message: 'Optimization terminated successfully.'\n    nfev: 306\n     nit: 38\n    njev: 38\n  status: 0\n success: True\n       x: array([ 0.23907013, 33.22303709, -9.76601994, -5.118748  , -7.80141393])\n",
      "     fun: 838.7743465118622\n     jac: array([-0.01321411, -0.00123596, -0.00776672,  0.00013733,  0.01197815])\n message: 'Optimization terminated successfully.'\n    nfev: 246\n     nit: 29\n    njev: 29\n  status: 0\n success: True\n       x: array([ 0.20862755,  3.525487  , -6.86571106, -2.82417703, -4.50978809])\n",
      "     fun: 895.3136805971311\n     jac: array([-0.00775909,  0.00111389, -0.00094604,  0.00943756, -0.00098419])\n message: 'Optimization terminated successfully.'\n    nfev: 192\n     nit: 23\n    njev: 23\n  status: 0\n success: True\n       x: array([ 0.20828183,  3.03178024, -5.25650263, -2.06402538, -3.46137257])\n",
      "     fun: 921.513043819297\n     jac: array([ 1.80053711e-03,  2.77557373e-02, -3.81469727e-05, -5.34057617e-05,\n        6.10351562e-05])\n message: 'Optimization terminated successfully.'\n    nfev: 641\n     nit: 85\n    njev: 82\n  status: 0\n success: True\n       x: array([ 0.12811183,  0.11381906, 29.87798208, 27.97979995, 25.63746586])\n",
      "     fun: 892.0111632842872\n     jac: array([ 4.08935547e-03,  2.09503174e-02, -3.81469727e-05,  3.28063965e-04,\n       -2.74658203e-04])\n message: 'Optimization terminated successfully.'\n    nfev: 393\n     nit: 51\n    njev: 51\n  status: 0\n success: True\n       x: array([0.14033999, 0.22424488, 2.86024308, 7.33607955, 4.51272871])\n",
      "     fun: 911.1814880639936\n     jac: array([ 1.52587891e-03, -1.52587891e-04, -6.10351562e-05,  2.21252441e-04,\n       -9.15527344e-05])\n message: 'Optimization terminated successfully.'\n    nfev: 312\n     nit: 39\n    njev: 38\n  status: 0\n success: True\n       x: array([0.23235421, 0.91008308, 3.72934016, 9.49992879, 6.58865788])\n",
      "     fun: 837.958117669576\n     jac: array([-5.72204590e-04, -1.60217285e-04, -2.05993652e-04,  2.28881836e-05,\n        1.52587891e-05])\n message: 'Optimization terminated successfully.'\n    nfev: 327\n     nit: 42\n    njev: 41\n  status: 0\n success: True\n       x: array([ 0.20436891,  1.89925478, -8.66028165, -3.60238514, -5.91548493])\n",
      "     fun: 852.7699448802935\n     jac: array([ 0.01807404,  0.00022888,  0.00150299, -0.00263977, -0.00038147])\n message: 'Optimization terminated successfully.'\n    nfev: 240\n     nit: 29\n    njev: 29\n  status: 0\n success: True\n       x: array([ 0.2095158 ,  3.08253676, -6.58737841, -2.67502367, -4.32400431])\n",
      "     fun: 891.3323154498639\n     jac: array([-2.67028809e-03, -7.93457031e-04, -1.19018555e-03,  3.12805176e-04,\n       -9.91821289e-05])\n message: 'Optimization terminated successfully.'\n    nfev: 192\n     nit: 23\n    njev: 23\n  status: 0\n success: True\n       x: array([ 0.21127389,  3.20575067, -5.20355941, -2.04345674, -3.43369747])\n",
      "     fun: 952.2493117331131\n     jac: array([-5.32531738e-02,  5.55419922e-02, -5.87463379e-04, -3.05175781e-05,\n        2.59399414e-04])\n message: 'Optimization terminated successfully.'\n    nfev: 443\n     nit: 58\n    njev: 56\n  status: 0\n success: True\n       x: array([ 0.11015418,  0.13683735, 26.65272376, 24.24542387, 22.35498361])\n",
      "     fun: 891.850877146743\n     jac: array([ 0.00115204,  0.00640869, -0.00072479,  0.00028992,  0.00059509])\n message: 'Optimization terminated successfully.'\n    nfev: 384\n     nit: 50\n    njev: 50\n  status: 0\n success: True\n       x: array([ 0.1325657 ,  0.39411259, -1.26340343,  2.36640433,  0.18873543])\n",
      "     fun: 863.8651588313398\n     jac: array([ 0.01908875, -0.00054932,  0.00910187,  0.00100708, -0.00946045])\n message: 'Optimization terminated successfully.'\n    nfev: 264\n     nit: 33\n    njev: 33\n  status: 0\n success: True\n       x: array([ 0.18088974,  1.11530623, -6.20619184, -1.96889307, -4.03045465])\n",
      "     fun: 885.2807661142017\n     jac: array([ 0.00178528,  0.00071716,  0.00056458, -0.00484467,  0.00334167])\n message: 'Optimization terminated successfully.'\n    nfev: 212\n     nit: 26\n    njev: 26\n  status: 0\n success: True\n       x: array([ 0.19908546,  1.89131376, -5.321779  , -1.96392985, -3.57131178])\n",
      "     fun: 923.9004713357342\n     jac: array([ 7.32421875e-04, -2.28881836e-05,  2.94494629e-03, -2.09045410e-03,\n        2.74658203e-04])\n message: 'Optimization terminated successfully.'\n    nfev: 198\n     nit: 24\n    njev: 24\n  status: 0\n success: True\n       x: array([ 0.2228763 ,  2.83590876, -4.65726507, -1.64158113, -2.97059424])\n",
      "     fun: 1136.5734325546823\n     jac: array([-1.64794922e-03,  6.13403320e-03,  3.05175781e-05,  1.52587891e-05,\n        0.00000000e+00])\n message: 'Optimization terminated successfully.'\n    nfev: 127\n     nit: 16\n    njev: 16\n  status: 0\n success: True\n       x: array([ 0.08345236,  0.11043013, 33.20063186, 30.41084494, 27.40532452])\n",
      "     fun: 1058.654780022011\n     jac: array([-0.0025177 ,  0.00091553,  0.00015259,  0.00057983, -0.00073242])\n message: 'Optimization terminated successfully.'\n    nfev: 425\n     nit: 55\n    njev: 53\n  status: 0\n success: True\n       x: array([0.13275432, 0.31278447, 7.43287634, 8.3075213 , 6.47707653])\n",
      "     fun: 1026.8636486308837\n     jac: array([-0.00152588,  0.00177002,  0.00115967, -0.00016785, -0.00082397])\n message: 'Optimization terminated successfully.'\n    nfev: 340\n     nit: 43\n    njev: 43\n  status: 0\n success: True\n       x: array([0.11139032, 0.56661829, 0.00807312, 2.44524804, 0.9995643 ])\n",
      "     fun: 1056.406365949695\n     jac: array([-0.01660156, -0.00126648,  0.00062561, -0.00061035, -0.00039673])\n message: 'Optimization terminated successfully.'\n    nfev: 257\n     nit: 31\n    njev: 31\n  status: 0\n success: True\n       x: array([ 0.10210922,  0.74207829, -1.59802108,  1.099035  , -0.19687305])\n",
      "     fun: 1344.3830882084003\n     jac: array([-2.49328613e-02,  1.53793335e-01,  1.06811523e-04,  1.22070312e-04,\n        1.83105469e-04])\n message: 'Optimization terminated successfully.'\n    nfev: 128\n     nit: 16\n    njev: 16\n  status: 0\n success: True\n       x: array([ 0.13304948,  0.08192451, 33.26048874, 35.10840753, 29.64058746])\n",
      "     fun: 1339.4921562693517\n     jac: array([ 0.00280762, -0.00482178, -0.00048828, -0.00097656,  0.00146484])\n message: 'Optimization terminated successfully.'\n    nfev: 143\n     nit: 18\n    njev: 18\n  status: 0\n success: True\n       x: array([ 0.18257917,  0.18207489, 10.5112874 , 13.58673087, 10.60140927])\n",
      "     fun: 1376.2440033701741\n     jac: array([ 0.0112915 ,  0.01577759,  0.00144958,  0.0012207 , -0.00067139])\n message: 'Optimization terminated successfully.'\n    nfev: 175\n     nit: 22\n    njev: 22\n  status: 0\n success: True\n       x: array([0.22605127, 0.29560128, 3.12063615, 6.86689785, 4.32449247])\n",
      "     fun: 1663.5527533444244\n     jac: array([-74.54478455,   0.        ,   0.        ,   0.        ,\n         0.        ])\n message: 'Optimization terminated successfully.'\n    nfev: 21\n     nit: 3\n    njev: 3\n  status: 0\n success: True\n       x: array([ 1.00000000e+00,  4.10870387e-04, -1.59611456e+01,  2.39686446e+01,\n        4.76119746e+00])\n",
      "     fun: 1663.552753343965\n     jac: array([-76.04440308,   0.        ,   0.        ,   0.        ,\n         0.        ])\n message: 'Optimization terminated successfully.'\n    nfev: 14\n     nit: 2\n    njev: 2\n  status: 0\n success: True\n       x: array([  1.        ,   0.        , -24.85539246,  25.80645752,\n         6.86988831])\n",
      "     fun: 1663.552753343965\n     jac: array([-76.04440308,   0.        ,   0.        ,   0.        ,\n         0.        ])\n message: 'Optimization terminated successfully.'\n    nfev: 14\n     nit: 2\n    njev: 2\n  status: 0\n success: True\n       x: array([  1.        ,   0.        , -28.01972961,  26.16293335,\n         6.65515137])\n\n[0.0, 0.01, 0.02, 0.05, 0.1, 0.2, 0.5, 1, 2, 3]\n[[ 863.58593854  906.30216782  906.95391546  936.42504525  922.41378748\n   957.78981103  910.56960368  802.98930119  837.39280618  890.45416202]\n [   0.          904.98212315  905.93218043 1151.6040887   931.7412915\n   973.58938645  886.41921452  804.91307966  837.47127122  889.85936459]\n [   0.            0.          907.66438656 1004.38538195  931.74407383\n   936.35690014  855.73650672  810.5830342   836.83984388  891.275673  ]\n [   0.            0.            0.          941.39840129  904.40723578\n   926.67516441  856.74890725  808.67415528  838.77434651  895.3136806 ]\n [   0.            0.            0.            0.          921.51304382\n   892.01116328  911.18148806  837.95811767  852.76994488  891.33231545]\n [   0.            0.            0.            0.            0.\n   952.24931173  891.85087715  863.86515883  885.28076611  923.90047134]\n [   0.            0.            0.            0.            0.\n     0.         1136.57343255 1058.65478002 1026.86364863 1056.40636595]\n [   0.            0.            0.            0.            0.\n     0.            0.         1344.38308821 1339.49215627 1376.24400337]\n [   0.            0.            0.            0.            0.\n     0.            0.            0.         1663.55275334 1663.55275334]\n [   0.            0.            0.            0.            0.\n     0.            0.            0.            0.         1663.55275334]]\n"
     ],
     "output_type": "stream"
    }
   ],
   "source": [
    "from time import time\n",
    "σ = [0., 0.01, 0.02, 0.05, 0.1, 0.2, 0.5, 1, 2, 3]\n",
    "cut = len(x_johannes)\n",
    "n = len(σ)\n",
    "repeats = 6\n",
    "losses = np.zeros((n, n))\n",
    "t_s = time()\n",
    "for i in range(n):\n",
    "    for j in range(i, n):\n",
    "        losses[i, j] = loss(x_johannes[:cut], t_johannes[:cut], σ[i], σ[j], df_johannes['Johannes_choice'].to_numpy()[:cut], repeats)\n",
    "        # print(time() - t_s)\n",
    "print()\n",
    "print(σ)\n",
    "print(losses)"
   ],
   "metadata": {
    "collapsed": false,
    "pycharm": {
     "name": "#%%\n",
     "is_executing": false
    }
   }
  },
  {
   "cell_type": "code",
   "execution_count": null,
   "outputs": [],
   "source": [],
   "metadata": {
    "collapsed": false,
    "pycharm": {
     "name": "#%%\n"
    }
   }
  },
  {
   "cell_type": "code",
   "execution_count": 16,
   "outputs": [
    {
     "name": "stdout",
     "text": [
      "[[ 805.48317021  840.97759425  842.06034379  834.92549382  827.38579637  945.296901    790.63000498  785.07152545  810.46436439  841.20487003]\n [   0.          842.45454463  842.09587443  835.81418221  827.52342128  946.09659303  790.93963847  785.32153846  810.40860355  840.75019032]\n [   0.            0.          843.982059    836.58817463  827.23137068  816.84853689  789.6637456   785.36504105  810.24521774  840.35137768]\n [   0.            0.            0.          832.77619311  824.65576735  818.20031358  790.73451018  785.8190806   810.4837814   840.24477461]\n [   0.            0.            0.            0.          875.64808954  818.98159667  793.87295167  786.5766572   812.02764618  846.84302626]\n [   0.            0.            0.            0.            0.          869.10456763  814.90444308  803.39758306  830.41945072  856.94948578]\n [   0.            0.            0.            0.            0.            0.         1032.90266462  965.55000403  946.46395716  974.59508318]\n [   0.            0.            0.            0.            0.            0.            0.         1264.95262606 1253.01861523 1316.93731248]\n [   0.            0.            0.            0.            0.            0.            0.            0.         1663.55275337 1663.55275334]\n [   0.            0.            0.            0.            0.            0.            0.            0.            0.         1663.55275334]]\n"
     ],
     "output_type": "stream"
    },
    {
     "data": {
      "text/plain": "<matplotlib.image.AxesImage at 0x7f75eb94e5c0>"
     },
     "metadata": {},
     "output_type": "execute_result",
     "execution_count": 16
    },
    {
     "data": {
      "text/plain": "<Figure size 288x288 with 1 Axes>",
      "image/png": "[encoded data removed]"
     },
     "metadata": {
      "needs_background": "light"
     },
     "output_type": "display_data"
    }
   ],
   "source": [
    "grid_sichao = np.array([[ 805.48317021, 840.97759425, 842.06034379, 834.92549382, 827.38579637, 945.296901, 790.63000498, 785.07152545, 810.46436439, 841.20487003],\n",
    " [ 0., 842.45454463, 842.09587443, 835.81418221, 827.52342128, 946.09659303, 790.93963847, 785.32153846, 810.40860355, 840.75019032],\n",
    " [ 0., 0., 843.982059, 836.58817463, 827.23137068, 816.84853689, 789.6637456, 785.36504105, 810.24521774, 840.35137768],\n",
    " [ 0., 0., 0., 832.77619311, 824.65576735, 818.20031358, 790.73451018, 785.8190806, 810.4837814, 840.24477461],\n",
    " [ 0., 0., 0., 0., 875.64808954, 818.98159667, 793.87295167, 786.5766572, 812.02764618, 846.84302626],\n",
    " [ 0., 0., 0., 0., 0., 869.10456763, 814.90444308, 803.39758306, 830.41945072, 856.94948578],\n",
    " [ 0., 0., 0., 0., 0., 0., 1032.90266462, 965.55000403, 946.46395716, 974.59508318],\n",
    " [ 0., 0., 0., 0., 0., 0., 0., 1264.95262606, 1253.01861523, 1316.93731248],\n",
    " [ 0., 0., 0., 0., 0., 0., 0., 0., 1663.55275337, 1663.55275334],\n",
    " [ 0., 0., 0., 0., 0., 0., 0., 0., 0., 1663.55275334]])\n",
    "np.set_printoptions(linewidth=150)\n",
    "print(grid_sichao)\n",
    "from matplotlib.pyplot import matshow\n",
    "matshow(grid_sichao)"
   ],
   "metadata": {
    "collapsed": false,
    "pycharm": {
     "name": "#%%\n",
     "is_executing": false
    }
   }
  },
  {
   "cell_type": "code",
   "execution_count": 6,
   "outputs": [
    {
     "name": "stdout",
     "text": [
      "[[ 863.58593854  906.30216782  906.95391546  936.42504525  922.41378748  957.78981103  910.56960368  802.98930119  837.39280618  890.45416202]\n [   0.          904.98212315  905.93218043 1151.6040887   931.7412915   973.58938645  886.41921452  804.91307966  837.47127122  889.85936459]\n [   0.            0.          907.66438656 1004.38538195  931.74407383  936.35690014  855.73650672  810.5830342   836.83984388  891.275673  ]\n [   0.            0.            0.          941.39840129  904.40723578  926.67516441  856.74890725  808.67415528  838.77434651  895.3136806 ]\n [   0.            0.            0.            0.          921.51304382  892.01116328  911.18148806  837.95811767  852.76994488  891.33231545]\n [   0.            0.            0.            0.            0.          952.24931173  891.85087715  863.86515883  885.28076611  923.90047134]\n [   0.            0.            0.            0.            0.            0.         1136.57343255 1058.65478002 1026.86364863 1056.40636595]\n [   0.            0.            0.            0.            0.            0.            0.         1344.38308821 1339.49215627 1376.24400337]\n [   0.            0.            0.            0.            0.            0.            0.            0.         1663.55275334 1663.55275334]\n [   0.            0.            0.            0.            0.            0.            0.            0.            0.         1663.55275334]]\n"
     ],
     "output_type": "stream"
    },
    {
     "data": {
      "text/plain": "<matplotlib.image.AxesImage at 0x7fc50edc0438>"
     },
     "metadata": {},
     "output_type": "execute_result",
     "execution_count": 6
    },
    {
     "data": {
      "text/plain": "<Figure size 288x288 with 1 Axes>",
      "image/png": "[encoded data removed]"
     },
     "metadata": {
      "needs_background": "light"
     },
     "output_type": "display_data"
    }
   ],
   "source": [
    "grid_johannes = np.array( [[ 863.58593854, 906.30216782, 906.95391546, 936.42504525, 922.41378748,  957.78981103, 910.56960368, 802.98930119, 837.39280618, 890.45416202],\n",
    " [ 0., 904.98212315, 905.93218043, 1151.6040887, 931.7412915,  973.58938645, 886.41921452, 804.91307966, 837.47127122, 889.85936459],\n",
    " [ 0., 0., 907.66438656, 1004.38538195, 931.74407383,  936.35690014, 855.73650672, 810.5830342, 836.83984388, 891.275673],\n",
    " [ 0., 0., 0., 941.39840129, 904.40723578,  926.67516441, 856.74890725, 808.67415528, 838.77434651, 895.3136806 ],\n",
    " [ 0., 0., 0., 0., 921.51304382,  892.01116328, 911.18148806, 837.95811767, 852.76994488, 891.33231545],\n",
    " [ 0., 0., 0., 0., 0.,  952.24931173, 891.85087715, 863.86515883, 885.28076611, 923.90047134],\n",
    " [ 0., 0., 0., 0., 0.,  0., 1136.57343255, 1058.65478002, 1026.86364863, 1056.40636595],\n",
    " [ 0., 0., 0., 0., 0.,  0., 0., 1344.38308821, 1339.49215627, 1376.24400337],\n",
    " [ 0., 0., 0., 0., 0.,  0., 0., 0., 1663.55275334, 1663.55275334],\n",
    " [ 0., 0., 0., 0., 0.,  0., 0., 0., 0., 1663.55275334]])\n",
    "np.set_printoptions(linewidth=150)\n",
    "print(grid_johannes)\n",
    "from matplotlib.pyplot import matshow\n",
    "matshow(grid_johannes)"
   ],
   "metadata": {
    "collapsed": false,
    "pycharm": {
     "name": "#%%\n",
     "is_executing": false
    }
   }
  },
  {
   "cell_type": "code",
   "execution_count": 24,
   "outputs": [
    {
     "name": "stdout",
     "text": [
      "     fun: 392.1458259664346\n     jac: array([-3.75366211e-03, -5.68389893e-04,  4.19616699e-05,  2.70843506e-04, -1.41143799e-04])\n message: 'Optimization terminated successfully.'\n    nfev: 403\n     nit: 52\n    njev: 52\n  status: 0\n success: True\n       x: array([ 0.07766341,  0.48181524, -3.67231394,  1.50959233, -0.63759167])\n",
      "     fun: 392.53576280301866\n     jac: array([-0.00618744, -0.00200653, -0.00029755,  0.00046158,  0.00018311])\n message: 'Optimization terminated successfully.'\n    nfev: 259\n     nit: 33\n    njev: 33\n  status: 0\n success: True\n       x: array([ 0.08112165,  0.58438063, -3.58121198,  1.03256449, -0.87098323])\n",
      "     fun: 394.65662278700347\n     jac: array([ 3.81355286e-02, -1.40380859e-03,  9.15527344e-05,  1.60217285e-04, -2.70843506e-04])\n message: 'Optimization terminated successfully.'\n    nfev: 244\n     nit: 31\n    njev: 31\n  status: 0\n success: True\n       x: array([ 0.0830752 ,  0.67669219, -3.51465818,  0.69805645, -1.039569  ])\n",
      "     fun: 392.54342311328486\n     jac: array([-0.01351547,  0.00329971, -0.000103  , -0.00127792,  0.00229263])\n message: 'Optimization terminated successfully.'\n    nfev: 339\n     nit: 43\n    njev: 43\n  status: 0\n success: True\n       x: array([ 0.07763642,  0.47983896, -3.60385909,  1.5632943 , -0.58375129])\n",
      "     fun: 392.529142968266\n     jac: array([ 0.00140381, -0.00286865, -0.00157928,  0.00029755,  0.0009079 ])\n message: 'Optimization terminated successfully.'\n    nfev: 286\n     nit: 37\n    njev: 37\n  status: 0\n success: True\n       x: array([ 0.08147912,  0.58581028, -3.58290973,  1.02746001, -0.87839205])\n",
      "     fun: 394.25520258158286\n     jac: array([ 0.00851822, -0.00471878, -0.00030136, -0.00056839,  0.00056839])\n message: 'Optimization terminated successfully.'\n    nfev: 243\n     nit: 31\n    njev: 31\n  status: 0\n success: True\n       x: array([ 0.08316354,  0.6795244 , -3.53740147,  0.67610511, -1.06226553])\n",
      "     fun: 392.35458947483744\n     jac: array([ 3.47137451e-02, -1.49002075e-02, -6.48498535e-05,  3.70025635e-04, -4.27246094e-04])\n message: 'Optimization terminated successfully.'\n    nfev: 380\n     nit: 49\n    njev: 48\n  status: 0\n success: True\n       x: array([ 0.07788988,  0.48034421, -3.53295596,  1.59679207, -0.54216702])\n",
      "     fun: 392.6838020212913\n     jac: array([-0.01128387, -0.00172424,  0.00014496, -0.00048065,  0.00045776])\n message: 'Optimization terminated successfully.'\n    nfev: 286\n     nit: 37\n    njev: 37\n  status: 0\n success: True\n       x: array([ 0.08067711,  0.57941658, -3.46127322,  1.0893919 , -0.80500176])\n",
      "     fun: 393.995867717509\n     jac: array([ 4.10461426e-03, -2.03323364e-03, -1.06811523e-04, -4.19616699e-05,  6.10351562e-05])\n message: 'Optimization terminated successfully.'\n    nfev: 245\n     nit: 31\n    njev: 31\n  status: 0\n success: True\n       x: array([ 0.08253452,  0.67440189, -3.43768928,  0.71531561, -1.01504418])\n\n[0.0, 0.01, 0.02, 0.05, 0.1, 0.2, 0.5, 1, 2, 3]\n[[130.71527532 130.84525427 131.5522076 ]\n [130.8478077  130.84304766 131.41840086]\n [130.78486316 130.89460067 131.33195591]]\n"
     ],
     "output_type": "stream"
    }
   ],
   "source": [
    "σ_R = [0.75, 1, 1.25]\n",
    "σ_x = [0., 0.02, 0.05]\n",
    "cut = len(x_sichao)\n",
    "n = len(σ_R)\n",
    "repeats = 3\n",
    "losses = np.zeros((n, n))\n",
    "t_s = time()\n",
    "for i in range(n):\n",
    "    for j in range(n):\n",
    "        losses[i, j] = loss(x_sichao[:cut], t_sichao[:cut], σ_x[i], σ_R[j], df_sichao['Sichao_choice'].to_numpy()[:cut], repeats) / repeats\n",
    "        # print(time() - t_s)\n",
    "print()\n",
    "print(losses)"
   ],
   "metadata": {
    "collapsed": false,
    "pycharm": {
     "name": "#%%\n",
     "is_executing": false
    }
   }
  },
  {
   "cell_type": "code",
   "execution_count": 10,
   "outputs": [],
   "source": [
    "def loss2(x, t, σ_x, σ_R, df_target, repeats=1):\n",
    "    print(σ_R)\n",
    "    x = add_noise(np.repeat(x, repeats, axis=0), σ_x)\n",
    "    t = np.repeat(t, repeats, axis=0)\n",
    "    df_target = np.repeat(df_target, repeats, axis=0)\n",
    "    ℓ = []\n",
    "    for ii in range(x.shape[0]):\n",
    "        ℓ.append(np.array(apply_filters_on_trial(x[ii], t[ii], σ_R, structures=structures)))\n",
    "    df = pd.DataFrame(ℓ, columns=s)\n",
    "    df['target'] = df_target\n",
    "    mask = np.column_stack([df['target'] == structure for structure in ['IND', 'GLO'] + ['CLU'] * 3 + ['SDH'] * 3])\n",
    "    res = fit(df, mask, 'target', np.array([0.1, 0., 0., 0.]), disp=False)\n",
    "    print(res)\n",
    "    print()\n",
    "    return res.fun"
   ],
   "metadata": {
    "collapsed": false,
    "pycharm": {
     "name": "#%%\n",
     "is_executing": false
    }
   }
  },
  {
   "cell_type": "code",
   "execution_count": 5,
   "outputs": [
    {
     "name": "stdout",
     "text": [
      "     fun: 139.81840781864418\n     jac: array([-0.00471497,  0.00073624, -0.00051117, -0.00045013])\n message: 'Optimization terminated successfully.'\n    nfev: 96\n     nit: 14\n    njev: 14\n  status: 0\n success: True\n       x: array([0.27414579, 3.08196445, 7.96897451, 5.47801145])\n",
      "     fun: 144.9041249452179\n     jac: array([-0.00806046,  0.00136948, -0.00134087, -0.00060654])\n message: 'Optimization terminated successfully.'\n    nfev: 102\n     nit: 15\n    njev: 15\n  status: 0\n success: True\n       x: array([0.34548919, 1.25291805, 5.43680307, 3.35992353])\n",
      "     fun: 149.74160601672656\n     jac: array([ 0.0031147 ,  0.00086594, -0.00016022, -0.00077629])\n message: 'Optimization terminated successfully.'\n    nfev: 89\n     nit: 13\n    njev: 13\n  status: 0\n success: True\n       x: array([0.40168358, 0.46916176, 4.25102089, 2.403866  ])\n",
      "     fun: 140.14186127653062\n     jac: array([-0.00469208,  0.00073242, -0.00053787, -0.00045395])\n message: 'Optimization terminated successfully.'\n    nfev: 96\n     nit: 14\n    njev: 14\n  status: 0\n success: True\n       x: array([0.27320046, 3.13126464, 8.01752757, 5.5240077 ])\n",
      "     fun: 144.83105474740415\n     jac: array([-0.00779724,  0.00115585, -0.00121307, -0.00059891])\n message: 'Optimization terminated successfully.'\n    nfev: 102\n     nit: 15\n    njev: 15\n  status: 0\n success: True\n       x: array([0.34587489, 1.24661558, 5.41710583, 3.34704636])\n",
      "     fun: 149.36091317866666\n     jac: array([ 0.00261307,  0.00086403, -0.00023079, -0.00073242])\n message: 'Optimization terminated successfully.'\n    nfev: 89\n     nit: 13\n    njev: 13\n  status: 0\n success: True\n       x: array([0.40491725, 0.41969683, 4.18960767, 2.34908268])\n",
      "     fun: 139.02521141523445\n     jac: array([-0.00455284,  0.00074577, -0.00052261, -0.00047493])\n message: 'Optimization terminated successfully.'\n    nfev: 96\n     nit: 14\n    njev: 14\n  status: 0\n success: True\n       x: array([0.27584835, 3.15387979, 7.99296044, 5.50986122])\n",
      "     fun: 145.5505579570197\n     jac: array([-0.01535797,  0.00019836, -0.00089645, -0.000103  ])\n message: 'Optimization terminated successfully.'\n    nfev: 102\n     nit: 15\n    njev: 15\n  status: 0\n success: True\n       x: array([0.34356044, 1.3170496 , 5.46865395, 3.39878374])\n",
      "     fun: 150.3141572044428\n     jac: array([-0.00173378,  0.00193596, -0.00018692, -0.00189209])\n message: 'Optimization terminated successfully.'\n    nfev: 83\n     nit: 12\n    njev: 12\n  status: 0\n success: True\n       x: array([0.39747691, 0.58018576, 4.35537303, 2.50316109])\n\n[[139.81840782 144.90412495 149.74160602]\n [140.14186128 144.83105475 149.36091318]\n [139.02521142 145.55055796 150.3141572 ]]\n"
     ],
     "output_type": "stream"
    }
   ],
   "source": [
    "σ_R = [1, 1.5, 2]\n",
    "σ_x = [0., 0.02, 0.05]\n",
    "cut = len(x_sichao)\n",
    "n = len(σ_R)\n",
    "repeats = 1\n",
    "losses = np.zeros((n, n))\n",
    "for i in range(n):\n",
    "    for j in range(n):\n",
    "        losses[i, j] = loss2(x_sichao[:cut], t_sichao[:cut], σ_x[i], σ_R[j], df_sichao['Sichao_choice'].to_numpy()[:cut], repeats) / repeats\n",
    "print()\n",
    "print(losses)"
   ],
   "metadata": {
    "collapsed": false,
    "pycharm": {
     "name": "#%%\n",
     "is_executing": false
    }
   }
  },
  {
   "cell_type": "code",
   "execution_count": 5,
   "outputs": [
    {
     "name": "stdout",
     "text": [
      "     fun: 134.48030077876354\n     jac: array([ 0.00281906, -0.00074387,  0.00117874, -0.00017166])\n message: 'Optimization terminated successfully.'\n    nfev: 128\n     nit: 19\n    njev: 19\n  status: 0\n success: True\n       x: array([ 0.2881044 , -1.04817294,  4.95022523,  2.22571568])\n",
      "     fun: 133.9476060168402\n     jac: array([ 0.0037384 , -0.00014496,  0.00048447, -0.00021935])\n message: 'Optimization terminated successfully.'\n    nfev: 121\n     nit: 18\n    njev: 18\n  status: 0\n success: True\n       x: array([ 0.32696105, -1.58398462,  4.05120241,  1.55800012])\n",
      "     fun: 133.7437797471176\n     jac: array([-0.00519562, -0.00089645, -0.00026894,  0.00114632])\n message: 'Optimization terminated successfully.'\n    nfev: 108\n     nit: 16\n    njev: 16\n  status: 0\n success: True\n       x: array([ 0.3599305 , -1.80235346,  3.5373054 ,  1.20639874])\n",
      "     fun: 133.77066107382598\n     jac: array([ 0.01169395, -0.00085831,  0.00071907,  0.00087357])\n message: 'Optimization terminated successfully.'\n    nfev: 109\n     nit: 16\n    njev: 16\n  status: 0\n success: True\n       x: array([ 0.39118439, -1.96002708,  3.13331305,  0.92876689])\n",
      "     fun: 133.96143534452142\n     jac: array([ 0.01327705, -0.0001564 , -0.00027084,  0.00082588])\n message: 'Optimization terminated successfully.'\n    nfev: 114\n     nit: 17\n    njev: 17\n  status: 0\n success: True\n       x: array([ 0.42320538, -2.1363472 ,  2.748725  ,  0.65088547])\n",
      "     fun: 134.26926154155308\n     jac: array([-0.00869751,  0.00017738, -0.00136948,  0.00097084])\n message: 'Optimization terminated successfully.'\n    nfev: 103\n     nit: 15\n    njev: 15\n  status: 0\n success: True\n       x: array([ 0.45659884, -2.32770747,  2.37852566,  0.37305202])\n",
      "     fun: 134.6585152629532\n     jac: array([-0.01549911,  0.00112534, -0.00135803, -0.00014496])\n message: 'Optimization terminated successfully.'\n    nfev: 98\n     nit: 14\n    njev: 14\n  status: 0\n success: True\n       x: array([ 0.49152887, -2.51873808,  2.03245688,  0.10783862])\n",
      "     fun: 135.10231609330293\n     jac: array([ 0.0014801 ,  0.00038338, -0.00028038, -0.00027466])\n message: 'Optimization terminated successfully.'\n    nfev: 121\n     nit: 18\n    njev: 18\n  status: 0\n success: True\n       x: array([ 0.52726076, -2.68894686,  1.7243406 , -0.1285608 ])\n",
      "     fun: 135.5821857281676\n     jac: array([ 1.66893005e-03, -6.48498535e-05, -6.86645508e-05,  3.05175781e-04])\n message: 'Optimization terminated successfully.'\n    nfev: 110\n     nit: 16\n    njev: 16\n  status: 0\n success: True\n       x: array([ 0.56295234, -2.82763929,  1.46101333, -0.32818363])\n",
      "     fun: 136.08682529364165\n     jac: array([ 8.54492188e-04,  8.96453857e-05, -8.77380371e-05,  3.18527222e-04])\n message: 'Optimization terminated successfully.'\n    nfev: 102\n     nit: 15\n    njev: 15\n  status: 0\n success: True\n       x: array([ 0.5978077 , -2.93187978,  1.24188896, -0.49043779])\n",
      "     fun: 136.60962129580957\n     jac: array([-0.00284386, -0.00048447,  0.0001545 ,  0.00029755])\n message: 'Optimization terminated successfully.'\n    nfev: 104\n     nit: 15\n    njev: 15\n  status: 0\n success: True\n       x: array([ 0.63135322, -3.00571142,  1.06169098, -0.61956285])\n",
      "     fun: 137.1462856951515\n     jac: array([ 0.00032043,  0.00029373, -0.00057983,  0.00074387])\n message: 'Optimization terminated successfully.'\n    nfev: 98\n     nit: 14\n    njev: 14\n  status: 0\n success: True\n       x: array([ 0.66347568, -3.05447864,  0.91347368, -0.72126303])\n",
      "     fun: 137.69349855797736\n     jac: array([ 4.90760803e-03,  3.50952148e-04,  9.36508179e-04, -3.81469727e-06])\n message: 'Optimization terminated successfully.'\n    nfev: 86\n     nit: 12\n    njev: 12\n  status: 0\n success: True\n       x: array([ 0.6942284 , -3.08527805,  0.79035738, -0.80212599])\n",
      "     fun: 138.2483692593342\n     jac: array([-0.0003891 ,  0.00073624,  0.00106812, -0.00126839])\n message: 'Optimization terminated successfully.'\n    nfev: 91\n     nit: 13\n    njev: 13\n  status: 0\n success: True\n       x: array([ 0.72367959, -3.10262992,  0.68672011, -0.86682663])\n",
      "     fun: 138.8082864161176\n     jac: array([ 0.00321388, -0.00067902,  0.00025177,  0.00123024])\n message: 'Optimization terminated successfully.'\n    nfev: 79\n     nit: 11\n    njev: 11\n  status: 0\n success: True\n       x: array([ 0.75203835, -3.11008565,  0.59866346, -0.91853954])\n",
      "     fun: 139.37089671535378\n     jac: array([ 0.00374413,  0.00018501,  0.00093269, -0.00013542])\n message: 'Optimization terminated successfully.'\n    nfev: 79\n     nit: 11\n    njev: 11\n  status: 0\n success: True\n       x: array([ 0.77924926, -3.10906175,  0.52385002, -0.95975095])\n",
      "     fun: 139.93411258767887\n     jac: array([ 6.60705566e-03, -3.22341919e-04,  2.26783752e-03, -4.38690186e-05])\n message: 'Optimization terminated successfully.'\n    nfev: 79\n     nit: 11\n    njev: 11\n  status: 0\n success: True\n       x: array([ 0.80547745, -3.10226339,  0.45951362, -0.99263067])\n",
      "     fun: 140.4961187359466\n     jac: array([-7.09533691e-04, -2.67028809e-05, -1.33514404e-04, -1.56402588e-04])\n message: 'Optimization terminated successfully.'\n    nfev: 91\n     nit: 13\n    njev: 13\n  status: 0\n success: True\n       x: array([ 0.83081687, -3.09142724,  0.4029731 , -1.01948379])\n",
      "     fun: 141.05537963601296\n     jac: array([ 0.00184631, -0.00101471, -0.00380325,  0.00555611])\n message: 'Optimization terminated successfully.'\n    nfev: 101\n     nit: 14\n    njev: 14\n  status: 0\n success: True\n       x: array([ 0.85527469, -3.07642745,  0.35428007, -1.0400997 ])\n"
     ],
     "output_type": "stream"
    },
    {
     "traceback": [
      "\u001b[0;31m---------------------------------------------------------------------------\u001b[0m",
      "\u001b[0;31mKeyboardInterrupt\u001b[0m                         Traceback (most recent call last)",
      "\u001b[0;32m<ipython-input-5-991fcf605f80>\u001b[0m in \u001b[0;36m<module>\u001b[0;34m\u001b[0m\n\u001b[1;32m      4\u001b[0m \u001b[0mlosses\u001b[0m \u001b[0;34m=\u001b[0m \u001b[0mnp\u001b[0m\u001b[0;34m.\u001b[0m\u001b[0mzeros\u001b[0m\u001b[0;34m(\u001b[0m\u001b[0mn\u001b[0m\u001b[0;34m)\u001b[0m\u001b[0;34m\u001b[0m\u001b[0;34m\u001b[0m\u001b[0m\n\u001b[1;32m      5\u001b[0m \u001b[0;32mfor\u001b[0m \u001b[0mi\u001b[0m \u001b[0;32min\u001b[0m \u001b[0mrange\u001b[0m\u001b[0;34m(\u001b[0m\u001b[0mn\u001b[0m\u001b[0;34m)\u001b[0m\u001b[0;34m:\u001b[0m\u001b[0;34m\u001b[0m\u001b[0;34m\u001b[0m\u001b[0m\n\u001b[0;32m----> 6\u001b[0;31m     \u001b[0mlosses\u001b[0m\u001b[0;34m[\u001b[0m\u001b[0mi\u001b[0m\u001b[0;34m]\u001b[0m \u001b[0;34m=\u001b[0m \u001b[0mloss2\u001b[0m\u001b[0;34m(\u001b[0m\u001b[0mx_sichao\u001b[0m\u001b[0;34m,\u001b[0m \u001b[0mt_sichao\u001b[0m\u001b[0;34m,\u001b[0m \u001b[0;36m0\u001b[0m\u001b[0;34m,\u001b[0m \u001b[0mσ_R\u001b[0m\u001b[0;34m[\u001b[0m\u001b[0mi\u001b[0m\u001b[0;34m]\u001b[0m\u001b[0;34m,\u001b[0m \u001b[0mdf_sichao\u001b[0m\u001b[0;34m[\u001b[0m\u001b[0;34m'Sichao_choice'\u001b[0m\u001b[0;34m]\u001b[0m\u001b[0;34m.\u001b[0m\u001b[0mto_numpy\u001b[0m\u001b[0;34m(\u001b[0m\u001b[0;34m)\u001b[0m\u001b[0;34m,\u001b[0m \u001b[0mrepeats\u001b[0m\u001b[0;34m)\u001b[0m \u001b[0;34m/\u001b[0m \u001b[0mrepeats\u001b[0m\u001b[0;34m\u001b[0m\u001b[0;34m\u001b[0m\u001b[0m\n\u001b[0m\u001b[1;32m      7\u001b[0m \u001b[0mprint\u001b[0m\u001b[0;34m(\u001b[0m\u001b[0;34m)\u001b[0m\u001b[0;34m\u001b[0m\u001b[0;34m\u001b[0m\u001b[0m\n\u001b[1;32m      8\u001b[0m \u001b[0mprint\u001b[0m\u001b[0;34m(\u001b[0m\u001b[0mlosses\u001b[0m\u001b[0;34m)\u001b[0m\u001b[0;34m\u001b[0m\u001b[0;34m\u001b[0m\u001b[0m\n",
      "\u001b[0;32m<ipython-input-4-4b4669ae0d84>\u001b[0m in \u001b[0;36mloss2\u001b[0;34m(x, t, σ_x, σ_R, df_target, repeats)\u001b[0m\n\u001b[1;32m      5\u001b[0m     \u001b[0mℓ\u001b[0m \u001b[0;34m=\u001b[0m \u001b[0;34m[\u001b[0m\u001b[0;34m]\u001b[0m\u001b[0;34m\u001b[0m\u001b[0;34m\u001b[0m\u001b[0m\n\u001b[1;32m      6\u001b[0m     \u001b[0;32mfor\u001b[0m \u001b[0mii\u001b[0m \u001b[0;32min\u001b[0m \u001b[0mrange\u001b[0m\u001b[0;34m(\u001b[0m\u001b[0mx\u001b[0m\u001b[0;34m.\u001b[0m\u001b[0mshape\u001b[0m\u001b[0;34m[\u001b[0m\u001b[0;36m0\u001b[0m\u001b[0;34m]\u001b[0m\u001b[0;34m)\u001b[0m\u001b[0;34m:\u001b[0m\u001b[0;34m\u001b[0m\u001b[0;34m\u001b[0m\u001b[0m\n\u001b[0;32m----> 7\u001b[0;31m         \u001b[0mℓ\u001b[0m\u001b[0;34m.\u001b[0m\u001b[0mappend\u001b[0m\u001b[0;34m(\u001b[0m\u001b[0mnp\u001b[0m\u001b[0;34m.\u001b[0m\u001b[0marray\u001b[0m\u001b[0;34m(\u001b[0m\u001b[0mapply_filters_on_trial\u001b[0m\u001b[0;34m(\u001b[0m\u001b[0mx\u001b[0m\u001b[0;34m[\u001b[0m\u001b[0mii\u001b[0m\u001b[0;34m]\u001b[0m\u001b[0;34m,\u001b[0m \u001b[0mt\u001b[0m\u001b[0;34m[\u001b[0m\u001b[0mii\u001b[0m\u001b[0;34m]\u001b[0m\u001b[0;34m,\u001b[0m \u001b[0mσ_R\u001b[0m\u001b[0;34m,\u001b[0m \u001b[0mstructures\u001b[0m\u001b[0;34m=\u001b[0m\u001b[0mstructures\u001b[0m\u001b[0;34m)\u001b[0m\u001b[0;34m)\u001b[0m\u001b[0;34m)\u001b[0m\u001b[0;34m\u001b[0m\u001b[0;34m\u001b[0m\u001b[0m\n\u001b[0m\u001b[1;32m      8\u001b[0m     \u001b[0mdf\u001b[0m \u001b[0;34m=\u001b[0m \u001b[0mpd\u001b[0m\u001b[0;34m.\u001b[0m\u001b[0mDataFrame\u001b[0m\u001b[0;34m(\u001b[0m\u001b[0mℓ\u001b[0m\u001b[0;34m,\u001b[0m \u001b[0mcolumns\u001b[0m\u001b[0;34m=\u001b[0m\u001b[0ms\u001b[0m\u001b[0;34m)\u001b[0m\u001b[0;34m\u001b[0m\u001b[0;34m\u001b[0m\u001b[0m\n\u001b[1;32m      9\u001b[0m     \u001b[0mdf\u001b[0m\u001b[0;34m[\u001b[0m\u001b[0;34m'target'\u001b[0m\u001b[0;34m]\u001b[0m \u001b[0;34m=\u001b[0m \u001b[0mdf_target\u001b[0m\u001b[0;34m\u001b[0m\u001b[0;34m\u001b[0m\u001b[0m\n",
      "\u001b[0;32m~/Documents/Motion/code/sichao/analysis/kalman_filter.py\u001b[0m in \u001b[0;36mapply_filters_on_trial\u001b[0;34m(x, t, σ_R, structures)\u001b[0m\n\u001b[1;32m    126\u001b[0m \u001b[0;32mdef\u001b[0m \u001b[0mapply_filters_on_trial\u001b[0m\u001b[0;34m(\u001b[0m\u001b[0mx\u001b[0m\u001b[0;34m,\u001b[0m \u001b[0mt\u001b[0m\u001b[0;34m,\u001b[0m \u001b[0mσ_R\u001b[0m\u001b[0;34m,\u001b[0m \u001b[0mstructures\u001b[0m\u001b[0;34m)\u001b[0m\u001b[0;34m:\u001b[0m\u001b[0;34m\u001b[0m\u001b[0;34m\u001b[0m\u001b[0m\n\u001b[1;32m    127\u001b[0m     return [\n\u001b[0;32m--> 128\u001b[0;31m         \u001b[0mapply_Kalman_filter_on_trial\u001b[0m\u001b[0;34m(\u001b[0m\u001b[0mx\u001b[0m\u001b[0;34m,\u001b[0m \u001b[0mt\u001b[0m\u001b[0;34m,\u001b[0m \u001b[0mstructures\u001b[0m\u001b[0;34m[\u001b[0m\u001b[0;34m'IND'\u001b[0m\u001b[0;34m]\u001b[0m\u001b[0;34m,\u001b[0m \u001b[0mσ_R\u001b[0m\u001b[0;34m)\u001b[0m\u001b[0;34m,\u001b[0m\u001b[0;34m\u001b[0m\u001b[0;34m\u001b[0m\u001b[0m\n\u001b[0m\u001b[1;32m    129\u001b[0m         \u001b[0mapply_Kalman_filter_on_trial\u001b[0m\u001b[0;34m(\u001b[0m\u001b[0mx\u001b[0m\u001b[0;34m,\u001b[0m \u001b[0mt\u001b[0m\u001b[0;34m,\u001b[0m \u001b[0mstructures\u001b[0m\u001b[0;34m[\u001b[0m\u001b[0;34m'GLO'\u001b[0m\u001b[0;34m]\u001b[0m\u001b[0;34m,\u001b[0m \u001b[0mσ_R\u001b[0m\u001b[0;34m)\u001b[0m\u001b[0;34m,\u001b[0m\u001b[0;34m\u001b[0m\u001b[0;34m\u001b[0m\u001b[0m\n\u001b[1;32m    130\u001b[0m         \u001b[0mapply_Kalman_filter_on_trial\u001b[0m\u001b[0;34m(\u001b[0m\u001b[0mx\u001b[0m\u001b[0;34m,\u001b[0m \u001b[0mt\u001b[0m\u001b[0;34m,\u001b[0m \u001b[0mstructures\u001b[0m\u001b[0;34m[\u001b[0m\u001b[0;34m'CLU'\u001b[0m\u001b[0;34m]\u001b[0m\u001b[0;34m,\u001b[0m \u001b[0mσ_R\u001b[0m\u001b[0;34m)\u001b[0m\u001b[0;34m,\u001b[0m  \u001b[0;31m# , permutation=[0, 1, 2]),\u001b[0m\u001b[0;34m\u001b[0m\u001b[0;34m\u001b[0m\u001b[0m\n",
      "\u001b[0;32m~/Documents/Motion/code/sichao/analysis/kalman_filter.py\u001b[0m in \u001b[0;36mapply_Kalman_filter_on_trial\u001b[0;34m(x, t, structure, σ_R, permutation, implementation)\u001b[0m\n\u001b[1;32m    102\u001b[0m             \u001b[0mf\u001b[0m\u001b[0;34m.\u001b[0m\u001b[0mpredict\u001b[0m\u001b[0;34m(\u001b[0m\u001b[0mdt\u001b[0m\u001b[0;34m)\u001b[0m\u001b[0;34m\u001b[0m\u001b[0;34m\u001b[0m\u001b[0m\n\u001b[1;32m    103\u001b[0m             \u001b[0;31m# print(f.H @ f.z, x[i][:n])\u001b[0m\u001b[0;34m\u001b[0m\u001b[0;34m\u001b[0m\u001b[0;34m\u001b[0m\u001b[0m\n\u001b[0;32m--> 104\u001b[0;31m             \u001b[0mℓ\u001b[0m \u001b[0;34m+=\u001b[0m \u001b[0mf\u001b[0m\u001b[0;34m.\u001b[0m\u001b[0mupdate\u001b[0m\u001b[0;34m(\u001b[0m\u001b[0mx\u001b[0m\u001b[0;34m[\u001b[0m\u001b[0mi\u001b[0m\u001b[0;34m]\u001b[0m\u001b[0;34m[\u001b[0m\u001b[0;34m:\u001b[0m\u001b[0mn\u001b[0m\u001b[0;34m]\u001b[0m\u001b[0;34m)\u001b[0m\u001b[0;34m\u001b[0m\u001b[0;34m\u001b[0m\u001b[0m\n\u001b[0m\u001b[1;32m    105\u001b[0m     \u001b[0;32melif\u001b[0m \u001b[0mimplementation\u001b[0m \u001b[0;34m==\u001b[0m \u001b[0;34m'filterpy'\u001b[0m\u001b[0;34m:\u001b[0m\u001b[0;34m\u001b[0m\u001b[0;34m\u001b[0m\u001b[0m\n\u001b[1;32m    106\u001b[0m         \u001b[0mf_\u001b[0m \u001b[0;34m=\u001b[0m \u001b[0mMotionStructureKalmanFilter\u001b[0m\u001b[0;34m(\u001b[0m\u001b[0mstructure\u001b[0m\u001b[0;34m,\u001b[0m \u001b[0mx0\u001b[0m\u001b[0;34m,\u001b[0m \u001b[0mσ_R\u001b[0m\u001b[0;34m)\u001b[0m\u001b[0;34m\u001b[0m\u001b[0;34m\u001b[0m\u001b[0m\n",
      "\u001b[0;32m~/Documents/Motion/code/sichao/analysis/kalman_filter.py\u001b[0m in \u001b[0;36mupdate\u001b[0;34m(self, x)\u001b[0m\n\u001b[1;32m     65\u001b[0m         \u001b[0mself\u001b[0m\u001b[0;34m.\u001b[0m\u001b[0mz\u001b[0m \u001b[0;34m=\u001b[0m \u001b[0mself\u001b[0m\u001b[0;34m.\u001b[0m\u001b[0mz\u001b[0m \u001b[0;34m+\u001b[0m \u001b[0mK\u001b[0m \u001b[0;34m@\u001b[0m \u001b[0my\u001b[0m                  \u001b[0;31m# Updated (a posteriori) state estimate z_{t|t}\u001b[0m\u001b[0;34m\u001b[0m\u001b[0;34m\u001b[0m\u001b[0m\n\u001b[1;32m     66\u001b[0m         \u001b[0mself\u001b[0m\u001b[0;34m.\u001b[0m\u001b[0mz\u001b[0m\u001b[0;34m[\u001b[0m\u001b[0;34m:\u001b[0m\u001b[0mself\u001b[0m\u001b[0;34m.\u001b[0m\u001b[0mn\u001b[0m\u001b[0;34m]\u001b[0m \u001b[0;34m%=\u001b[0m \u001b[0;36m2\u001b[0m \u001b[0;34m*\u001b[0m \u001b[0mnp\u001b[0m\u001b[0;34m.\u001b[0m\u001b[0mpi\u001b[0m\u001b[0;34m\u001b[0m\u001b[0;34m\u001b[0m\u001b[0m\n\u001b[0;32m---> 67\u001b[0;31m         \u001b[0mself\u001b[0m\u001b[0;34m.\u001b[0m\u001b[0mP\u001b[0m \u001b[0;34m=\u001b[0m \u001b[0;34m(\u001b[0m\u001b[0mself\u001b[0m\u001b[0;34m.\u001b[0m\u001b[0mI\u001b[0m \u001b[0;34m-\u001b[0m \u001b[0mK\u001b[0m \u001b[0;34m@\u001b[0m \u001b[0mself\u001b[0m\u001b[0;34m.\u001b[0m\u001b[0mH\u001b[0m\u001b[0;34m)\u001b[0m \u001b[0;34m@\u001b[0m \u001b[0mself\u001b[0m\u001b[0;34m.\u001b[0m\u001b[0mP\u001b[0m  \u001b[0;31m# Updated (a posteriori) estimate covariance P_{t|t}\u001b[0m\u001b[0;34m\u001b[0m\u001b[0;34m\u001b[0m\u001b[0m\n\u001b[0m\u001b[1;32m     68\u001b[0m         \u001b[0;31m# print()\u001b[0m\u001b[0;34m\u001b[0m\u001b[0;34m\u001b[0m\u001b[0;34m\u001b[0m\u001b[0m\n\u001b[1;32m     69\u001b[0m         \u001b[0;31m# print(self.P)\u001b[0m\u001b[0;34m\u001b[0m\u001b[0;34m\u001b[0m\u001b[0;34m\u001b[0m\u001b[0m\n",
      "\u001b[0;31mKeyboardInterrupt\u001b[0m: "
     ],
     "ename": "KeyboardInterrupt",
     "evalue": "",
     "output_type": "error"
    }
   ],
   "source": [
    "σ_R = np.arange(0.5, 3, 0.1)\n",
    "n = len(σ_R)\n",
    "repeats = 1\n",
    "losses = np.zeros(n)\n",
    "for i in range(n):\n",
    "    losses[i] = loss2(x_sichao, t_sichao, 0, σ_R[i], df_sichao['Sichao_choice'].to_numpy(), repeats) / repeats\n",
    "print()\n",
    "print(losses)"
   ],
   "metadata": {
    "collapsed": false,
    "pycharm": {
     "name": "#%%\n",
     "is_executing": false
    }
   }
  },
  {
   "cell_type": "code",
   "execution_count": 11,
   "outputs": [
    {
     "name": "stdout",
     "text": [
      "0.5\n",
      "     fun: 152.60165523173606\n     jac: array([-0.00052261, -0.00062561,  0.00090218, -0.0001564 ])\n message: 'Optimization terminated successfully.'\n    nfev: 115\n     nit: 17\n    njev: 17\n  status: 0\n success: True\n       x: array([ 0.28499267, -1.50647895,  3.71554061,  1.62851384])\n\n0.6\n",
      "     fun: 152.76472578870226\n     jac: array([ 0.02947998, -0.00038147,  0.00024414,  0.00070572])\n message: 'Optimization terminated successfully.'\n    nfev: 110\n     nit: 16\n    njev: 16\n  status: 0\n success: True\n       x: array([ 0.32883853, -2.40127849,  2.63329852,  0.66971733])\n\n0.7\n",
      "     fun: 153.0273802122395\n     jac: array([-2.86102295e-04, -6.10351562e-05, -7.24792480e-05,  1.22070312e-04])\n message: 'Optimization terminated successfully.'\n    nfev: 109\n     nit: 16\n    njev: 16\n  status: 0\n success: True\n       x: array([ 0.37354968, -3.0504036 ,  1.80921991, -0.0486895 ])\n\n0.7999999999999999\n",
      "     fun: 153.30587873704357\n     jac: array([-0.00038338, -0.00031471, -0.00047493,  0.00068474])\n message: 'Optimization terminated successfully.'\n    nfev: 96\n     nit: 14\n    njev: 14\n  status: 0\n success: True\n       x: array([ 0.42249895, -3.59901027,  1.09317833, -0.66964471])\n\n0.8999999999999999\n",
      "     fun: 153.55902397642146\n     jac: array([-0.00505257,  0.00038338, -0.00012779, -0.00063324])\n message: 'Optimization terminated successfully.'\n    nfev: 90\n     nit: 13\n    njev: 13\n  status: 0\n success: True\n       x: array([ 0.4752624 , -4.04198813,  0.49055412, -1.18802208])\n\n0.9999999999999999\n",
      "     fun: 153.78281081122702\n     jac: array([-0.02227402,  0.00109482, -0.00150871, -0.00090599])\n message: 'Optimization terminated successfully.'\n    nfev: 91\n     nit: 13\n    njev: 13\n  status: 0\n success: True\n       x: array([ 0.52379014, -4.28340509,  0.09714023, -1.50837092])\n\n1.0999999999999999\n",
      "     fun: 153.988417000815\n     jac: array([-0.00514412,  0.00046349, -0.00085831, -0.00043869])\n message: 'Optimization terminated successfully.'\n    nfev: 90\n     nit: 13\n    njev: 13\n  status: 0\n success: True\n       x: array([ 0.56270332, -4.33570009, -0.09931819, -1.64156311])\n\n1.1999999999999997\n",
      "     fun: 154.17432769261524\n     jac: array([ 0.00120926, -0.0015564 ,  0.00037766,  0.00132751])\n message: 'Optimization terminated successfully.'\n    nfev: 115\n     nit: 17\n    njev: 17\n  status: 0\n success: True\n       x: array([ 0.58474726, -4.18900654, -0.08614966, -1.5735717 ])\n\n1.2999999999999998\n",
      "     fun: 154.28334115604906\n     jac: array([-0.02525711, -0.00053406, -0.00172615,  0.0008049 ])\n message: 'Optimization terminated successfully.'\n    nfev: 141\n     nit: 21\n    njev: 21\n  status: 0\n success: True\n       x: array([ 0.496017  , -2.70974485,  1.27414837, -0.19028341])\n\n1.4\n",
      "     fun: 154.35606311273813\n     jac: array([ 7.66754150e-04, -9.91821289e-05, -7.43865967e-05,  2.89916992e-04])\n message: 'Optimization terminated successfully.'\n    nfev: 120\n     nit: 18\n    njev: 18\n  status: 0\n success: True\n       x: array([ 0.55548092, -3.20091344,  0.68520535, -0.7223733 ])\n\n\n[152.60165523 152.76472579 153.02738021 153.30587874 153.55902398\n 153.78281081 153.988417   154.17432769 154.28334116 154.35606311]\n"
     ],
     "output_type": "stream"
    }
   ],
   "source": [
    "σ_R = np.arange(0.5, 1.5, 0.1)\n",
    "n = len(σ_R)\n",
    "repeats = 1\n",
    "losses = np.zeros(n)\n",
    "for i in range(n):\n",
    "    losses[i] = loss2(x_johannes, t_johannes, 0, σ_R[i], df_johannes['Johannes_choice'].to_numpy(), repeats) / repeats\n",
    "print()\n",
    "print(losses)"
   ],
   "metadata": {
    "collapsed": false,
    "pycharm": {
     "name": "#%%\n",
     "is_executing": false
    }
   }
  },
  {
   "cell_type": "code",
   "execution_count": 12,
   "outputs": [
    {
     "name": "stdout",
     "text": [
      "0.4\n",
      "     fun: 152.6790455090258\n     jac: array([ 6.18171692e-03, -2.72750854e-04, -1.14440918e-05,  1.52587891e-04])\n message: 'Optimization terminated successfully.'\n    nfev: 131\n     nit: 20\n    njev: 20\n  status: 0\n success: True\n       x: array([ 0.24013723, -0.13652269,  5.30998298,  3.06221493])\n\n0.45\n",
      "     fun: 152.5990219161752\n     jac: array([-0.00074196, -0.00112534,  0.00051498,  0.00060272])\n message: 'Optimization terminated successfully.'\n    nfev: 117\n     nit: 17\n    njev: 17\n  status: 0\n success: True\n       x: array([ 0.26276421, -0.90056984,  4.42544077,  2.26509202])\n\n0.5\n",
      "     fun: 152.60165523173606\n     jac: array([-0.00052261, -0.00062561,  0.00090218, -0.0001564 ])\n message: 'Optimization terminated successfully.'\n    nfev: 115\n     nit: 17\n    njev: 17\n  status: 0\n success: True\n       x: array([ 0.28499267, -1.50647895,  3.71554061,  1.62851384])\n\n0.55\n",
      "     fun: 152.66344354309558\n     jac: array([-0.00247955, -0.00040436,  0.00029755,  0.        ])\n message: 'Optimization terminated successfully.'\n    nfev: 115\n     nit: 17\n    njev: 17\n  status: 0\n success: True\n       x: array([ 0.30697559, -1.99703709,  3.12879069,  1.1066396 ])\n\n\n[152.67904551 152.59902192 152.60165523 152.66344354]\n"
     ],
     "output_type": "stream"
    }
   ],
   "source": [
    "σ_R = np.arange(0.4, 0.6, 0.05)\n",
    "n = len(σ_R)\n",
    "repeats = 1\n",
    "losses = np.zeros(n)\n",
    "for i in range(n):\n",
    "    losses[i] = loss2(x_johannes, t_johannes, 0, σ_R[i], df_johannes['Johannes_choice'].to_numpy(), repeats) / repeats\n",
    "print()\n",
    "print(losses)"
   ],
   "metadata": {
    "collapsed": false,
    "pycharm": {
     "name": "#%%\n",
     "is_executing": false
    }
   }
  },
  {
   "cell_type": "code",
   "execution_count": null,
   "outputs": [],
   "source": [
    "\n"
   ],
   "metadata": {
    "collapsed": false,
    "pycharm": {
     "name": "#%%\n"
    }
   }
  }
 ],
 "metadata": {
  "language_info": {
   "codemirror_mode": {
    "name": "ipython",
    "version": 2
   },
   "file_extension": ".py",
   "mimetype": "text/x-python",
   "name": "python",
   "nbconvert_exporter": "python",
   "pygments_lexer": "ipython2",
   "version": "2.7.6"
  },
  "kernelspec": {
   "name": "pycharm-de948503",
   "language": "python",
   "display_name": "PyCharm (Readings)"
  },
  "pycharm": {
   "stem_cell": {
    "cell_type": "raw",
    "source": [],
    "metadata": {
     "collapsed": false
    }
   }
  }
 },
 "nbformat": 4,
 "nbformat_minor": 0
}
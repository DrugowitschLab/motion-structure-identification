{
 "cells": [
  {
   "cell_type": "code",
   "execution_count": 1,
   "metadata": {
    "collapsed": true
   },
   "outputs": [],
   "source": [
    "from analysis.data_exp1 import DataExp1\n",
    "import numpy as np\n",
    "import matplotlib as mpl\n",
    "from scipy.stats import ttest_rel\n",
    "import matplotlib.pyplot as plt\n",
    "\n",
    "mpl.rc('font', **{'family': 'sans-serif', 'size': 20, 'weight': 'normal', 'sans-serif': ['Arial', 'LiberationSans-Regular', 'FreeSans']})"
   ]
  },
  {
   "cell_type": "code",
   "execution_count": 5,
   "outputs": [
    {
     "name": "stdout",
     "output_type": "stream",
     "text": [
      "1\n",
      "score by half: 122.0 / -30.0\n",
      "              I            G        C_012        C_120        C_201  \\\n",
      "0   2286.078417  2957.326217  2613.491717  2609.662336  2598.742607   \n",
      "1   2241.086952  1464.260919  2597.880521  1453.413949  1469.027516   \n",
      "2   2263.674165 -6089.315466 -1948.149559 -2744.680236 -1063.077859   \n",
      "3   2176.021828  2910.734984  2538.370820  2518.954309  2527.724175   \n",
      "4   2155.499220  1233.571616  2492.923331  1256.613660  1293.820262   \n",
      "..          ...          ...          ...          ...          ...   \n",
      "95  2255.069860  1167.626586  2595.380932  1224.846381  1253.151162   \n",
      "96  2231.715154  2973.508246  2581.745746  2585.183619  2587.024675   \n",
      "97  2250.909268 -5988.374775 -1019.307420 -2238.610354 -2386.656609   \n",
      "98  2237.574331 -3399.733924  2585.379771 -2095.381954 -2258.884890   \n",
      "99  2223.398619 -3323.870562  2563.434914 -2043.306214 -2188.222830   \n",
      "\n",
      "          H_012        H_120        H_201 ground_truth choice confidence  \n",
      "0   2739.406757  2736.289464  2724.979419            G      H       high  \n",
      "1   2680.152023  1574.671509  1589.550888            H      G       high  \n",
      "2  -2003.778715 -2776.951158 -1149.584816            I      H       high  \n",
      "3   2696.473347  2678.086563  2684.772016            G      I       high  \n",
      "4   2593.452155  1400.168933  1437.250243            H      C       high  \n",
      "..          ...          ...          ...          ...    ...        ...  \n",
      "95  2663.556858  1337.442686  1364.676062            H      C       high  \n",
      "96  2725.740678  2729.434816  2730.885210            G      I       high  \n",
      "97 -1100.799298 -2278.256583 -2421.656735            I      G       high  \n",
      "98  2478.511865 -2035.490684 -2194.062039            C      G       high  \n",
      "99  2463.774142 -1977.422106 -2118.581211            C      I       high  \n",
      "\n",
      "[100 rows x 11 columns]\n",
      "score by reps: 1.0 / -5.0\n",
      "accuracy by half: 0.73 / 0.23\n",
      "accuracy by reps: 0.3 / 0.3\n",
      "Ttest_relResult(statistic=nan, pvalue=nan)\n"
     ]
    },
    {
     "name": "stderr",
     "output_type": "stream",
     "text": [
      "/usr/local/lib/python3.8/dist-packages/numpy/core/fromnumeric.py:3621: RuntimeWarning: Degrees of freedom <= 0 for slice\n",
      "  return _methods._var(a, axis=axis, dtype=dtype, out=out, ddof=ddof,\n",
      "/usr/local/lib/python3.8/dist-packages/numpy/core/_methods.py:226: RuntimeWarning: invalid value encountered in double_scalars\n",
      "  ret = ret.dtype.type(ret / rcount)\n"
     ]
    },
    {
     "data": {
      "text/plain": "<Figure size 432x432 with 1 Axes>",
      "image/png": "[encoded data removed]"
     },
     "metadata": {
      "needs_background": "light"
     },
     "output_type": "display_data"
    }
   ],
   "source": [
    "acc_rep1, acc_rep2 = [], []\n",
    "for pid in DataExp1.pids[:1]:\n",
    "    print(pid)\n",
    "    data = DataExp1(pid)\n",
    "    match = data.match()\n",
    "    print('score by half: ', end='')\n",
    "    data.idx = np.arange(0, 100)\n",
    "    print(sum(data.score()), end=' / ')\n",
    "    data.idx = np.arange(100, 200)\n",
    "    print(sum(data.score()))\n",
    "    print(data.apply_kalman_filters())\n",
    "    print('score by reps: ', end='')\n",
    "    data.idx = match[:, 0]\n",
    "    print(sum(data.score()), end=' / ')\n",
    "    data.idx = match[:, 1]\n",
    "    print(sum(data.score()))\n",
    "    print('accuracy by half: ', end='')\n",
    "    data.idx = np.arange(0, 100)\n",
    "    print(sum(data.score() > 0) / 100, end=' / ')\n",
    "    data.idx = np.arange(100, 200)\n",
    "    print(sum(data.score() > 0) / 100)\n",
    "    print('accuracy by reps: ', end='')\n",
    "    data.idx = match[:, 0]\n",
    "    acc_rep1.append(sum(data.score() > 0) / 100)\n",
    "    print(sum(data.score() > 0) / 100, end=' / ')\n",
    "    data.idx = match[:, 1]\n",
    "    acc_rep2.append(sum(data.score() > 0) / 100)\n",
    "    print(sum(data.score() > 0) / 100)\n",
    "\n",
    "x, y = acc_rep1, acc_rep2\n",
    "print(ttest_rel(x, y))\n",
    "\n",
    "_, ax = plt.subplots(figsize=(6,6))\n",
    "plt.scatter(x, y, color='k', s=32)\n",
    "xy_min, xy_max = 0, 1\n",
    "plt.plot([xy_min, xy_max], [xy_min, xy_max], ':', color='gray')\n",
    "ax.set_xlim((xy_min, xy_max))\n",
    "ax.set_ylim((xy_min, xy_max))\n",
    "ax.set_xlabel('Accuracy 1st repetition')\n",
    "ax.set_ylabel('Accuracy 2nd repetition')\n",
    "ax.axis('equal')\n",
    "plt.tight_layout()\n",
    "plt.show()\n",
    "# plt.savefig('../pub/eLife/figs/accuracy_by_repetition.pdf', transparent=True)"
   ],
   "metadata": {
    "collapsed": false,
    "pycharm": {
     "name": "#%%\n"
    }
   }
  },
  {
   "cell_type": "code",
   "execution_count": null,
   "outputs": [],
   "source": [
    "conf_rep1, conf_rep2 = [], []\n",
    "for pid in DataExp1.pids:\n",
    "    data = DataExp1(pid)\n",
    "    match = data.match()\n",
    "    print('confidence by reps: ', end='')\n",
    "    conf_rep1.append(sum(data.df['confidence'][match[:, 0]] == 'high') / 100)\n",
    "    print(conf_rep1[-1], end=' / ')\n",
    "    data.idx = match[:, 1]\n",
    "    conf_rep2.append(sum(data.df['confidence'][match[:, 1]] == 'high') / 100)\n",
    "\n",
    "x, y = conf_rep1, conf_rep2\n",
    "from scipy.stats import ttest_rel\n",
    "print(ttest_rel(x, y))\n",
    "_, ax = plt.subplots(figsize=(6,6))\n",
    "plt.scatter(x, y, color='k', s=32)\n",
    "xy_min, xy_max = 0, 1\n",
    "plt.plot([xy_min, xy_max], [xy_min, xy_max], ':', color='gray')\n",
    "ax.set_xlim((xy_min, xy_max))\n",
    "ax.set_ylim((xy_min, xy_max))\n",
    "ax.set_xlabel('Avg. confidence 1st repetition')\n",
    "ax.set_ylabel('Avg. confidence 2nd repetition')\n",
    "ax.axis('equal')\n",
    "plt.tight_layout()\n",
    "plt.show()\n",
    "# plt.savefig('../pub/eLife/figs/confidence_by_repetition.pdf', transparent=True)"
   ],
   "metadata": {
    "collapsed": false,
    "pycharm": {
     "name": "#%%\n"
    }
   }
  }
 ],
 "metadata": {
  "kernelspec": {
   "name": "python3",
   "language": "python",
   "display_name": "Python 3"
  },
  "language_info": {
   "codemirror_mode": {
    "name": "ipython",
    "version": 2
   },
   "file_extension": ".py",
   "mimetype": "text/x-python",
   "name": "python",
   "nbconvert_exporter": "python",
   "pygments_lexer": "ipython2",
   "version": "2.7.6"
  }
 },
 "nbformat": 4,
 "nbformat_minor": 0
}